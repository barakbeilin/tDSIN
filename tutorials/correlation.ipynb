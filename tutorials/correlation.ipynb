{
 "cells": [
  {
   "cell_type": "code",
   "execution_count": 1,
   "metadata": {
    "scrolled": true
   },
   "outputs": [],
   "source": [
    "%load_ext autoreload\n",
    "%autoreload 2"
   ]
  },
  {
   "cell_type": "code",
   "execution_count": 39,
   "metadata": {
    "scrolled": true
   },
   "outputs": [],
   "source": [
    "import torch\n",
    "from torch import nn\n",
    "from torch.nn import functional as F "
   ]
  },
  {
   "cell_type": "code",
   "execution_count": 99,
   "metadata": {
    "scrolled": true
   },
   "outputs": [
    {
     "name": "stdout",
     "output_type": "stream",
     "text": [
      "unfold=Unfold(kernel_size=24, dilation=1, padding=0, stride=24)\n",
      "x.size()=torch.Size([1, 3, 96, 96])\n",
      "vectorized_patches.size()=torch.Size([1, 1728, 16])\n",
      "24*24*3=1728\n",
      "96//24=4\n",
      "patches.size()=torch.Size([16, 3, 24, 24])\n",
      "l.weight.shape=torch.Size([16, 3, 24, 24])\n"
     ]
    }
   ],
   "source": [
    "unfold = nn.Unfold(kernel_size=24,stride=24)\n",
    "print(f\"{unfold=}\")\n",
    "\n",
    "# x = torch.stack([torch.eye(n=24),torch.eye(n=24) *2 ,torch.eye(n=24) *3 ]).repeat(1,4,4).unsqueeze_(0)\n",
    "x = torch.rand(1,3,96,96)\n",
    "print(f\"{x.size()=}\")\n",
    "# create tensor of patches of x , here we have 16 patches \n",
    "vectorized_patches = unfold(x)\n",
    "\n",
    "print(f\"{vectorized_patches.size()=}\")\n",
    "print(f\"{24*24*3=}\")\n",
    "print(f\"{96//24=}\")\n",
    "\n",
    "patches = vectorized_patches.view(1,3,24,24,16)\n",
    "\n",
    "patches = patches[0,:,:,:,:].permute(3, 0, 1, 2)\n",
    "print(f\"{patches.size()=}\")\n",
    "\n",
    "# create this module to see show myself what is the correct weight dims of out_channels = 16\n",
    "l = nn.Conv2d(\n",
    "    in_channels = 3,\n",
    "    out_channels = 16,\n",
    "    kernel_size = 24,\n",
    "    stride=1,\n",
    "    padding=0,\n",
    "    dilation=1,\n",
    "    groups=1,\n",
    "    bias=False,\n",
    "    padding_mode='zeros',\n",
    ")\n",
    "print(f\"{l.weight.shape=}\")\n",
    "\n",
    "\n",
    "\n",
    "\n",
    "# print(f\")"
   ]
  },
  {
   "cell_type": "code",
   "execution_count": 107,
   "metadata": {
    "scrolled": true
   },
   "outputs": [
    {
     "name": "stdout",
     "output_type": "stream",
     "text": [
      "x.shape=torch.Size([1, 3, 96, 96])\n",
      "output.shape=torch.Size([1, 16, 73, 73])\n",
      "torch.argmax(torch.argmax(output, dim=-1), dim= -1)=tensor([[19, 18, 14, 23, 21, 18, 17, 24, 21, 21, 14, 48, 17, 18, 20, 72]])\n",
      "torch.argmax(torch.argmax(output, dim=-1), dim= -1).shape=torch.Size([1, 16])\n"
     ]
    }
   ],
   "source": [
    "output = F.conv2d(x,weight = patches)#,stride= 24)\n",
    "print(f\"{x.shape=}\")\n",
    "print(f\"{output.shape=}\")\n",
    "print(f\"{torch.argmax(torch.argmax(output, dim=-1), dim= -1)=}\")\n",
    "print(f\"{torch.argmax(torch.argmax(output, dim=-1), dim= -1).shape=}\")"
   ]
  },
  {
   "cell_type": "code",
   "execution_count": 91,
   "metadata": {
    "scrolled": true
   },
   "outputs": [
    {
     "data": {
      "text/plain": [
       "torch.Size([16, 3, 24, 24])"
      ]
     },
     "execution_count": 91,
     "metadata": {},
     "output_type": "execute_result"
    }
   ],
   "source": []
  },
  {
   "cell_type": "code",
   "execution_count": 118,
   "metadata": {},
   "outputs": [
    {
     "name": "stdout",
     "output_type": "stream",
     "text": [
      "tensor([[[[8., 6.],\n",
      "          [2., 2.],\n",
      "          [7., 2.]],\n",
      "\n",
      "         [[1., 5.],\n",
      "          [2., 6.],\n",
      "          [1., 1.]],\n",
      "\n",
      "         [[8., 4.],\n",
      "          [4., 9.],\n",
      "          [2., 2.]],\n",
      "\n",
      "         [[8., 7.],\n",
      "          [7., 9.],\n",
      "          [5., 6.]]]])\n"
     ]
    }
   ],
   "source": [
    "x= torch.round(torch.rand([1,4,3,2])*10)\n",
    "print(x)\n",
    "# print(x ** 2)"
   ]
  },
  {
   "cell_type": "code",
   "execution_count": 119,
   "metadata": {},
   "outputs": [
    {
     "data": {
      "text/plain": [
       "tensor([[4.5000, 2.6667, 4.8333, 7.0000]])"
      ]
     },
     "execution_count": 119,
     "metadata": {},
     "output_type": "execute_result"
    }
   ],
   "source": [
    "torch.mean(x,dim=(-1,-2))"
   ]
  },
  {
   "cell_type": "code",
   "execution_count": 122,
   "metadata": {},
   "outputs": [],
   "source": [
    "a = torch.randn([1,4,5,6])"
   ]
  },
  {
   "cell_type": "code",
   "execution_count": 124,
   "metadata": {},
   "outputs": [
    {
     "data": {
      "text/plain": [
       "torch.Size([1, 6])"
      ]
     },
     "execution_count": 124,
     "metadata": {},
     "output_type": "execute_result"
    }
   ],
   "source": [
    "torch.ones((a.shape[0],a.shape[-1]),dtype=torch.float32).shape"
   ]
  },
  {
   "cell_type": "code",
   "execution_count": null,
   "metadata": {},
   "outputs": [],
   "source": []
  }
 ],
 "metadata": {
  "kernelspec": {
   "display_name": "Python 3.8.2 64-bit ('torch': conda)",
   "language": "python",
   "name": "python38264bittorchconda5a49bb01e90b47d3b7ca1c7fc4dc1607"
  },
  "language_info": {
   "codemirror_mode": {
    "name": "ipython",
    "version": 3
   },
   "file_extension": ".py",
   "mimetype": "text/x-python",
   "name": "python",
   "nbconvert_exporter": "python",
   "pygments_lexer": "ipython3",
   "version": "3.8.2"
  }
 },
 "nbformat": 4,
 "nbformat_minor": 4
}
