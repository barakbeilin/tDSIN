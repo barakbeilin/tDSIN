{
 "cells": [
  {
   "cell_type": "code",
   "execution_count": 1,
   "metadata": {},
   "outputs": [],
   "source": [
    "%load_ext autoreload\n",
    "%autoreload 2"
   ]
  },
  {
   "cell_type": "code",
   "execution_count": 39,
   "metadata": {},
   "outputs": [],
   "source": [
    "import torch\n",
    "from torch import nn\n",
    "from torch.nn import functional as F "
   ]
  },
  {
   "cell_type": "code",
   "execution_count": 34,
   "metadata": {},
   "outputs": [
    {
     "name": "stdout",
     "output_type": "stream",
     "text": [
      "x.size()=torch.Size([1, 3, 96, 96])\n",
      "vectorized_patches.size()=torch.Size([1, 1728, 16])\n",
      "24*24*3=1728\n",
      "96//24=4\n",
      "patch.size()=torch.Size([1, 3, 24, 24, 16])\n",
      "patch[:,:,:,:,0].size()=torch.Size([1, 3, 24, 24])\n"
     ]
    }
   ],
   "source": [
    "unfold = nn.Unfold(kernel_size=(24, 24),stride=(24,24))\n",
    "x = torch.stack([torch.eye(n=24),torch.eye(n=24) *2 ,torch.eye(n=24) *3 ]).repeat(1,4,4).unsqueeze_(0)\n",
    "print(f\"{x.size()=}\")\n",
    "# create tensor of patches of x , here we have 16 patches \n",
    "vectorized_patches = unfold(x)\n",
    "\n",
    "print(f\"{vectorized_patches.size()=}\")\n",
    "print(f\"{24*24*3=}\")\n",
    "print(f\"{96//24=}\")\n",
    "\n",
    "patch = vectorized_patches.view(1,3,24,24,16)\n",
    "print(f\"{patch.size()=}\")\n",
    "print(f\"{patch[:,:,:,:,0].size()=}\")\n"
   ]
  },
  {
   "cell_type": "code",
   "execution_count": 37,
   "metadata": {},
   "outputs": [
    {
     "name": "stdout",
     "output_type": "stream",
     "text": [
      "conv.weight.size()=torch.Size([1, 3, 24, 24])\n"
     ]
    }
   ],
   "source": [
    "conv = nn.Conv2d(\n",
    "    in_channels = 3,\n",
    "    out_channels = 1,\n",
    "    kernel_size= 24,\n",
    "    stride=24,\n",
    "    padding=0,\n",
    "    dilation=1,\n",
    "    groups=1,\n",
    "    bias=False,\n",
    "    padding_mode='replicate',\n",
    ")\n",
    "print(f\"{conv.weight.size()=}\")\n",
    "with torch.no_grad():\n",
    "    conv.weight = nn.Parameter(patch[:,:,:,:,0])\n",
    "\n"
   ]
  },
  {
   "cell_type": "code",
   "execution_count": 28,
   "metadata": {},
   "outputs": [],
   "source": [
    "nn.Conv2d?"
   ]
  },
  {
   "cell_type": "code",
   "execution_count": null,
   "metadata": {},
   "outputs": [],
   "source": []
  }
 ],
 "metadata": {
  "kernelspec": {
   "display_name": "Python 3.8.2 64-bit ('torch': conda)",
   "language": "python",
   "name": "python38264bittorchconda5a49bb01e90b47d3b7ca1c7fc4dc1607"
  },
  "language_info": {
   "codemirror_mode": {
    "name": "ipython",
    "version": 3
   },
   "file_extension": ".py",
   "mimetype": "text/x-python",
   "name": "python",
   "nbconvert_exporter": "python",
   "pygments_lexer": "ipython3",
   "version": "3.8.2"
  }
 },
 "nbformat": 4,
 "nbformat_minor": 4
}
