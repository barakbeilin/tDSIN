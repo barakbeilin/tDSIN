{
 "cells": [
  {
   "cell_type": "code",
   "execution_count": 1,
   "metadata": {},
   "outputs": [],
   "source": [
    "%reload_ext autoreload\n",
    "%autoreload 2"
   ]
  },
  {
   "cell_type": "code",
   "execution_count": 2,
   "metadata": {},
   "outputs": [],
   "source": [
    "from fastai import *\n",
    "from fastai.vision import *\n",
    "# from fastai.callbacks import *\n",
    "\n",
    "import torch\n",
    "from torch import nn\n",
    "from dsin.ae.data_manager.data_loader import (\n",
    "    SideinformationImageImageList, ImageSiTuple)\n",
    "from dsin.ae import config\n",
    "from dsin.ae.base_ae import BaseAutoEncoder\n",
    "from dsin.ae.si_net import SiNetChannelIn\n",
    "from dsin.ae.loss_man import LossManager\n",
    "from dsin.ae.distortions import Distortions, DistTypes\n",
    "from dsin.ae.kitti_normalizer import ChangeImageStatsToKitti, ChangeState\n",
    "from dsin.ae import config\n",
    "\n",
    "from dsin.train_utils.visibilty_utils.logger_cb_utils import setup_file_logger\n",
    "from dsin.train_utils.visibilty_utils.pbar_cb_utils import (AverageMetric,\n",
    "                                            ParameterMetricCallback,\n",
    "                                            ProgressBarAttibuteVisualizer,\n",
    "                                            ParameterRunningAverageMetricCallback,\n",
    "                                            BitEntropy\n",
    "                                           )\n",
    "from dsin.train_utils.save_utils import FileNameGenerator"
   ]
  },
  {
   "cell_type": "code",
   "execution_count": 3,
   "metadata": {},
   "outputs": [
    {
     "data": {
      "text/plain": [
       "500"
      ]
     },
     "execution_count": 3,
     "metadata": {},
     "output_type": "execute_result"
    }
   ],
   "source": [
    "bpp = 0.3\n",
    "H_target = 2* bpp\n",
    "# config.autoencoder_loss_distortion_to_minimize=DistTypes.MS_SSMIM\n",
    "config.K_MS_SSIM=500\n",
    "config.beta"
   ]
  },
  {
   "cell_type": "code",
   "execution_count": 4,
   "metadata": {},
   "outputs": [],
   "source": [
    "logger = setup_file_logger()"
   ]
  },
  {
   "cell_type": "code",
   "execution_count": 5,
   "metadata": {},
   "outputs": [],
   "source": [
    "config.use_si_flag = SiNetChannelIn.WithSideInformation"
   ]
  },
  {
   "cell_type": "code",
   "execution_count": 6,
   "metadata": {},
   "outputs": [],
   "source": [
    "baseline_autoencoder = BaseAutoEncoder()\n",
    "path = \"../src/dsin/data\"\n",
    "pct= 1 # 0.0005 #0.25\n",
    "\n",
    "valid_image_list = SideinformationImageImageList.from_csv(\n",
    "    path=path, csv_names=[\"KITTI_baseline_val.txt\"],pct=pct/10)\n",
    "train_image_list = SideinformationImageImageList.from_csv(\n",
    "    path=path, csv_names=[\"KITTI_baseline_train.txt\"],pct=pct)\n",
    "\n",
    "image_lists = ItemLists(\n",
    "    path=path, train=train_image_list, valid=valid_image_list)\n",
    "\n",
    "\n",
    "tfms =  get_transforms(do_flip=True,\n",
    "                       flip_vert=False,\n",
    "                       max_rotate=False,\n",
    "                       max_zoom=0,\n",
    "                       max_lighting=False,\n",
    "                       max_warp=False)\n",
    "batchsize = 32\n",
    "\n",
    "data = (image_lists\n",
    "        .label_from_func(lambda x: x)\n",
    "        .transform(tfms, size=(192, 192), resize_method=ResizeMethod.CROP, tfm_y=True)\n",
    "        .databunch(bs=batchsize))\n",
    "learn = None\n",
    "gc.collect()\n",
    "learn = Learner(data=data,\n",
    "                     model=baseline_autoencoder,\n",
    "                     opt_func=torch.optim.Adam,\n",
    "                     loss_func=LossManager(baseline_autoencoder,SiNetChannelIn.NoSideInformation,target_bit_cost = H_target),\n",
    "                     metrics=[AverageMetric(Distortions._calc_dist,\"MS_SSIM\")])"
   ]
  },
  {
   "cell_type": "code",
   "execution_count": 7,
   "metadata": {},
   "outputs": [
    {
     "data": {
      "text/plain": [
       "'2020-09-03try2-MAE-l2reg-baseline-bpp0p30'"
      ]
     },
     "execution_count": 7,
     "metadata": {},
     "output_type": "execute_result"
    }
   ],
   "source": [
    "model_fname =FileNameGenerator.create_fname(f'try2-MAE-l2reg-baseline-bpp0p{bpp*100:.0f}')\n",
    "lrs = [1e-4] *4 + [1e-5] * 3 + [1e-6] *2 \n",
    "model_fname"
   ]
  },
  {
   "cell_type": "code",
   "execution_count": null,
   "metadata": {},
   "outputs": [
    {
     "data": {
      "text/html": [
       "<table border=\"1\" class=\"dataframe\">\n",
       "  <thead>\n",
       "    <tr style=\"text-align: left;\">\n",
       "      <th>epoch</th>\n",
       "      <th>train_loss</th>\n",
       "      <th>valid_loss</th>\n",
       "      <th>MS_SSIM</th>\n",
       "      <th>time</th>\n",
       "    </tr>\n",
       "  </thead>\n",
       "  <tbody>\n",
       "    <tr>\n",
       "      <td>0</td>\n",
       "      <td>213.978836</td>\n",
       "      <td>236.694687</td>\n",
       "      <td>0.555346</td>\n",
       "      <td>08:10</td>\n",
       "    </tr>\n",
       "  </tbody>\n",
       "</table>"
      ],
      "text/plain": [
       "<IPython.core.display.HTML object>"
      ]
     },
     "metadata": {},
     "output_type": "display_data"
    },
    {
     "name": "stdout",
     "output_type": "stream",
     "text": [
      "iter 0: bpp = 0.100 imp-mean-var(0.50 0.25) total loss808.9  l2reg_loss=18.4autoencoder_loss_value=89.3si_loss=0.0feat_loss_value=0.0\n",
      "iter 500: bpp = 0.564 imp-mean-var(0.06 0.05) total loss318.3  l2reg_loss=17.3autoencoder_loss_value=36.9si_loss=0.0feat_loss_value=0.0\n",
      "iter 1000: bpp = 0.459 imp-mean-var(0.07 0.06) total loss224.4  l2reg_loss=16.6autoencoder_loss_value=31.4si_loss=0.0feat_loss_value=0.0\n"
     ]
    },
    {
     "data": {
      "text/html": [
       "<table border=\"1\" class=\"dataframe\">\n",
       "  <thead>\n",
       "    <tr style=\"text-align: left;\">\n",
       "      <th>epoch</th>\n",
       "      <th>train_loss</th>\n",
       "      <th>valid_loss</th>\n",
       "      <th>MS_SSIM</th>\n",
       "      <th>time</th>\n",
       "    </tr>\n",
       "  </thead>\n",
       "  <tbody>\n",
       "    <tr>\n",
       "      <td>0</td>\n",
       "      <td>45.436420</td>\n",
       "      <td>39.629768</td>\n",
       "      <td>0.360741</td>\n",
       "      <td>08:10</td>\n",
       "    </tr>\n",
       "  </tbody>\n",
       "</table>"
      ],
      "text/plain": [
       "<IPython.core.display.HTML object>"
      ]
     },
     "metadata": {},
     "output_type": "display_data"
    },
    {
     "name": "stdout",
     "output_type": "stream",
     "text": [
      "iter 0: bpp = 0.047 imp-mean-var(0.06 0.05) total loss223.0  l2reg_loss=16.6autoencoder_loss_value=40.2si_loss=0.0feat_loss_value=0.0\n",
      "iter 500: bpp = 0.357 imp-mean-var(0.03 0.03) total loss93.4  l2reg_loss=16.1autoencoder_loss_value=26.5si_loss=0.0feat_loss_value=0.0\n",
      "iter 1000: bpp = 0.304 imp-mean-var(0.05 0.05) total loss45.7  l2reg_loss=15.7autoencoder_loss_value=23.2si_loss=0.0feat_loss_value=0.0\n",
      "upload: ../src/dsin/data/models/2020-09-03try2-MAE-l2reg-baseline-bpp0p30-1.pth to s3://dsin-us/models/2020-09-03try2-MAE-l2reg-baseline-bpp0p30-1.pth\n",
      "upload: ./out.log to s3://dsin-us/models/2020-09-03try2-MAE-l2reg-baseline-bpp0p30.log\n"
     ]
    },
    {
     "data": {
      "text/html": [
       "<table border=\"1\" class=\"dataframe\">\n",
       "  <thead>\n",
       "    <tr style=\"text-align: left;\">\n",
       "      <th>epoch</th>\n",
       "      <th>train_loss</th>\n",
       "      <th>valid_loss</th>\n",
       "      <th>MS_SSIM</th>\n",
       "      <th>time</th>\n",
       "    </tr>\n",
       "  </thead>\n",
       "  <tbody>\n",
       "    <tr>\n",
       "      <td>0</td>\n",
       "      <td>37.478390</td>\n",
       "      <td>35.672863</td>\n",
       "      <td>0.288327</td>\n",
       "      <td>08:09</td>\n",
       "    </tr>\n",
       "  </tbody>\n",
       "</table>"
      ],
      "text/plain": [
       "<IPython.core.display.HTML object>"
      ]
     },
     "metadata": {},
     "output_type": "display_data"
    },
    {
     "name": "stdout",
     "output_type": "stream",
     "text": [
      "iter 0: bpp = 0.031 imp-mean-var(0.05 0.05) total loss54.2  l2reg_loss=15.7autoencoder_loss_value=24.5si_loss=0.0feat_loss_value=0.0\n",
      "iter 500: bpp = 0.300 imp-mean-var(0.06 0.06) total loss43.3  l2reg_loss=15.3autoencoder_loss_value=21.4si_loss=0.0feat_loss_value=0.0\n",
      "iter 1000: bpp = 0.290 imp-mean-var(0.05 0.05) total loss34.6  l2reg_loss=14.9autoencoder_loss_value=20.5si_loss=0.0feat_loss_value=0.0\n",
      "upload: ../src/dsin/data/models/2020-09-03try2-MAE-l2reg-baseline-bpp0p30-2.pth to s3://dsin-us/models/2020-09-03try2-MAE-l2reg-baseline-bpp0p30-2.pth\n",
      "upload: ./out.log to s3://dsin-us/models/2020-09-03try2-MAE-l2reg-baseline-bpp0p30.log\n"
     ]
    },
    {
     "data": {
      "text/html": [
       "\n",
       "    <div>\n",
       "        <style>\n",
       "            /* Turns off some styling */\n",
       "            progress {\n",
       "                /* gets rid of default border in Firefox and Opera. */\n",
       "                border: none;\n",
       "                /* Needs to be in here for Safari polyfill so background images work as expected. */\n",
       "                background-size: auto;\n",
       "            }\n",
       "            .progress-bar-interrupted, .progress-bar-interrupted::-webkit-progress-bar {\n",
       "                background: #F44336;\n",
       "            }\n",
       "        </style>\n",
       "      <progress value='0' class='' max='1', style='width:300px; height:20px; vertical-align: middle;'></progress>\n",
       "      0.00% [0/1 00:00<00:00]\n",
       "    </div>\n",
       "    \n",
       "<table border=\"1\" class=\"dataframe\">\n",
       "  <thead>\n",
       "    <tr style=\"text-align: left;\">\n",
       "      <th>epoch</th>\n",
       "      <th>train_loss</th>\n",
       "      <th>valid_loss</th>\n",
       "      <th>MS_SSIM</th>\n",
       "      <th>time</th>\n",
       "    </tr>\n",
       "  </thead>\n",
       "  <tbody>\n",
       "  </tbody>\n",
       "</table><p>\n",
       "\n",
       "    <div>\n",
       "        <style>\n",
       "            /* Turns off some styling */\n",
       "            progress {\n",
       "                /* gets rid of default border in Firefox and Opera. */\n",
       "                border: none;\n",
       "                /* Needs to be in here for Safari polyfill so background images work as expected. */\n",
       "                background-size: auto;\n",
       "            }\n",
       "            .progress-bar-interrupted, .progress-bar-interrupted::-webkit-progress-bar {\n",
       "                background: #F44336;\n",
       "            }\n",
       "        </style>\n",
       "      <progress value='628' class='' max='1007', style='width:300px; height:20px; vertical-align: middle;'></progress>\n",
       "      62.36% [628/1007 05:05<03:04 35.4056 avg_bpp: 0.2880 imp-mean-var(0.07 0.06)bitcost_loss=0.0 qcent_loss=0.4 l2reg_loss=14.5 autoencoder_loss_value=21.8 si_loss=0.0 feat_loss_value=0.0mssim=0.287091]\n",
       "    </div>\n",
       "    "
      ],
      "text/plain": [
       "<IPython.core.display.HTML object>"
      ]
     },
     "metadata": {},
     "output_type": "display_data"
    },
    {
     "name": "stdout",
     "output_type": "stream",
     "text": [
      "iter 0: bpp = 0.031 imp-mean-var(0.07 0.07) total loss44.3  l2reg_loss=14.9autoencoder_loss_value=20.3si_loss=0.0feat_loss_value=0.0\n",
      "iter 500: bpp = 0.290 imp-mean-var(0.06 0.06) total loss36.7  l2reg_loss=14.6autoencoder_loss_value=19.5si_loss=0.0feat_loss_value=0.0\n"
     ]
    }
   ],
   "source": [
    "config.si_loss_weight_alpha = 0\n",
    "learn.model.use_side_infomation = SiNetChannelIn.NoSideInformation\n",
    "learn.loss_func.use_side_infomation = SiNetChannelIn.NoSideInformation\n",
    "    \n",
    "offset = 0\n",
    "for i,lr in zip(range(offset,len(lrs)),lrs[offset:]):\n",
    "    if i != 0 :\n",
    "        learn.load(f'{model_fname}-{i - 1}',with_opt=True)\n",
    "    learn.fit(1, lr=lr,wd=0,callbacks=[ParameterRunningAverageMetricCallback(learn.loss_func,use_si=False),BitEntropy(loss_man=learn.loss_func,logger=logger,use_si=False)])\n",
    "    \n",
    "    learn.save(f'{model_fname}-{i}')\n",
    "    if i % 3 or i == len(lrs) - 1:\n",
    "        !aws s3 cp ~/tDSIN/src/dsin/data/models/{model_fname}-{i}.pth  s3://dsin-us/models/\n",
    "        !aws s3 cp ~/tDSIN/tutorials/out.log s3://dsin-us/models/{model_fname}.log\n"
   ]
  },
  {
   "cell_type": "code",
   "execution_count": null,
   "metadata": {},
   "outputs": [],
   "source": [
    "learn.save(f'{model_fname}-{i}')\n",
    "\n",
    "!aws s3 cp ~/tDSIN/src/dsin/data/models/{model_fname}-{i}.pth  s3://dsin-us/models/\n",
    "!aws s3 cp ~/tDSIN/tutorials/out.log s3://dsin-us/models/{model_fname}.log\n"
   ]
  },
  {
   "cell_type": "code",
   "execution_count": null,
   "metadata": {},
   "outputs": [],
   "source": [
    "mt = learn.model.my_tuple[-3][0,...].squeeze_().detach()\n",
    "mx, mn =torch.max(mt), torch.min(mt)\n",
    "show_image(Image(mt),figsize=(5,5))\n",
    "# # print(mn)"
   ]
  },
  {
   "cell_type": "code",
   "execution_count": null,
   "metadata": {},
   "outputs": [],
   "source": [
    "mt = learn.model.my_tuple[3][0,...].squeeze_().detach()\n",
    "mx, mn =torch.max(mt), torch.min(mt)\n",
    "show_image(Image(mt),figsize=(5,5))"
   ]
  },
  {
   "cell_type": "code",
   "execution_count": null,
   "metadata": {},
   "outputs": [],
   "source": []
  }
 ],
 "metadata": {
  "environment": {
   "name": "pytorch-gpu.1-4.m46",
   "type": "gcloud",
   "uri": "gcr.io/deeplearning-platform-release/pytorch-gpu.1-4:m46"
  },
  "kernelspec": {
   "display_name": "Python 3",
   "language": "python",
   "name": "python3"
  },
  "language_info": {
   "codemirror_mode": {
    "name": "ipython",
    "version": 3
   },
   "file_extension": ".py",
   "mimetype": "text/x-python",
   "name": "python",
   "nbconvert_exporter": "python",
   "pygments_lexer": "ipython3",
   "version": "3.7.7"
  }
 },
 "nbformat": 4,
 "nbformat_minor": 4
}
