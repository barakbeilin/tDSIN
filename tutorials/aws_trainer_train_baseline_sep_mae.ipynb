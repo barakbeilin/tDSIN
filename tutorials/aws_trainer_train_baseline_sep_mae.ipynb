{
 "cells": [
  {
   "cell_type": "code",
   "execution_count": 1,
   "metadata": {},
   "outputs": [],
   "source": [
    "%reload_ext autoreload\n",
    "%autoreload 2"
   ]
  },
  {
   "cell_type": "code",
   "execution_count": 2,
   "metadata": {},
   "outputs": [],
   "source": [
    "from fastai import *\n",
    "from fastai.vision import *\n",
    "# from fastai.callbacks import *\n",
    "\n",
    "import torch\n",
    "from torch import nn\n",
    "from dsin.ae.data_manager.data_loader import (\n",
    "    SideinformationImageImageList, ImageSiTuple)\n",
    "from dsin.ae import config\n",
    "from dsin.ae.base_ae import BaseAutoEncoder\n",
    "from dsin.ae.si_net import SiNetChannelIn\n",
    "from dsin.ae.loss_man import LossManager\n",
    "from dsin.ae.distortions import Distortions, DistTypes\n",
    "from dsin.ae.kitti_normalizer import ChangeImageStatsToKitti, ChangeState\n",
    "from dsin.ae import config\n",
    "\n",
    "from dsin.train_utils.visibilty_utils.logger_cb_utils import setup_file_logger\n",
    "from dsin.train_utils.visibilty_utils.pbar_cb_utils import (AverageMetric,\n",
    "                                            ParameterMetricCallback,\n",
    "                                            ProgressBarAttibuteVisualizer,\n",
    "                                            ParameterRunningAverageMetricCallback,\n",
    "                                            BitEntropy\n",
    "                                           )\n",
    "from dsin.train_utils.save_utils import FileNameGenerator"
   ]
  },
  {
   "cell_type": "code",
   "execution_count": 3,
   "metadata": {},
   "outputs": [
    {
     "data": {
      "text/plain": [
       "500"
      ]
     },
     "execution_count": 3,
     "metadata": {},
     "output_type": "execute_result"
    }
   ],
   "source": [
    "bpp = 0.3\n",
    "H_target = 2* bpp\n",
    "# config.autoencoder_loss_distortion_to_minimize=DistTypes.MS_SSMIM\n",
    "config.K_MS_SSIM=500\n",
    "config.beta"
   ]
  },
  {
   "cell_type": "code",
   "execution_count": 4,
   "metadata": {},
   "outputs": [],
   "source": [
    "logger = setup_file_logger()"
   ]
  },
  {
   "cell_type": "code",
   "execution_count": 5,
   "metadata": {},
   "outputs": [],
   "source": [
    "config.use_si_flag = SiNetChannelIn.WithSideInformation"
   ]
  },
  {
   "cell_type": "code",
   "execution_count": 6,
   "metadata": {},
   "outputs": [
    {
     "data": {
      "text/plain": [
       "99"
      ]
     },
     "execution_count": 6,
     "metadata": {},
     "output_type": "execute_result"
    }
   ],
   "source": [
    "learn = None\n",
    "gc.collect()"
   ]
  },
  {
   "cell_type": "code",
   "execution_count": 7,
   "metadata": {},
   "outputs": [],
   "source": [
    "baseline_autoencoder = BaseAutoEncoder()\n",
    "path = \"../src/dsin/data\"\n",
    "pct= 1 # 0.0005 #0.25\n",
    "\n",
    "valid_image_list = SideinformationImageImageList.from_csv(\n",
    "    path=path, csv_names=[\"KITTI_baseline_val.txt\"],pct=pct/10)\n",
    "train_image_list = SideinformationImageImageList.from_csv(\n",
    "    path=path, csv_names=[\"KITTI_baseline_train.txt\"],pct=pct)\n",
    "\n",
    "image_lists = ItemLists(\n",
    "    path=path, train=train_image_list, valid=valid_image_list)\n",
    "\n",
    "\n",
    "tfms =  get_transforms(do_flip=True,\n",
    "                       flip_vert=False,\n",
    "                       max_rotate=False,\n",
    "                       max_zoom=0,\n",
    "                       max_lighting=False,\n",
    "                       max_warp=False)\n",
    "batchsize = 32\n",
    "\n",
    "data = (image_lists\n",
    "        .label_from_func(lambda x: x)\n",
    "        .transform(tfms, size=(192, 192), resize_method=ResizeMethod.CROP, tfm_y=True)\n",
    "        .databunch(bs=batchsize))\n",
    "learn = None\n",
    "gc.collect()\n",
    "learn = Learner(data=data,\n",
    "                     model=baseline_autoencoder,\n",
    "                     opt_func=torch.optim.Adam,\n",
    "                     loss_func=LossManager(baseline_autoencoder,SiNetChannelIn.NoSideInformation,target_bit_cost = H_target),\n",
    "                     metrics=[AverageMetric(Distortions._calc_dist,\"MS_SSIM\")])"
   ]
  },
  {
   "cell_type": "code",
   "execution_count": 8,
   "metadata": {},
   "outputs": [
    {
     "data": {
      "text/plain": [
       "'2020-09-04try2MSSIM-l2reg-baseline-bpp0p30'"
      ]
     },
     "execution_count": 8,
     "metadata": {},
     "output_type": "execute_result"
    }
   ],
   "source": [
    "model_fname =FileNameGenerator.create_fname(f'try2MSSIM-l2reg-baseline-bpp0p{bpp*100:.0f}')\n",
    "lrs = [1e-4] *3 + [1e-5] * 4 + [1e-6] *2 \n",
    "model_fname"
   ]
  },
  {
   "cell_type": "code",
   "execution_count": null,
   "metadata": {},
   "outputs": [
    {
     "data": {
      "text/html": [
       "<table border=\"1\" class=\"dataframe\">\n",
       "  <thead>\n",
       "    <tr style=\"text-align: left;\">\n",
       "      <th>epoch</th>\n",
       "      <th>train_loss</th>\n",
       "      <th>valid_loss</th>\n",
       "      <th>MS_SSIM</th>\n",
       "      <th>time</th>\n",
       "    </tr>\n",
       "  </thead>\n",
       "  <tbody>\n",
       "    <tr>\n",
       "      <td>0</td>\n",
       "      <td>632.952759</td>\n",
       "      <td>608.916016</td>\n",
       "      <td>0.126564</td>\n",
       "      <td>08:28</td>\n",
       "    </tr>\n",
       "  </tbody>\n",
       "</table>"
      ],
      "text/plain": [
       "<IPython.core.display.HTML object>"
      ]
     },
     "metadata": {},
     "output_type": "display_data"
    },
    {
     "name": "stdout",
     "output_type": "stream",
     "text": [
      "iter 0: bpp = 0.101 imp-mean-var(0.51 0.25) total loss1652.5  l2reg_loss=18.4autoencoder_loss_value=927.8si_loss=0.0feat_loss_value=0.0\n",
      "iter 500: bpp = 0.909 imp-mean-var(0.42 0.24) total loss765.4  l2reg_loss=18.3autoencoder_loss_value=142.6si_loss=0.0feat_loss_value=0.0\n",
      "iter 1000: bpp = 0.767 imp-mean-var(0.30 0.21) total loss616.2  l2reg_loss=18.0autoencoder_loss_value=128.8si_loss=0.0feat_loss_value=0.0\n"
     ]
    },
    {
     "data": {
      "text/html": [
       "<table border=\"1\" class=\"dataframe\">\n",
       "  <thead>\n",
       "    <tr style=\"text-align: left;\">\n",
       "      <th>epoch</th>\n",
       "      <th>train_loss</th>\n",
       "      <th>valid_loss</th>\n",
       "      <th>MS_SSIM</th>\n",
       "      <th>time</th>\n",
       "    </tr>\n",
       "  </thead>\n",
       "  <tbody>\n",
       "    <tr>\n",
       "      <td>0</td>\n",
       "      <td>222.333099</td>\n",
       "      <td>216.950653</td>\n",
       "      <td>0.127046</td>\n",
       "      <td>08:31</td>\n",
       "    </tr>\n",
       "  </tbody>\n",
       "</table>"
      ],
      "text/plain": [
       "<IPython.core.display.HTML object>"
      ]
     },
     "metadata": {},
     "output_type": "display_data"
    },
    {
     "name": "stdout",
     "output_type": "stream",
     "text": [
      "iter 0: bpp = 0.078 imp-mean-var(0.33 0.22) total loss634.7  l2reg_loss=18.0autoencoder_loss_value=136.3si_loss=0.0feat_loss_value=0.0\n",
      "iter 500: bpp = 0.468 imp-mean-var(0.10 0.08) total loss318.7  l2reg_loss=17.8autoencoder_loss_value=144.2si_loss=0.0feat_loss_value=0.0\n",
      "iter 1000: bpp = 0.369 imp-mean-var(0.09 0.08) total loss214.5  l2reg_loss=17.5autoencoder_loss_value=129.7si_loss=0.0feat_loss_value=0.0\n",
      "upload: ../src/dsin/data/models/2020-09-04try2MSSIM-l2reg-baseline-bpp0p30-1.pth to s3://dsin-us/models/2020-09-04try2MSSIM-l2reg-baseline-bpp0p30-1.pth\n",
      "upload: ./out.log to s3://dsin-us/models/2020-09-04try2MSSIM-l2reg-baseline-bpp0p30.log\n"
     ]
    },
    {
     "data": {
      "text/html": [
       "\n",
       "    <div>\n",
       "        <style>\n",
       "            /* Turns off some styling */\n",
       "            progress {\n",
       "                /* gets rid of default border in Firefox and Opera. */\n",
       "                border: none;\n",
       "                /* Needs to be in here for Safari polyfill so background images work as expected. */\n",
       "                background-size: auto;\n",
       "            }\n",
       "            .progress-bar-interrupted, .progress-bar-interrupted::-webkit-progress-bar {\n",
       "                background: #F44336;\n",
       "            }\n",
       "        </style>\n",
       "      <progress value='0' class='' max='1', style='width:300px; height:20px; vertical-align: middle;'></progress>\n",
       "      0.00% [0/1 00:00<00:00]\n",
       "    </div>\n",
       "    \n",
       "<table border=\"1\" class=\"dataframe\">\n",
       "  <thead>\n",
       "    <tr style=\"text-align: left;\">\n",
       "      <th>epoch</th>\n",
       "      <th>train_loss</th>\n",
       "      <th>valid_loss</th>\n",
       "      <th>MS_SSIM</th>\n",
       "      <th>time</th>\n",
       "    </tr>\n",
       "  </thead>\n",
       "  <tbody>\n",
       "  </tbody>\n",
       "</table><p>\n",
       "\n",
       "    <div>\n",
       "        <style>\n",
       "            /* Turns off some styling */\n",
       "            progress {\n",
       "                /* gets rid of default border in Firefox and Opera. */\n",
       "                border: none;\n",
       "                /* Needs to be in here for Safari polyfill so background images work as expected. */\n",
       "                background-size: auto;\n",
       "            }\n",
       "            .progress-bar-interrupted, .progress-bar-interrupted::-webkit-progress-bar {\n",
       "                background: #F44336;\n",
       "            }\n",
       "        </style>\n",
       "      <progress value='825' class='' max='1007', style='width:300px; height:20px; vertical-align: middle;'></progress>\n",
       "      81.93% [825/1007 06:53<01:31 152.1696 avg_bpp: 0.3139 imp-mean-var(0.08 0.07)bitcost_loss=0.7 qcent_loss=0.6 l2reg_loss=17.1 autoencoder_loss_value=135.3 si_loss=0.0 feat_loss_value=0.0mssim=0.120712]\n",
       "    </div>\n",
       "    "
      ],
      "text/plain": [
       "<IPython.core.display.HTML object>"
      ]
     },
     "metadata": {},
     "output_type": "display_data"
    },
    {
     "name": "stdout",
     "output_type": "stream",
     "text": [
      "iter 0: bpp = 0.037 imp-mean-var(0.09 0.08) total loss223.7  l2reg_loss=17.5autoencoder_loss_value=133.7si_loss=0.0feat_loss_value=0.0\n",
      "iter 500: bpp = 0.318 imp-mean-var(0.09 0.08) total loss177.2  l2reg_loss=17.3autoencoder_loss_value=124.2si_loss=0.0feat_loss_value=0.0\n"
     ]
    }
   ],
   "source": [
    "config.si_loss_weight_alpha = 0\n",
    "learn.model.use_side_infomation = SiNetChannelIn.NoSideInformation\n",
    "learn.loss_func.use_side_infomation = SiNetChannelIn.NoSideInformation\n",
    "    \n",
    "offset = 0\n",
    "for i,lr in zip(range(offset,len(lrs)),lrs[offset:]):\n",
    "    if i != 0 :\n",
    "        learn.load(f'{model_fname}-{i - 1}',with_opt=True)\n",
    "    learn.fit(1, lr=lr,wd=0,callbacks=[ParameterRunningAverageMetricCallback(learn.loss_func,use_si=False),BitEntropy(loss_man=learn.loss_func,logger=logger,use_si=False)])\n",
    "    \n",
    "    learn.save(f'{model_fname}-{i}')\n",
    "    if i % 3 or i == len(lrs) - 1:\n",
    "        !aws s3 cp ~/tDSIN/src/dsin/data/models/{model_fname}-{i}.pth  s3://dsin-us/models/\n",
    "        !aws s3 cp ~/tDSIN/tutorials/out.log s3://dsin-us/models/{model_fname}.log\n"
   ]
  },
  {
   "cell_type": "code",
   "execution_count": null,
   "metadata": {},
   "outputs": [],
   "source": [
    "learn.save(f'{model_fname}-{i}')\n",
    "\n",
    "!aws s3 cp ~/tDSIN/src/dsin/data/models/{model_fname}-{i}.pth  s3://dsin-us/models/\n",
    "!aws s3 cp ~/tDSIN/tutorials/out.log s3://dsin-us/models/{model_fname}.log\n"
   ]
  },
  {
   "cell_type": "code",
   "execution_count": null,
   "metadata": {},
   "outputs": [],
   "source": [
    "mt = learn.model.my_tuple[-3][0,...].squeeze_().detach()\n",
    "mx, mn =torch.max(mt), torch.min(mt)\n",
    "show_image(Image(mt),figsize=(5,5))\n",
    "# # print(mn)"
   ]
  },
  {
   "cell_type": "code",
   "execution_count": null,
   "metadata": {},
   "outputs": [],
   "source": [
    "mt = learn.model.my_tuple[3][0,...].squeeze_().detach()\n",
    "mx, mn =torch.max(mt), torch.min(mt)\n",
    "show_image(Image(mt),figsize=(5,5))"
   ]
  },
  {
   "cell_type": "code",
   "execution_count": null,
   "metadata": {},
   "outputs": [],
   "source": []
  }
 ],
 "metadata": {
  "environment": {
   "name": "pytorch-gpu.1-4.m46",
   "type": "gcloud",
   "uri": "gcr.io/deeplearning-platform-release/pytorch-gpu.1-4:m46"
  },
  "kernelspec": {
   "display_name": "Python 3",
   "language": "python",
   "name": "python3"
  },
  "language_info": {
   "codemirror_mode": {
    "name": "ipython",
    "version": 3
   },
   "file_extension": ".py",
   "mimetype": "text/x-python",
   "name": "python",
   "nbconvert_exporter": "python",
   "pygments_lexer": "ipython3",
   "version": "3.7.7"
  }
 },
 "nbformat": 4,
 "nbformat_minor": 4
}
