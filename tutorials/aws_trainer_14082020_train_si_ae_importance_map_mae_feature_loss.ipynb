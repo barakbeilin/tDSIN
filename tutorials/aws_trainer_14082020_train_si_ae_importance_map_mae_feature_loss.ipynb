{
 "cells": [
  {
   "cell_type": "code",
   "execution_count": 1,
   "metadata": {},
   "outputs": [],
   "source": [
    "%reload_ext autoreload\n",
    "%autoreload 2"
   ]
  },
  {
   "cell_type": "code",
   "execution_count": 2,
   "metadata": {},
   "outputs": [],
   "source": [
    "from fastai import *\n",
    "from fastai.vision import *\n",
    "import torch\n",
    "from torch import nn\n",
    "from dsin.ae.data_manager.data_loader import (\n",
    "    SideinformationImageImageList, ImageSiTuple)\n",
    "from dsin.ae import config\n",
    "from dsin.ae.si_ae import SideInformationAutoEncoder\n",
    "from dsin.ae.si_net import SiNetChannelIn\n",
    "from dsin.ae.loss_man import LossManager\n",
    "from dsin.ae.distortions import Distortions, DistTypes\n",
    "from dsin.ae.kitti_normalizer import ChangeImageStatsToKitti, ChangeState\n",
    "from dsin.ae import config\n"
   ]
  },
  {
   "cell_type": "code",
   "execution_count": 3,
   "metadata": {},
   "outputs": [
    {
     "data": {
      "text/plain": [
       "500"
      ]
     },
     "execution_count": 3,
     "metadata": {},
     "output_type": "execute_result"
    }
   ],
   "source": [
    "config.H_target = 2* 0.3\n",
    "# config.autoencoder_loss_distortion_to_minimize=DistTypes.MS_SSMIM\n",
    "config.K_MS_SSIM=500\n",
    "config.beta"
   ]
  },
  {
   "cell_type": "code",
   "execution_count": 4,
   "metadata": {},
   "outputs": [],
   "source": [
    "import time\n",
    "import datetime\n",
    "import logging\n",
    "\n",
    "logger = logging.getLogger()\n",
    "\n",
    "def setup_file_logger(log_file='out.log'):\n",
    "    hdlr = logging.FileHandler(log_file)\n",
    "    formatter = logging.Formatter('%(asctime)s %(levelname)s %(message)s')\n",
    "    hdlr.setFormatter(formatter)\n",
    "    logger.addHandler(hdlr) \n",
    "    logger.setLevel(logging.INFO)\n",
    "    logger.info(\"start\")\n",
    "\n",
    "setup_file_logger()"
   ]
  },
  {
   "cell_type": "code",
   "execution_count": 5,
   "metadata": {},
   "outputs": [],
   "source": [
    "class AverageMetric(Callback):\n",
    "    \"Wrap a `func` in a callback for metrics computation.\"\n",
    "    def __init__(self, func,name):\n",
    "        # If it's a partial, use func.func\n",
    "        #         name = getattr(func,'func',func).__name__\n",
    "        self.func, self.name = func, name\n",
    "\n",
    "    def on_epoch_begin(self, **kwargs):\n",
    "        \"Set the inner value to 0.\"\n",
    "        self.val, self.count = 0.,0\n",
    "\n",
    "    def on_batch_end(self, last_output, last_target, **kwargs):\n",
    "        \"Update metric computation with `last_output` and `last_target`.\"\n",
    "        if not is_listy(last_target): last_target=[last_target]\n",
    "        self.count += last_target[0].size(0) # batch size\n",
    "        \n",
    "        if last_output[0] is None:\n",
    "            X_OUTPUT = 1 # X_DEC\n",
    "        else:\n",
    "            X_OUTPUT = 0 # X_HAT_OUT\n",
    "        val = self.func(last_output[X_OUTPUT], last_target[0])\n",
    "        self.val += last_target[0].size(0) * val.detach().cpu()\n",
    "        \n",
    "    \n",
    "    \n",
    "    def on_epoch_end(self, last_metrics, **kwargs):\n",
    "        \"Set the final result in `last_metrics`.\"\n",
    "        return add_metrics(last_metrics, self.val/self.count)\n",
    "    \n",
    "class ParameterMetricCallback(Callback):\n",
    "    def __init__(self,loss_man):\n",
    "        self.loss_man = loss_man\n",
    "    \n",
    "    def on_backward_begin(self,*args, **kwargs):\n",
    "        self.pbar=kwargs[\"pbar\"]\n",
    "        if hasattr(self.loss_man,'soft_bit_entropy'):\n",
    "            self.pbar.child.comment += f' soft_bit_entropy: {self.loss_man.soft_bit_entropy:.4f}'\n",
    "\n",
    "class ParameterRunningAverageMetricCallback(Callback):\n",
    "    def __init__(self,loss_man,alpha=0.1):\n",
    "        self.loss_man = loss_man\n",
    "        self.alpha = alpha\n",
    "        self.val = None\n",
    "    \n",
    "    def on_backward_begin(self,*args, **kwargs):\n",
    "        self.pbar=kwargs[\"pbar\"]\n",
    "        self.importance_map=kwargs[\"last_output\"][3].detach()\n",
    "#         import pdb\n",
    "#         pdb.set_trace()\n",
    "        if hasattr(self.loss_man,'soft_bit_entropy'):\n",
    "            if self.val is None:\n",
    "                self.val = self.loss_man.soft_bit_entropy.detach()\n",
    "            else:\n",
    "                self.val *= 1 - self.alpha\n",
    "                self.val += self.alpha * self.loss_man.soft_bit_entropy.detach()\n",
    "                \n",
    "            self.pbar.child.comment += f' avg_bpp: {self.val / 2 :.4f} imp-mean-var {(torch.mean(self.importance_map),torch.var(self.importance_map))}'\n",
    "            self.pbar.child.comment += f'autoencoder_loss_value{self.loss_man.autoencoder_loss_value:.1f} '            \n",
    "            self.pbar.child.comment += f'l2_reg_loss{self.loss_man.l2_reg_loss:.1f} '\n",
    "            self.pbar.child.comment += f'si_net_loss_value{self.loss_man.si_net_loss_value:.1f} '\n",
    "            self.pbar.child.comment += f'feat_loss_value{self.loss_man.feat_loss_value:.1f} '\n",
    "            self.pbar.child.comment += f'bit_cost_loss_value{self.loss_man.bit_cost_loss_value:.1f} '"
   ]
  },
  {
   "cell_type": "code",
   "execution_count": 6,
   "metadata": {},
   "outputs": [],
   "source": [
    "class BitEntropy(Callback):\n",
    "    \"Wrap a `func` in a callback for metrics computation.\"\n",
    "    def __init__(self,loss_man,alpha=0.1, logger=logger):\n",
    "        # If it's a partial, use func.func\n",
    "        #         name = getattr(func,'func',func).__name__\n",
    "        self.loss_man = loss_man\n",
    "        self.alpha = alpha\n",
    "        self.logger = logger\n",
    "        \n",
    "    def on_epoch_begin(self, **kwargs):\n",
    "        \"Set the inner value to 0.\"\n",
    "        self.val = 0.0\n",
    "        self.iter = 0\n",
    "        \n",
    "    def on_batch_end(self, last_output, last_target, **kwargs):\n",
    "        \"Update metric computation with `last_output` and `last_target`.\"\n",
    "      \n",
    "        self.val *= 1 - self.alpha\n",
    "        self.val += self.alpha * self.loss_man.soft_bit_entropy.detach()\n",
    "\n",
    "        if self.iter % 500 == 0 :\n",
    "            importance_map  = last_output[3].detach()\n",
    "            msg = f\"iter {self.iter}: bpp = {self.val / 2:.3f}, impmap- mean {torch.mean(importance_map):.4f} var {torch.var(importance_map):.4f} \"\n",
    "            msg += f\" total loss{self.loss_man.total_loss:.1f}  l2reg_loss={self.loss_man.l2_reg_loss:.1f}\"\n",
    "            msg += f\"autoencoder_loss_value={ self.loss_man.autoencoder_loss_value:.1f}\"\n",
    "            msg += f\"si_loss={self.loss_man.si_net_loss_value}\"\n",
    "            self.logger.info(msg)\n",
    "            print(msg)\n",
    "        self.iter += 1\n",
    "\n",
    "    def on_epoch_end(self, last_metrics, **kwargs):\n",
    "        \"Set the final result in `last_metrics`.\"\n",
    "        return add_metrics(last_metrics, self.val)\n",
    "    "
   ]
  },
  {
   "cell_type": "code",
   "execution_count": 7,
   "metadata": {},
   "outputs": [
    {
     "data": {
      "text/plain": [
       "<SiNetChannelIn.WithSideInformation: 6>"
      ]
     },
     "execution_count": 7,
     "metadata": {},
     "output_type": "execute_result"
    }
   ],
   "source": [
    "config.use_si_flag = SiNetChannelIn.WithSideInformation\n",
    "config.use_si_flag"
   ]
  },
  {
   "cell_type": "code",
   "execution_count": 8,
   "metadata": {},
   "outputs": [
    {
     "data": {
      "text/plain": [
       "'1.5.1'"
      ]
     },
     "execution_count": 8,
     "metadata": {},
     "output_type": "execute_result"
    }
   ],
   "source": [
    "torch.__version__"
   ]
  },
  {
   "cell_type": "code",
   "execution_count": 9,
   "metadata": {},
   "outputs": [
    {
     "name": "stdout",
     "output_type": "stream",
     "text": [
      "> /home/ubuntu/tDSIN/src/dsin/ae/si_net.py(89)_weight_init()\n",
      "-> for layer in self.layers:\n",
      "(Pdb) C\n",
      "*** NameError: name 'C' is not defined\n",
      "(Pdb) C\n",
      "*** NameError: name 'C' is not defined\n",
      "(Pdb) c\n"
     ]
    }
   ],
   "source": [
    "si_autoencoder = SideInformationAutoEncoder(config.use_si_flag)\n",
    "path = \"../src/dsin/data\"\n",
    "pct= 1 #0.0005 #0.25\n",
    "\n",
    "valid_image_list = SideinformationImageImageList.from_csv(\n",
    "    path=path, csv_names=[\"KITTI_stereo_val.txt\"],pct=pct)\n",
    "train_image_list = SideinformationImageImageList.from_csv(\n",
    "    path=path, csv_names=[\"KITTI_stereo_train.txt\"],pct=pct)\n",
    "\n",
    "image_lists = ItemLists(\n",
    "    path=path, train=train_image_list, valid=valid_image_list)\n",
    "\n",
    "# ll = image_lists.label_from_func(lambda x: x)\n",
    "\n",
    "tfms =  get_transforms(do_flip=True, flip_vert=False, max_rotate=None, max_zoom=1., max_lighting=None, max_warp=None, p_affine=0.0, p_lighting=0.0)\n",
    " #get_transforms(do_flip=True, max_rotate=0.0) # None #\n",
    "batchsize = 1\n",
    "# [flip_lr(p=0.5),[]]\n",
    "data = (image_lists\n",
    "        .label_from_func(lambda x: x)\n",
    "        .transform(None, size=(336, 1224), resize_method=ResizeMethod.CROP, tfm_y=True)\n",
    "        .databunch(bs=batchsize))\n",
    "learn = Learner(data=data,\n",
    "                     model=si_autoencoder,\n",
    "                     opt_func=torch.optim.Adam,\n",
    "                     loss_func=LossManager(SiNetChannelIn.WithSideInformation),\n",
    "                     metrics=[AverageMetric(Distortions._calc_dist,\"MS_SSIM\")])\n",
    "\n",
    "# learn.metrics.append(BitEntropy(loss_man=learn.loss_func))"
   ]
  },
  {
   "cell_type": "code",
   "execution_count": 10,
   "metadata": {},
   "outputs": [
    {
     "ename": "RuntimeError",
     "evalue": "Error(s) in loading state_dict for SideInformationAutoEncoder:\n\tMissing key(s) in state_dict: \"si_net.model.2.running_mean\", \"si_net.model.2.running_var\", \"si_net.model.3.model.0.weight\", \"si_net.model.3.model.0.bias\", \"si_net.model.3.model.2.weight\", \"si_net.model.3.model.2.bias\", \"si_net.model.3.model.2.running_mean\", \"si_net.model.3.model.2.running_var\", \"si_net.model.4.model.0.weight\", \"si_net.model.4.model.0.bias\", \"si_net.model.4.model.2.weight\", \"si_net.model.4.model.2.bias\", \"si_net.model.4.model.2.running_mean\", \"si_net.model.4.model.2.running_var\", \"si_net.model.5.model.0.weight\", \"si_net.model.5.model.0.bias\", \"si_net.model.5.model.2.weight\", \"si_net.model.5.model.2.bias\", \"si_net.model.5.model.2.running_mean\", \"si_net.model.5.model.2.running_var\", \"si_net.model.6.model.0.weight\", \"si_net.model.6.model.0.bias\", \"si_net.model.6.model.2.weight\", \"si_net.model.6.model.2.bias\", \"si_net.model.6.model.2.running_mean\", \"si_net.model.6.model.2.running_var\", \"si_net.model.7.model.0.weight\", \"si_net.model.7.model.0.bias\", \"si_net.model.7.model.2.weight\", \"si_net.model.7.model.2.bias\", \"si_net.model.7.model.2.running_mean\", \"si_net.model.7.model.2.running_var\", \"si_net.model.8.model.0.weight\", \"si_net.model.8.model.0.bias\", \"si_net.model.8.model.2.weight\", \"si_net.model.8.model.2.bias\", \"si_net.model.8.model.2.running_mean\", \"si_net.model.8.model.2.running_var\", \"si_net.model.9.model.0.weight\", \"si_net.model.9.model.0.bias\", \"si_net.model.9.model.2.weight\", \"si_net.model.9.model.2.bias\", \"si_net.model.9.model.2.running_mean\", \"si_net.model.9.model.2.running_var\", \"si_net.model.11.mean\", \"si_net.model.11.var\". \n\tUnexpected key(s) in state_dict: \"si_net.model.12.weight\", \"si_net.model.12.bias\", \"si_net.model.14.weight\", \"si_net.model.14.bias\", \"si_net.model.16.weight\", \"si_net.model.16.bias\", \"si_net.model.17.mean\", \"si_net.model.17.var\", \"si_net.model.4.weight\", \"si_net.model.4.bias\", \"si_net.model.6.weight\", \"si_net.model.6.bias\", \"si_net.model.8.weight\", \"si_net.model.8.bias\". \n\tsize mismatch for si_net.model.2.weight: copying a param with shape torch.Size([32, 32, 3, 3]) from checkpoint, the shape in current model is torch.Size([32]).\n\tsize mismatch for si_net.model.10.weight: copying a param with shape torch.Size([32, 32, 3, 3]) from checkpoint, the shape in current model is torch.Size([3, 32, 1, 1]).\n\tsize mismatch for si_net.model.10.bias: copying a param with shape torch.Size([32]) from checkpoint, the shape in current model is torch.Size([3]).",
     "output_type": "error",
     "traceback": [
      "\u001b[0;31m---------------------------------------------------------------------------\u001b[0m",
      "\u001b[0;31mRuntimeError\u001b[0m                              Traceback (most recent call last)",
      "\u001b[0;32m<ipython-input-10-97d129d1e654>\u001b[0m in \u001b[0;36m<module>\u001b[0;34m\u001b[0m\n\u001b[0;32m----> 1\u001b[0;31m \u001b[0mlearn\u001b[0m\u001b[0;34m.\u001b[0m\u001b[0mload\u001b[0m\u001b[0;34m(\u001b[0m\u001b[0;34m'try2_200807MAE-l2reg-baseline-2'\u001b[0m\u001b[0;34m)\u001b[0m\u001b[0;34m\u001b[0m\u001b[0;34m\u001b[0m\u001b[0m\n\u001b[0m\u001b[1;32m      2\u001b[0m \u001b[0;34m\u001b[0m\u001b[0m\n\u001b[1;32m      3\u001b[0m \u001b[0mmodel_fname\u001b[0m \u001b[0;34m=\u001b[0m \u001b[0;34m'200814MAE-l2reg-si'\u001b[0m\u001b[0;34m\u001b[0m\u001b[0;34m\u001b[0m\u001b[0m\n\u001b[1;32m      4\u001b[0m \u001b[0;32mfor\u001b[0m \u001b[0mi\u001b[0m \u001b[0;32min\u001b[0m \u001b[0mrange\u001b[0m\u001b[0;34m(\u001b[0m\u001b[0;36m1\u001b[0m\u001b[0;34m,\u001b[0m\u001b[0;36m5\u001b[0m\u001b[0;34m)\u001b[0m\u001b[0;34m:\u001b[0m\u001b[0;34m\u001b[0m\u001b[0;34m\u001b[0m\u001b[0m\n\u001b[1;32m      5\u001b[0m     \u001b[0;32mif\u001b[0m \u001b[0mi\u001b[0m \u001b[0;34m!=\u001b[0m \u001b[0;36m1\u001b[0m \u001b[0;34m:\u001b[0m\u001b[0;34m\u001b[0m\u001b[0;34m\u001b[0m\u001b[0m\n",
      "\u001b[0;32m~/anaconda3/envs/tfastai/lib/python3.7/site-packages/fastai/basic_train.py\u001b[0m in \u001b[0;36mload\u001b[0;34m(self, file, device, strict, with_opt, purge, remove_module)\u001b[0m\n\u001b[1;32m    271\u001b[0m             \u001b[0mmodel_state\u001b[0m \u001b[0;34m=\u001b[0m \u001b[0mstate\u001b[0m\u001b[0;34m[\u001b[0m\u001b[0;34m'model'\u001b[0m\u001b[0;34m]\u001b[0m\u001b[0;34m\u001b[0m\u001b[0;34m\u001b[0m\u001b[0m\n\u001b[1;32m    272\u001b[0m             \u001b[0;32mif\u001b[0m \u001b[0mremove_module\u001b[0m\u001b[0;34m:\u001b[0m \u001b[0mmodel_state\u001b[0m \u001b[0;34m=\u001b[0m \u001b[0mremove_module_load\u001b[0m\u001b[0;34m(\u001b[0m\u001b[0mmodel_state\u001b[0m\u001b[0;34m)\u001b[0m\u001b[0;34m\u001b[0m\u001b[0;34m\u001b[0m\u001b[0m\n\u001b[0;32m--> 273\u001b[0;31m             \u001b[0mget_model\u001b[0m\u001b[0;34m(\u001b[0m\u001b[0mself\u001b[0m\u001b[0;34m.\u001b[0m\u001b[0mmodel\u001b[0m\u001b[0;34m)\u001b[0m\u001b[0;34m.\u001b[0m\u001b[0mload_state_dict\u001b[0m\u001b[0;34m(\u001b[0m\u001b[0mmodel_state\u001b[0m\u001b[0;34m,\u001b[0m \u001b[0mstrict\u001b[0m\u001b[0;34m=\u001b[0m\u001b[0mstrict\u001b[0m\u001b[0;34m)\u001b[0m\u001b[0;34m\u001b[0m\u001b[0;34m\u001b[0m\u001b[0m\n\u001b[0m\u001b[1;32m    274\u001b[0m             \u001b[0;32mif\u001b[0m \u001b[0mifnone\u001b[0m\u001b[0;34m(\u001b[0m\u001b[0mwith_opt\u001b[0m\u001b[0;34m,\u001b[0m\u001b[0;32mTrue\u001b[0m\u001b[0;34m)\u001b[0m\u001b[0;34m:\u001b[0m\u001b[0;34m\u001b[0m\u001b[0;34m\u001b[0m\u001b[0m\n\u001b[1;32m    275\u001b[0m                 \u001b[0;32mif\u001b[0m \u001b[0;32mnot\u001b[0m \u001b[0mhasattr\u001b[0m\u001b[0;34m(\u001b[0m\u001b[0mself\u001b[0m\u001b[0;34m,\u001b[0m \u001b[0;34m'opt'\u001b[0m\u001b[0;34m)\u001b[0m\u001b[0;34m:\u001b[0m \u001b[0mself\u001b[0m\u001b[0;34m.\u001b[0m\u001b[0mcreate_opt\u001b[0m\u001b[0;34m(\u001b[0m\u001b[0mdefaults\u001b[0m\u001b[0;34m.\u001b[0m\u001b[0mlr\u001b[0m\u001b[0;34m,\u001b[0m \u001b[0mself\u001b[0m\u001b[0;34m.\u001b[0m\u001b[0mwd\u001b[0m\u001b[0;34m)\u001b[0m\u001b[0;34m\u001b[0m\u001b[0;34m\u001b[0m\u001b[0m\n",
      "\u001b[0;32m~/anaconda3/envs/tfastai/lib/python3.7/site-packages/torch/nn/modules/module.py\u001b[0m in \u001b[0;36mload_state_dict\u001b[0;34m(self, state_dict, strict)\u001b[0m\n\u001b[1;32m    845\u001b[0m         \u001b[0;32mif\u001b[0m \u001b[0mlen\u001b[0m\u001b[0;34m(\u001b[0m\u001b[0merror_msgs\u001b[0m\u001b[0;34m)\u001b[0m \u001b[0;34m>\u001b[0m \u001b[0;36m0\u001b[0m\u001b[0;34m:\u001b[0m\u001b[0;34m\u001b[0m\u001b[0;34m\u001b[0m\u001b[0m\n\u001b[1;32m    846\u001b[0m             raise RuntimeError('Error(s) in loading state_dict for {}:\\n\\t{}'.format(\n\u001b[0;32m--> 847\u001b[0;31m                                self.__class__.__name__, \"\\n\\t\".join(error_msgs)))\n\u001b[0m\u001b[1;32m    848\u001b[0m         \u001b[0;32mreturn\u001b[0m \u001b[0m_IncompatibleKeys\u001b[0m\u001b[0;34m(\u001b[0m\u001b[0mmissing_keys\u001b[0m\u001b[0;34m,\u001b[0m \u001b[0munexpected_keys\u001b[0m\u001b[0;34m)\u001b[0m\u001b[0;34m\u001b[0m\u001b[0;34m\u001b[0m\u001b[0m\n\u001b[1;32m    849\u001b[0m \u001b[0;34m\u001b[0m\u001b[0m\n",
      "\u001b[0;31mRuntimeError\u001b[0m: Error(s) in loading state_dict for SideInformationAutoEncoder:\n\tMissing key(s) in state_dict: \"si_net.model.2.running_mean\", \"si_net.model.2.running_var\", \"si_net.model.3.model.0.weight\", \"si_net.model.3.model.0.bias\", \"si_net.model.3.model.2.weight\", \"si_net.model.3.model.2.bias\", \"si_net.model.3.model.2.running_mean\", \"si_net.model.3.model.2.running_var\", \"si_net.model.4.model.0.weight\", \"si_net.model.4.model.0.bias\", \"si_net.model.4.model.2.weight\", \"si_net.model.4.model.2.bias\", \"si_net.model.4.model.2.running_mean\", \"si_net.model.4.model.2.running_var\", \"si_net.model.5.model.0.weight\", \"si_net.model.5.model.0.bias\", \"si_net.model.5.model.2.weight\", \"si_net.model.5.model.2.bias\", \"si_net.model.5.model.2.running_mean\", \"si_net.model.5.model.2.running_var\", \"si_net.model.6.model.0.weight\", \"si_net.model.6.model.0.bias\", \"si_net.model.6.model.2.weight\", \"si_net.model.6.model.2.bias\", \"si_net.model.6.model.2.running_mean\", \"si_net.model.6.model.2.running_var\", \"si_net.model.7.model.0.weight\", \"si_net.model.7.model.0.bias\", \"si_net.model.7.model.2.weight\", \"si_net.model.7.model.2.bias\", \"si_net.model.7.model.2.running_mean\", \"si_net.model.7.model.2.running_var\", \"si_net.model.8.model.0.weight\", \"si_net.model.8.model.0.bias\", \"si_net.model.8.model.2.weight\", \"si_net.model.8.model.2.bias\", \"si_net.model.8.model.2.running_mean\", \"si_net.model.8.model.2.running_var\", \"si_net.model.9.model.0.weight\", \"si_net.model.9.model.0.bias\", \"si_net.model.9.model.2.weight\", \"si_net.model.9.model.2.bias\", \"si_net.model.9.model.2.running_mean\", \"si_net.model.9.model.2.running_var\", \"si_net.model.11.mean\", \"si_net.model.11.var\". \n\tUnexpected key(s) in state_dict: \"si_net.model.12.weight\", \"si_net.model.12.bias\", \"si_net.model.14.weight\", \"si_net.model.14.bias\", \"si_net.model.16.weight\", \"si_net.model.16.bias\", \"si_net.model.17.mean\", \"si_net.model.17.var\", \"si_net.model.4.weight\", \"si_net.model.4.bias\", \"si_net.model.6.weight\", \"si_net.model.6.bias\", \"si_net.model.8.weight\", \"si_net.model.8.bias\". \n\tsize mismatch for si_net.model.2.weight: copying a param with shape torch.Size([32, 32, 3, 3]) from checkpoint, the shape in current model is torch.Size([32]).\n\tsize mismatch for si_net.model.10.weight: copying a param with shape torch.Size([32, 32, 3, 3]) from checkpoint, the shape in current model is torch.Size([3, 32, 1, 1]).\n\tsize mismatch for si_net.model.10.bias: copying a param with shape torch.Size([32]) from checkpoint, the shape in current model is torch.Size([3])."
     ]
    }
   ],
   "source": [
    "learn.load('try2_200807MAE-l2reg-baseline-2')\n",
    "\n",
    "model_fname = '200814MAE-l2reg-si'\n",
    "for i in range(1,5):\n",
    "    if i != 1 :\n",
    "        learn.load(f'{model_fname}-{i - 1}',with_opt=True)\n",
    "    \n",
    "    config.si_loss_weight_alpha = 0.7\n",
    "    learn.model.true_tuple_loss_false_just_out = True\n",
    "    learn.model.use_side_infomation = SiNetChannelIn.WithSideInformation\n",
    "    learn.loss_func.use_side_infomation = SiNetChannelIn.WithSideInformation\n",
    "    learn.fit(1, lr=0.0001,wd=0,callbacks=[ParameterRunningAverageMetricCallback(learn.loss_func),BitEntropy(loss_man=learn.loss_func)])\n",
    "    learn.save(f'{model_fname}-{i}')\n",
    "    !aws s3 cp ~/tDSIN/src/dsin/data/models/{model_fname}-{i}.pth  s3://dsin-us/models/\n",
    "    !aws s3 cp ~/tDSIN/tutorials/out.log s3://dsin-us/models/\n"
   ]
  },
  {
   "cell_type": "code",
   "execution_count": null,
   "metadata": {},
   "outputs": [],
   "source": [
    "learn.model.my_tuple[5]\n"
   ]
  },
  {
   "cell_type": "code",
   "execution_count": null,
   "metadata": {},
   "outputs": [],
   "source": [
    "learn.data.train_ds[1][0].img"
   ]
  },
  {
   "cell_type": "code",
   "execution_count": null,
   "metadata": {},
   "outputs": [],
   "source": [
    "learn.data.train_ds[1][0].si_img"
   ]
  },
  {
   "cell_type": "code",
   "execution_count": null,
   "metadata": {},
   "outputs": [],
   "source": [
    "learn.loss_func.soft_bit_entropy"
   ]
  },
  {
   "cell_type": "code",
   "execution_count": null,
   "metadata": {},
   "outputs": [],
   "source": [
    "config.si_loss_weight_alpha"
   ]
  },
  {
   "cell_type": "code",
   "execution_count": null,
   "metadata": {},
   "outputs": [],
   "source": [
    "learn.loss_func.autoencoder_loss_value"
   ]
  },
  {
   "cell_type": "code",
   "execution_count": null,
   "metadata": {},
   "outputs": [],
   "source": [
    "learn.load('try2_200807MAE-l2reg-baseline-2')\n"
   ]
  },
  {
   "cell_type": "code",
   "execution_count": null,
   "metadata": {},
   "outputs": [],
   "source": [
    "mt = learn.model.my_tuple[-2].squeeze_().detach()\n",
    "mx, mn =torch.max(mt), torch.min(mt)\n",
    "diff = mx-mn\n",
    "show_image(Image((mt - mn)/(diff)),figsize=(30,30))\n",
    "# # print(mn)"
   ]
  },
  {
   "cell_type": "code",
   "execution_count": null,
   "metadata": {},
   "outputs": [],
   "source": [
    "\n",
    "# # show_image(Image(learn.model.my_tuple[0][:,:50,:50]/255))\n",
    "# # Image(learn.model.my_tuple[2].squeeze_().detach()/255.0)\n",
    "mt = learn.model.my_tuple[2].squeeze_().detach()\n",
    "mx, mn =torch.max(mt), torch.min(mt)\n",
    "diff = mx-mn\n",
    "show_image(Image((mt - mn)/(diff)),figsize=(30,30))\n",
    "# # print(mn)\n",
    "\n",
    "# torch.min(learn.model.my_tuple[2].squeeze_().detach())"
   ]
  },
  {
   "cell_type": "code",
   "execution_count": null,
   "metadata": {},
   "outputs": [],
   "source": [
    "aaa = (mt - mn)/(diff)\n",
    "\n",
    "flip_lr(Image(aaa.cpu()))"
   ]
  },
  {
   "cell_type": "code",
   "execution_count": null,
   "metadata": {},
   "outputs": [],
   "source": [
    "# learn.model.true_tuple_loss_false_just_out = False\n",
    "\n",
    "# learn.show_results(figsize=(30,30))"
   ]
  },
  {
   "cell_type": "code",
   "execution_count": null,
   "metadata": {},
   "outputs": [],
   "source": [
    "learn.model.my_tuple[-2].data"
   ]
  },
  {
   "cell_type": "code",
   "execution_count": null,
   "metadata": {},
   "outputs": [],
   "source": []
  }
 ],
 "metadata": {
  "environment": {
   "name": "pytorch-gpu.1-4.m46",
   "type": "gcloud",
   "uri": "gcr.io/deeplearning-platform-release/pytorch-gpu.1-4:m46"
  },
  "kernelspec": {
   "display_name": "Python 3",
   "language": "python",
   "name": "python3"
  },
  "language_info": {
   "codemirror_mode": {
    "name": "ipython",
    "version": 3
   },
   "file_extension": ".py",
   "mimetype": "text/x-python",
   "name": "python",
   "nbconvert_exporter": "python",
   "pygments_lexer": "ipython3",
   "version": "3.7.7"
  }
 },
 "nbformat": 4,
 "nbformat_minor": 4
}
