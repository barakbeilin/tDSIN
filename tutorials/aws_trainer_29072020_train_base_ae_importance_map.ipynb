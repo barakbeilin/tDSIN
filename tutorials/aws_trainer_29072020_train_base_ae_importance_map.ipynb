{
 "cells": [
  {
   "cell_type": "code",
   "execution_count": 1,
   "metadata": {},
   "outputs": [],
   "source": [
    "%reload_ext autoreload\n",
    "%autoreload 2"
   ]
  },
  {
   "cell_type": "code",
   "execution_count": 2,
   "metadata": {},
   "outputs": [],
   "source": [
    "from fastai import *\n",
    "from fastai.vision import *\n",
    "import torch\n",
    "from torch import nn\n",
    "from dsin.ae.data_manager.data_loader import (\n",
    "    SideinformationImageImageList, ImageSiTuple)\n",
    "from dsin.ae import config\n",
    "from dsin.ae.si_ae import SideInformationAutoEncoder\n",
    "from dsin.ae.si_net import SiNetChannelIn\n",
    "from dsin.ae.loss_man import LossManager\n",
    "from dsin.ae.distortions import Distortions, DistTypes\n",
    "from dsin.ae.kitti_normalizer import ChangeImageStatsToKitti, ChangeState\n",
    "from dsin.ae import config\n"
   ]
  },
  {
   "cell_type": "code",
   "execution_count": 3,
   "metadata": {},
   "outputs": [
    {
     "data": {
      "text/plain": [
       "500"
      ]
     },
     "execution_count": 3,
     "metadata": {},
     "output_type": "execute_result"
    }
   ],
   "source": [
    "config.H_target = 2* 0.3\n",
    "config.autoencoder_loss_distortion_to_minimize=DistTypes.MS_SSMIM\n",
    "config.K_MS_SSIM=500\n",
    "config.beta"
   ]
  },
  {
   "cell_type": "code",
   "execution_count": 4,
   "metadata": {},
   "outputs": [],
   "source": [
    "class AverageMetric(Callback):\n",
    "    \"Wrap a `func` in a callback for metrics computation.\"\n",
    "    def __init__(self, func,name):\n",
    "        # If it's a partial, use func.func\n",
    "        #         name = getattr(func,'func',func).__name__\n",
    "        self.func, self.name = func, name\n",
    "\n",
    "    def on_epoch_begin(self, **kwargs):\n",
    "        \"Set the inner value to 0.\"\n",
    "        self.val, self.count = 0.,0\n",
    "\n",
    "    def on_batch_end(self, last_output, last_target, **kwargs):\n",
    "        \"Update metric computation with `last_output` and `last_target`.\"\n",
    "        if not is_listy(last_target): last_target=[last_target]\n",
    "        self.count += last_target[0].size(0) # batch size\n",
    "        \n",
    "        if last_output[0] is None:\n",
    "            X_OUTPUT = 1 # X_DEC\n",
    "        else:\n",
    "            X_OUTPUT = 0 # X_HAT_OUT\n",
    "        val = self.func(last_output[X_OUTPUT], last_target[0])\n",
    "        self.val += last_target[0].size(0) * val.detach().cpu()\n",
    "        \n",
    "    \n",
    "    \n",
    "    def on_epoch_end(self, last_metrics, **kwargs):\n",
    "        \"Set the final result in `last_metrics`.\"\n",
    "        return add_metrics(last_metrics, self.val/self.count)\n",
    "    \n",
    "class ParameterMetricCallback(Callback):\n",
    "    def __init__(self,loss_man):\n",
    "        self.loss_man = loss_man\n",
    "    \n",
    "    def on_backward_begin(self,*args, **kwargs):\n",
    "        self.pbar=kwargs[\"pbar\"]\n",
    "        if hasattr(self.loss_man,'soft_bit_entropy'):\n",
    "            self.pbar.child.comment += f' soft_bit_entropy: {self.loss_man.soft_bit_entropy:.4f}'\n",
    "\n",
    "class ParameterRunningAverageMetricCallback(Callback):\n",
    "    def __init__(self,loss_man,alpha=0.1):\n",
    "        self.loss_man = loss_man\n",
    "        self.alpha = alpha\n",
    "        self.val = None\n",
    "    \n",
    "    def on_backward_begin(self,*args, **kwargs):\n",
    "        self.pbar=kwargs[\"pbar\"]\n",
    "        self.importance_map=kwargs[\"last_output\"][3].detach()\n",
    "#         import pdb\n",
    "#         pdb.set_trace()\n",
    "        if hasattr(self.loss_man,'soft_bit_entropy'):\n",
    "            if self.val is None:\n",
    "                self.val = self.loss_man.soft_bit_entropy.detach()\n",
    "            else:\n",
    "                self.val *= 1 - self.alpha\n",
    "                self.val += self.alpha * self.loss_man.soft_bit_entropy.detach()\n",
    "                \n",
    "            self.pbar.child.comment += f' avg_bpp: {self.val / 2 :.4f} imp-mean-var {(torch.mean(self.importance_map),torch.var(self.importance_map))}'\n",
    "    "
   ]
  },
  {
   "cell_type": "code",
   "execution_count": 5,
   "metadata": {},
   "outputs": [
    {
     "data": {
      "text/plain": [
       "<SiNetChannelIn.WithSideInformation: 6>"
      ]
     },
     "execution_count": 5,
     "metadata": {},
     "output_type": "execute_result"
    }
   ],
   "source": [
    "config.use_si_flag = SiNetChannelIn.WithSideInformation\n",
    "config.use_si_flag"
   ]
  },
  {
   "cell_type": "code",
   "execution_count": 6,
   "metadata": {},
   "outputs": [
    {
     "data": {
      "text/plain": [
       "'1.5.1'"
      ]
     },
     "execution_count": 6,
     "metadata": {},
     "output_type": "execute_result"
    }
   ],
   "source": [
    "torch.__version__"
   ]
  },
  {
   "cell_type": "code",
   "execution_count": 7,
   "metadata": {},
   "outputs": [],
   "source": [
    "si_autoencoder = SideInformationAutoEncoder(config.use_si_flag)\n",
    "path = \"../src/dsin/data\"\n",
    "pct= 1 #0.0005 #0.25\n",
    "\n",
    "valid_image_list = SideinformationImageImageList.from_csv(\n",
    "    path=path, csv_names=[\"KITTI_baseline_val.txt\"],pct=pct)\n",
    "train_image_list = SideinformationImageImageList.from_csv(\n",
    "    path=path, csv_names=[\"KITTI_baseline_train.txt\"],pct=pct)\n",
    "\n",
    "image_lists = ItemLists(\n",
    "    path=path, train=train_image_list, valid=valid_image_list)\n",
    "\n",
    "# ll = image_lists.label_from_func(lambda x: x)\n",
    "\n",
    "tfms = None #get_transforms(do_flip=True, max_rotate=0.0)\n",
    "batchsize = 1\n",
    "data = (image_lists\n",
    "        .label_from_func(lambda x: x)\n",
    "        .transform(tfms, size=(336, 1224), resize_method=ResizeMethod.CROP, tfm_y=True)\n",
    "        .databunch(bs=batchsize))\n",
    "learn = Learner(data=data,\n",
    "                     model=si_autoencoder,\n",
    "                     opt_func=torch.optim.Adam,\n",
    "                     loss_func=LossManager(config.use_si_flag),\n",
    "                     metrics=[AverageMetric(Distortions._calc_dist,\"MS_SSIM\")])\n",
    "\n"
   ]
  },
  {
   "cell_type": "code",
   "execution_count": null,
   "metadata": {},
   "outputs": [
    {
     "data": {
      "text/html": [
       "\n",
       "    <div>\n",
       "        <style>\n",
       "            /* Turns off some styling */\n",
       "            progress {\n",
       "                /* gets rid of default border in Firefox and Opera. */\n",
       "                border: none;\n",
       "                /* Needs to be in here for Safari polyfill so background images work as expected. */\n",
       "                background-size: auto;\n",
       "            }\n",
       "            .progress-bar-interrupted, .progress-bar-interrupted::-webkit-progress-bar {\n",
       "                background: #F44336;\n",
       "            }\n",
       "        </style>\n",
       "      <progress value='0' class='' max='1', style='width:300px; height:20px; vertical-align: middle;'></progress>\n",
       "      0.00% [0/1 00:00<00:00]\n",
       "    </div>\n",
       "    \n",
       "<table border=\"1\" class=\"dataframe\">\n",
       "  <thead>\n",
       "    <tr style=\"text-align: left;\">\n",
       "      <th>epoch</th>\n",
       "      <th>train_loss</th>\n",
       "      <th>valid_loss</th>\n",
       "      <th>MS_SSIM</th>\n",
       "      <th>time</th>\n",
       "    </tr>\n",
       "  </thead>\n",
       "  <tbody>\n",
       "  </tbody>\n",
       "</table><p>\n",
       "\n",
       "    <div>\n",
       "        <style>\n",
       "            /* Turns off some styling */\n",
       "            progress {\n",
       "                /* gets rid of default border in Firefox and Opera. */\n",
       "                border: none;\n",
       "                /* Needs to be in here for Safari polyfill so background images work as expected. */\n",
       "                background-size: auto;\n",
       "            }\n",
       "            .progress-bar-interrupted, .progress-bar-interrupted::-webkit-progress-bar {\n",
       "                background: #F44336;\n",
       "            }\n",
       "        </style>\n",
       "      <progress value='11085' class='' max='32232', style='width:300px; height:20px; vertical-align: middle;'></progress>\n",
       "      34.39% [11085/32232 35:04<1:06:53 44.4408 avg_bpp: 0.2830 imp-mean-var (tensor(0.1036, device='cuda:0'), tensor(0.0879, device='cuda:0'))]\n",
       "    </div>\n",
       "    "
      ],
      "text/plain": [
       "<IPython.core.display.HTML object>"
      ]
     },
     "metadata": {},
     "output_type": "display_data"
    }
   ],
   "source": [
    "learn.model.true_tuple_loss_false_just_out = True\n",
    "learn.model.use_side_infomation = SiNetChannelIn.NoSideInformation\n",
    "learn.loss_func.use_side_infomation = SiNetChannelIn.NoSideInformation\n",
    "learn.fit(1, lr=0.0001,wd=0,callbacks=[ParameterRunningAverageMetricCallback(learn.loss_func)])\n"
   ]
  },
  {
   "cell_type": "code",
   "execution_count": null,
   "metadata": {},
   "outputs": [],
   "source": [
    "learn.load('l2reg-baseline-1')\n",
    "learn.model.true_tuple_loss_false_just_out = True\n",
    "learn.model.use_side_infomation = SiNetChannelIn.NoSideInformation\n",
    "learn.loss_func.use_side_infomation = SiNetChannelIn.NoSideInformation\n",
    "learn.fit(1, lr=0.0005,wd=0.00001,callbacks=[ParameterMetricCallback(learn.loss_func)])\n",
    "learn.load('l2reg-baseline-2')"
   ]
  },
  {
   "cell_type": "code",
   "execution_count": null,
   "metadata": {},
   "outputs": [],
   "source": [
    "learn.save('l2reg-baseline-2')"
   ]
  },
  {
   "cell_type": "code",
   "execution_count": null,
   "metadata": {},
   "outputs": [],
   "source": [
    "learn.load('l2reg-baseline-2')\n",
    "learn.model.true_tuple_loss_false_just_out = True\n",
    "learn.model.use_side_infomation = SiNetChannelIn.NoSideInformation\n",
    "learn.loss_func.use_side_infomation = SiNetChannelIn.NoSideInformation\n",
    "learn.fit(1, lr=0.0001,wd=0,callbacks=[ParameterMetricCallback(learn.loss_func),ParameterRunningAverageMetricCallback(learn.loss_func)])\n",
    "learn.load('l2reg-baseline-3')\n"
   ]
  },
  {
   "cell_type": "code",
   "execution_count": null,
   "metadata": {},
   "outputs": [],
   "source": [
    "learn.model.my_tuple[5]\n"
   ]
  },
  {
   "cell_type": "code",
   "execution_count": null,
   "metadata": {},
   "outputs": [],
   "source": [
    "learn.data.train_ds[2][0].img"
   ]
  },
  {
   "cell_type": "code",
   "execution_count": null,
   "metadata": {},
   "outputs": [],
   "source": [
    "learn.data.train_ds[1][0].si_img"
   ]
  },
  {
   "cell_type": "code",
   "execution_count": null,
   "metadata": {},
   "outputs": [],
   "source": [
    "learn.loss_func.soft_bit_entropy"
   ]
  },
  {
   "cell_type": "code",
   "execution_count": null,
   "metadata": {},
   "outputs": [],
   "source": [
    "learn.loss_func.autoencoder_loss_value"
   ]
  },
  {
   "cell_type": "code",
   "execution_count": null,
   "metadata": {},
   "outputs": [],
   "source": [
    "\n",
    "# # show_image(Image(learn.model.my_tuple[0][:,:50,:50]/255))\n",
    "# # Image(learn.model.my_tuple[2].squeeze_().detach()/255.0)\n",
    "mt = learn.model.my_tuple[3].squeeze_().detach()\n",
    "mx, mn =torch.max(mt), torch.min(mt)\n",
    "diff = mx-mn\n",
    "show_image(Image((mt - mn)/(diff)),figsize=(30,30))\n",
    "# # print(mn)\n",
    "\n",
    "# torch.min(learn.model.my_tuple[2].squeeze_().detach())"
   ]
  },
  {
   "cell_type": "code",
   "execution_count": null,
   "metadata": {},
   "outputs": [],
   "source": [
    "# learn.model.true_tuple_loss_false_just_out = False\n",
    "\n",
    "# learn.show_results(figsize=(30,30))"
   ]
  },
  {
   "cell_type": "code",
   "execution_count": null,
   "metadata": {},
   "outputs": [],
   "source": []
  },
  {
   "cell_type": "code",
   "execution_count": null,
   "metadata": {},
   "outputs": [],
   "source": []
  }
 ],
 "metadata": {
  "environment": {
   "name": "pytorch-gpu.1-4.m46",
   "type": "gcloud",
   "uri": "gcr.io/deeplearning-platform-release/pytorch-gpu.1-4:m46"
  },
  "kernelspec": {
   "display_name": "Python 3",
   "language": "python",
   "name": "python3"
  },
  "language_info": {
   "codemirror_mode": {
    "name": "ipython",
    "version": 3
   },
   "file_extension": ".py",
   "mimetype": "text/x-python",
   "name": "python",
   "nbconvert_exporter": "python",
   "pygments_lexer": "ipython3",
   "version": "3.7.7"
  }
 },
 "nbformat": 4,
 "nbformat_minor": 4
}
