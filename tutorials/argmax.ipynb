{
 "cells": [
  {
   "cell_type": "code",
   "execution_count": 1,
   "metadata": {},
   "outputs": [],
   "source": [
    "%load_ext autoreload\n",
    "%autoreload 2"
   ]
  },
  {
   "cell_type": "code",
   "execution_count": 2,
   "metadata": {},
   "outputs": [],
   "source": [
    "import torch\n",
    "from torch import nn\n",
    "from torch.nn import functional as F "
   ]
  },
  {
   "cell_type": "code",
   "execution_count": 42,
   "metadata": {},
   "outputs": [
    {
     "name": "stdout",
     "output_type": "stream",
     "text": [
      "x.shape=torch.Size([3, 4, 4])\n",
      "x=tensor([[[ 1.,  0.,  0.,  0.],\n",
      "         [15.,  1.,  0.,  0.],\n",
      "         [ 0.,  0.,  1.,  0.],\n",
      "         [ 0.,  0.,  0.,  1.]],\n",
      "\n",
      "        [[ 2.,  0.,  0.,  0.],\n",
      "         [ 0.,  2.,  0.,  0.],\n",
      "         [ 0.,  0.,  2.,  0.],\n",
      "         [ 0.,  0.,  0.,  2.]],\n",
      "\n",
      "        [[ 3.,  0.,  0.,  0.],\n",
      "         [ 0.,  3.,  0.,  0.],\n",
      "         [ 0.,  0.,  3.,  0.],\n",
      "         [ 0.,  0.,  0.,  3.]]])\n"
     ]
    }
   ],
   "source": [
    "x = (torch.stack([torch.eye(n=4), torch.eye(n=4) * 2, torch.eye(n=4) * 3])\n",
    "            .repeat(1, 1, 1)\n",
    "            \n",
    "        )\n",
    "\n",
    "x[0,1,0]= 15\n",
    "print(f\"{x.shape=}\")\n",
    "print(f\"{x=}\")\n"
   ]
  },
  {
   "cell_type": "code",
   "execution_count": 49,
   "metadata": {},
   "outputs": [
    {
     "name": "stdout",
     "output_type": "stream",
     "text": [
      "xx.shape=torch.Size([3, 16])\n",
      "xx=tensor([[ 1.,  0.,  0.,  0., 15.,  1.,  0.,  0.,  0.,  0.,  1.,  0.,  0.,  0.,\n",
      "          0.,  1.],\n",
      "        [ 2.,  0.,  0.,  0.,  0.,  2.,  0.,  0.,  0.,  0.,  2.,  0.,  0.,  0.,\n",
      "          0.,  2.],\n",
      "        [ 3.,  0.,  0.,  0.,  0.,  3.,  0.,  0.,  0.,  0.,  3.,  0.,  0.,  0.,\n",
      "          0.,  3.]])\n",
      "torch.argmax(xx,dim= 1)=tensor([ 4, 15, 15])\n"
     ]
    }
   ],
   "source": [
    "xx = x.view(3,16)\n",
    "print(f\"{xx.shape=}\")\n",
    "print(f\"{xx=}\")\n",
    "print(f\"{torch.argmax(xx,dim= 1)=}\")\n",
    "\n"
   ]
  },
  {
   "cell_type": "code",
   "execution_count": null,
   "metadata": {},
   "outputs": [],
   "source": []
  }
 ],
 "metadata": {
  "kernelspec": {
   "display_name": "Python 3.8.2 64-bit ('torch': conda)",
   "language": "python",
   "name": "python38264bittorchconda5a49bb01e90b47d3b7ca1c7fc4dc1607"
  },
  "language_info": {
   "codemirror_mode": {
    "name": "ipython",
    "version": 3
   },
   "file_extension": ".py",
   "mimetype": "text/x-python",
   "name": "python",
   "nbconvert_exporter": "python",
   "pygments_lexer": "ipython3",
   "version": "3.8.2"
  }
 },
 "nbformat": 4,
 "nbformat_minor": 4
}
