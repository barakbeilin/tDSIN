{
 "cells": [
  {
   "cell_type": "code",
   "execution_count": 1,
   "metadata": {},
   "outputs": [],
   "source": [
    "%load_ext autoreload\n",
    "%autoreload 2"
   ]
  },
  {
   "cell_type": "code",
   "execution_count": 2,
   "metadata": {},
   "outputs": [],
   "source": [
    "import torch\n",
    "from torch import nn\n",
    "from torch.nn import functional as F "
   ]
  },
  {
   "cell_type": "code",
   "execution_count": 21,
   "metadata": {},
   "outputs": [
    {
     "name": "stdout",
     "output_type": "stream",
     "text": [
      "x.shape=torch.Size([3, 4, 5])\n",
      "x=tensor([[[ 1.,  0.,  0.,  0.,  0.],\n",
      "         [15.,  1.,  0.,  0.,  0.],\n",
      "         [ 0.,  0.,  1.,  0.,  0.],\n",
      "         [ 0.,  0.,  0.,  1.,  0.]],\n",
      "\n",
      "        [[ 2.,  0.,  0.,  0.,  0.],\n",
      "         [ 2.,  2.,  0.,  0.,  0.],\n",
      "         [ 0.,  0.,  2.,  0.,  0.],\n",
      "         [ 0.,  0.,  0.,  2.,  0.]],\n",
      "\n",
      "        [[ 3.,  0.,  0.,  0.,  0.],\n",
      "         [ 0.,  3.,  0.,  0.,  0.],\n",
      "         [ 0.,  0.,  3.,  0.,  0.],\n",
      "         [ 0.,  0.,  0.,  0.,  4.]]])\n"
     ]
    }
   ],
   "source": [
    "x = (torch.stack([torch.eye(n=4, m =5), torch.eye(n=4,m =5) * 2, torch.eye(n=4,m =5) * 3])\n",
    "            .repeat(1, 1, 1)\n",
    "            \n",
    "        )\n",
    "\n",
    "x[0,1,0]= 15\n",
    "x[1,1,0]= 2\n",
    "x[2,3,3]= 0\n",
    "x[2,3,4]= 4\n",
    "print(f\"{x.shape=}\")\n",
    "print(f\"{x=}\")\n"
   ]
  },
  {
   "cell_type": "code",
   "execution_count": 22,
   "metadata": {},
   "outputs": [
    {
     "name": "stdout",
     "output_type": "stream",
     "text": [
      "xx.shape=torch.Size([3, 20])\n",
      "xx=tensor([[ 1.,  0.,  0.,  0.,  0., 15.,  1.,  0.,  0.,  0.,  0.,  0.,  1.,  0.,\n",
      "          0.,  0.,  0.,  0.,  1.,  0.],\n",
      "        [ 2.,  0.,  0.,  0.,  0.,  2.,  2.,  0.,  0.,  0.,  0.,  0.,  2.,  0.,\n",
      "          0.,  0.,  0.,  0.,  2.,  0.],\n",
      "        [ 3.,  0.,  0.,  0.,  0.,  0.,  3.,  0.,  0.,  0.,  0.,  0.,  3.,  0.,\n",
      "          0.,  0.,  0.,  0.,  0.,  4.]])\n",
      "vecotr_index_of_best_patch=tensor([ 5, 18, 19])\n",
      "best_values_verification=[tensor(15.), tensor(2.), tensor(4.)]\n",
      "[(v//x.shape[-1],v % x.shape[-1] ) for v in vecotr_index_of_best_patch]=[(tensor(1), tensor(0)), (tensor(3), tensor(3)), (tensor(3), tensor(4))]\n"
     ]
    }
   ],
   "source": [
    "xx = x.view(3,20)\n",
    "print(f\"{xx.shape=}\")\n",
    "print(f\"{xx=}\")\n",
    "vecotr_index_of_best_patch = torch.argmax(xx,dim= 1)\n",
    "best_values_verification = [xx[i,v] for i,v in enumerate(vecotr_index_of_best_patch)]\n",
    "print(f\"{vecotr_index_of_best_patch=}\")\n",
    "print(f\"{best_values_verification=}\")\n",
    "print(f\"{[(v//x.shape[-1],v % x.shape[-1] ) for v in vecotr_index_of_best_patch]=}\")\n"
   ]
  },
  {
   "cell_type": "code",
   "execution_count": null,
   "metadata": {},
   "outputs": [],
   "source": []
  }
 ],
 "metadata": {
  "kernelspec": {
   "display_name": "Python 3.8.2 64-bit ('torch': conda)",
   "language": "python",
   "name": "python38264bittorchconda5a49bb01e90b47d3b7ca1c7fc4dc1607"
  },
  "language_info": {
   "codemirror_mode": {
    "name": "ipython",
    "version": 3
   },
   "file_extension": ".py",
   "mimetype": "text/x-python",
   "name": "python",
   "nbconvert_exporter": "python",
   "pygments_lexer": "ipython3",
   "version": "3.8.2"
  }
 },
 "nbformat": 4,
 "nbformat_minor": 4
}
