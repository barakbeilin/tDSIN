{
 "cells": [
  {
   "cell_type": "code",
   "execution_count": 1,
   "metadata": {},
   "outputs": [],
   "source": [
    "%reload_ext autoreload\n",
    "%autoreload 2"
   ]
  },
  {
   "cell_type": "code",
   "execution_count": 2,
   "metadata": {},
   "outputs": [],
   "source": [
    "from fastai import *\n",
    "from fastai.vision import *\n",
    "import torch\n",
    "from torch import nn\n",
    "from dsin.ae.data_manager.data_loader import (\n",
    "    SideinformationImageImageList, ImageSiTuple)\n",
    "from dsin.ae import config\n",
    "from dsin.ae.si_ae import SideInformationAutoEncoder\n",
    "from dsin.ae.si_net import SiNetChannelIn\n",
    "from dsin.ae.loss_man import LossManager\n",
    "from dsin.ae.distortions import Distortions\n",
    "from dsin.ae.kitti_normalizer import ChangeImageStatsToKitti, ChangeState\n",
    "from dsin.ae import config\n"
   ]
  },
  {
   "cell_type": "code",
   "execution_count": 3,
   "metadata": {},
   "outputs": [
    {
     "data": {
      "text/plain": [
       "<SiNetChannelIn.NoSideInformation: 3>"
      ]
     },
     "execution_count": 3,
     "metadata": {},
     "output_type": "execute_result"
    }
   ],
   "source": [
    "config.use_si_flag"
   ]
  },
  {
   "cell_type": "code",
   "execution_count": 4,
   "metadata": {},
   "outputs": [],
   "source": [
    "si_autoencoder = SideInformationAutoEncoder(config.use_si_flag)\n"
   ]
  },
  {
   "cell_type": "code",
   "execution_count": 5,
   "metadata": {},
   "outputs": [],
   "source": [
    "image_list = SideinformationImageImageList.from_csv(path=\"/mnt/code/repos/tDSIN/src/dsin/data\",csv_names=[\"nano_KITTI_stereo_train.txt\",\"nano_KITTI_stereo_val.txt\"])"
   ]
  },
  {
   "cell_type": "code",
   "execution_count": 6,
   "metadata": {},
   "outputs": [
    {
     "data": {
      "text/plain": [
       "'/mnt/code/repos/tDSIN/src/dsin/data/data_scene_flow_multiview/training/image_3/000000_10.png'"
      ]
     },
     "execution_count": 6,
     "metadata": {},
     "output_type": "execute_result"
    }
   ],
   "source": [
    "image_list.items[0]"
   ]
  },
  {
   "cell_type": "code",
   "execution_count": 7,
   "metadata": {},
   "outputs": [],
   "source": [
    "class CustomLoss(nn.Module):\n",
    "    def forward(self, *args):\n",
    "        raise Exception(args, args[1].shape)\n",
    "    "
   ]
  },
  {
   "cell_type": "code",
   "execution_count": 8,
   "metadata": {},
   "outputs": [],
   "source": [
    "ll = image_list.split_by_valid_func(lambda x: 'testing'  in x ).label_from_func(lambda x: x)"
   ]
  },
  {
   "cell_type": "code",
   "execution_count": 9,
   "metadata": {},
   "outputs": [],
   "source": [
    "batchsize = 1\n",
    "data = (image_list\n",
    "        .split_by_valid_func(lambda x: 'testing'  in x )\n",
    "        .label_from_func(lambda x: x)\n",
    "        .transform(None,size=(336,1224),resize_method=ResizeMethod.CROP,tfm_y=True)\n",
    "        .databunch(bs=batchsize))\n",
    " "
   ]
  },
  {
   "cell_type": "code",
   "execution_count": 10,
   "metadata": {},
   "outputs": [
    {
     "data": {
      "text/plain": [
       "ImageSiTuple [tensor([[[0.0237, 0.0235, 0.0235,  ..., 0.3647, 0.3647, 0.3647],\n",
       "         [0.0286, 0.0237, 0.0237,  ..., 0.3647, 0.3651, 0.3649],\n",
       "         [0.0510, 0.0275, 0.0275,  ..., 0.3649, 0.3723, 0.3684],\n",
       "         ...,\n",
       "         [0.0980, 0.0904, 0.0865,  ..., 0.0786, 0.0786, 0.0786],\n",
       "         [0.0980, 0.0902, 0.0825,  ..., 0.0784, 0.0784, 0.0784],\n",
       "         [0.0980, 0.0864, 0.0861,  ..., 0.0747, 0.0747, 0.0747]],\n",
       "\n",
       "        [[0.0357, 0.0353, 0.0314,  ..., 0.4084, 0.4086, 0.4123],\n",
       "         [0.0433, 0.0355, 0.0314,  ..., 0.4190, 0.4231, 0.4233],\n",
       "         [0.0481, 0.0396, 0.0316,  ..., 0.4074, 0.4151, 0.4190],\n",
       "         ...,\n",
       "         [0.1096, 0.1098, 0.1098,  ..., 0.0941, 0.0943, 0.0943],\n",
       "         [0.1098, 0.1061, 0.1061,  ..., 0.0829, 0.0829, 0.0866],\n",
       "         [0.1098, 0.1059, 0.1059,  ..., 0.0861, 0.0824, 0.0825]],\n",
       "\n",
       "        [[0.0308, 0.0310, 0.0273,  ..., 0.4654, 0.4656, 0.4624],\n",
       "         [0.0196, 0.0235, 0.0235,  ..., 0.4392, 0.4433, 0.4551],\n",
       "         [0.0210, 0.0247, 0.0237,  ..., 0.4394, 0.4475, 0.4592],\n",
       "         ...,\n",
       "         [0.1214, 0.1214, 0.1176,  ..., 0.0980, 0.1098, 0.1175],\n",
       "         [0.1216, 0.1216, 0.1176,  ..., 0.0943, 0.0986, 0.1064],\n",
       "         [0.1216, 0.1216, 0.1252,  ..., 0.0941, 0.0943, 0.0984]]]), tensor([[[0.0314, 0.0274, 0.0235,  ..., 0.3373, 0.3374, 0.3490],\n",
       "         [0.0316, 0.0278, 0.0239,  ..., 0.3371, 0.3408, 0.3483],\n",
       "         [0.0353, 0.0353, 0.0314,  ..., 0.3333, 0.3335, 0.3337],\n",
       "         ...,\n",
       "         [0.1942, 0.1907, 0.2099,  ..., 0.0708, 0.0594, 0.0635],\n",
       "         [0.2036, 0.2109, 0.2418,  ..., 0.0818, 0.0775, 0.0777],\n",
       "         [0.2489, 0.2531, 0.2844,  ..., 0.0861, 0.0859, 0.0859]],\n",
       "\n",
       "        [[0.0431, 0.0431, 0.0431,  ..., 0.3843, 0.3882, 0.3881],\n",
       "         [0.0428, 0.0429, 0.0429,  ..., 0.3843, 0.3882, 0.3847],\n",
       "         [0.0351, 0.0392, 0.0394,  ..., 0.3837, 0.3880, 0.3924],\n",
       "         ...,\n",
       "         [0.1951, 0.2065, 0.2220,  ..., 0.0786, 0.0825, 0.0902],\n",
       "         [0.2223, 0.2378, 0.2535,  ..., 0.0897, 0.0861, 0.0902],\n",
       "         [0.2423, 0.2580, 0.2587,  ..., 0.0977, 0.0938, 0.0939]],\n",
       "\n",
       "        [[0.0390, 0.0390, 0.0390,  ..., 0.4156, 0.4385, 0.4348],\n",
       "         [0.0355, 0.0353, 0.0353,  ..., 0.4159, 0.4235, 0.4235],\n",
       "         [0.0392, 0.0355, 0.0355,  ..., 0.4192, 0.4233, 0.4233],\n",
       "         ...,\n",
       "         [0.2078, 0.2192, 0.2267,  ..., 0.0898, 0.0975, 0.1051],\n",
       "         [0.2378, 0.2570, 0.2574,  ..., 0.0902, 0.0980, 0.1134],\n",
       "         [0.2317, 0.2363, 0.2325,  ..., 0.1127, 0.1093, 0.1100]]])]"
      ]
     },
     "execution_count": 10,
     "metadata": {},
     "output_type": "execute_result"
    }
   ],
   "source": [
    "data.train_ds[0][0]"
   ]
  },
  {
   "cell_type": "code",
   "execution_count": 11,
   "metadata": {},
   "outputs": [],
   "source": [
    "my_learner = Learner(data=data,\n",
    "                     model=si_autoencoder,\n",
    "                     opt_func=torch.optim.Adam,\n",
    "                     loss_func=LossManager(config.use_si_flag))"
   ]
  },
  {
   "cell_type": "code",
   "execution_count": null,
   "metadata": {},
   "outputs": [
    {
     "data": {
      "text/html": [
       "\n",
       "    <div>\n",
       "        <style>\n",
       "            /* Turns off some styling */\n",
       "            progress {\n",
       "                /* gets rid of default border in Firefox and Opera. */\n",
       "                border: none;\n",
       "                /* Needs to be in here for Safari polyfill so background images work as expected. */\n",
       "                background-size: auto;\n",
       "            }\n",
       "            .progress-bar-interrupted, .progress-bar-interrupted::-webkit-progress-bar {\n",
       "                background: #F44336;\n",
       "            }\n",
       "        </style>\n",
       "      <progress value='1' class='' max='5', style='width:300px; height:20px; vertical-align: middle;'></progress>\n",
       "      20.00% [1/5 00:35<02:20]\n",
       "    </div>\n",
       "    \n",
       "<table border=\"1\" class=\"dataframe\">\n",
       "  <thead>\n",
       "    <tr style=\"text-align: left;\">\n",
       "      <th>epoch</th>\n",
       "      <th>train_loss</th>\n",
       "      <th>valid_loss</th>\n",
       "      <th>time</th>\n",
       "    </tr>\n",
       "  </thead>\n",
       "  <tbody>\n",
       "    <tr>\n",
       "      <td>0</td>\n",
       "      <td>1065.512817</td>\n",
       "      <td>3072.430176</td>\n",
       "      <td>00:35</td>\n",
       "    </tr>\n",
       "  </tbody>\n",
       "</table><p>\n",
       "\n",
       "    <div>\n",
       "        <style>\n",
       "            /* Turns off some styling */\n",
       "            progress {\n",
       "                /* gets rid of default border in Firefox and Opera. */\n",
       "                border: none;\n",
       "                /* Needs to be in here for Safari polyfill so background images work as expected. */\n",
       "                background-size: auto;\n",
       "            }\n",
       "            .progress-bar-interrupted, .progress-bar-interrupted::-webkit-progress-bar {\n",
       "                background: #F44336;\n",
       "            }\n",
       "        </style>\n",
       "      <progress value='0' class='' max='2', style='width:300px; height:20px; vertical-align: middle;'></progress>\n",
       "      0.00% [0/2 00:00<00:00]\n",
       "    </div>\n",
       "    "
      ],
      "text/plain": [
       "<IPython.core.display.HTML object>"
      ]
     },
     "metadata": {},
     "output_type": "display_data"
    }
   ],
   "source": [
    "\n",
    "\n",
    "my_learner.fit(5)\n"
   ]
  },
  {
   "cell_type": "code",
   "execution_count": null,
   "metadata": {},
   "outputs": [],
   "source": []
  }
 ],
 "metadata": {
  "kernelspec": {
   "display_name": "tfastai",
   "language": "python",
   "name": "tfastai"
  },
  "language_info": {
   "codemirror_mode": {
    "name": "ipython",
    "version": 3
   },
   "file_extension": ".py",
   "mimetype": "text/x-python",
   "name": "python",
   "nbconvert_exporter": "python",
   "pygments_lexer": "ipython3",
   "version": "3.7.7"
  }
 },
 "nbformat": 4,
 "nbformat_minor": 4
}
