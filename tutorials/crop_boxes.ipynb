{
 "cells": [
  {
   "cell_type": "code",
   "execution_count": 1,
   "metadata": {},
   "outputs": [],
   "source": [
    "%load_ext autoreload\n",
    "%autoreload 2"
   ]
  },
  {
   "cell_type": "code",
   "execution_count": 2,
   "metadata": {},
   "outputs": [],
   "source": [
    "import torch\n",
    "from torch import nn\n",
    "from torch.nn import functional as F \n",
    "from torchvision.ops import roi_align"
   ]
  },
  {
   "cell_type": "markdown",
   "metadata": {},
   "source": [
    "# Extracting a patch using boxes"
   ]
  },
  {
   "cell_type": "code",
   "execution_count": 87,
   "metadata": {},
   "outputs": [
    {
     "name": "stdout",
     "output_type": "stream",
     "text": [
      "x.shape=torch.Size([1, 3, 3, 3])\n",
      "x=tensor([[[[ 9.,  2., 20.],\n",
      "          [11.,  3., 17.],\n",
      "          [19.,  7.,  3.]],\n",
      "\n",
      "         [[ 1., 12., 12.],\n",
      "          [ 5., 20.,  4.],\n",
      "          [ 2., 11., 18.]],\n",
      "\n",
      "         [[ 8., 15.,  7.],\n",
      "          [11., 16., 16.],\n",
      "          [ 2., 18.,  2.]]]])\n",
      "out=tensor([[[[ 9.,  2., 20.],\n",
      "          [11.,  3., 17.],\n",
      "          [19.,  7.,  3.]],\n",
      "\n",
      "         [[ 1., 12., 12.],\n",
      "          [ 5., 20.,  4.],\n",
      "          [ 2., 11., 18.]],\n",
      "\n",
      "         [[ 8., 15.,  7.],\n",
      "          [11., 16., 16.],\n",
      "          [ 2., 18.,  2.]]]])\n"
     ]
    }
   ],
   "source": [
    "x =torch.ceil(torch.rand(1,3,3,3)*20)\n",
    "print(f\"{x.shape=}\")\n",
    "print(f\"{x=}\")\n",
    "out  =roi_align(\n",
    "    x,\n",
    "    [torch.tensor([[-0.5,-0.5,2.5,2.5]])],\n",
    "    output_size = (3,3),\n",
    "    spatial_scale=1.0,\n",
    "    sampling_ratio=-1,\n",
    "    aligned=False,\n",
    ")\n",
    "print(f\"{out=}\")\n"
   ]
  },
  {
   "cell_type": "markdown",
   "metadata": {},
   "source": [
    "#  Extracting multiple boxes from tensor index to roi-index"
   ]
  },
  {
   "cell_type": "code",
   "execution_count": 106,
   "metadata": {},
   "outputs": [
    {
     "name": "stdout",
     "output_type": "stream",
     "text": [
      "x.shape=torch.Size([1, 3, 3, 6])\n"
     ]
    },
    {
     "data": {
      "text/plain": [
       "tensor([[[[ 7., 14.,  8.,  6., 11., 19.],\n",
       "          [ 7., 12.,  7.,  2., 18., 19.],\n",
       "          [13.,  9., 17.,  3.,  6., 20.]],\n",
       "\n",
       "         [[16.,  2., 15.,  9.,  3.,  4.],\n",
       "          [ 8.,  7.,  1.,  4.,  4., 18.],\n",
       "          [10., 17., 18., 18.,  9., 11.]],\n",
       "\n",
       "         [[14.,  7.,  4., 18., 17., 10.],\n",
       "          [ 8.,  4., 20., 18.,  8., 15.],\n",
       "          [11.,  8.,  7., 13., 15.,  5.]]]])"
      ]
     },
     "execution_count": 106,
     "metadata": {},
     "output_type": "execute_result"
    }
   ],
   "source": [
    "x =torch.ceil(torch.rand(1,3,3,6)*20)\n",
    "print(f\"{x.shape=}\")\n",
    "\n",
    "x"
   ]
  },
  {
   "cell_type": "code",
   "execution_count": 118,
   "metadata": {},
   "outputs": [
    {
     "name": "stdout",
     "output_type": "stream",
     "text": [
      "out=tensor([[[[ 7., 14.],\n",
      "          [ 7., 12.]],\n",
      "\n",
      "         [[16.,  2.],\n",
      "          [ 8.,  7.]],\n",
      "\n",
      "         [[14.,  7.],\n",
      "          [ 8.,  4.]]]])\n"
     ]
    }
   ],
   "source": [
    "patch_w = 2\n",
    "patch_h = 2\n",
    "offset_w = 0\n",
    "offset_h = 0\n",
    "out  =roi_align(\n",
    "    x,\n",
    "    [torch.tensor([[-0.5+offset_w,-0.5+offset_h,-0.5+offset_w +patch_w,-0.5+offset_h+patch_h]])],\n",
    "    output_size = (patch_h,patch_w),\n",
    "    spatial_scale=1.0,\n",
    "    sampling_ratio=-1,\n",
    "    aligned=False,\n",
    ")\n",
    "print(f\"{out=}\")"
   ]
  },
  {
   "cell_type": "code",
   "execution_count": null,
   "metadata": {},
   "outputs": [],
   "source": []
  },
  {
   "cell_type": "code",
   "execution_count": null,
   "metadata": {},
   "outputs": [],
   "source": []
  },
  {
   "cell_type": "code",
   "execution_count": null,
   "metadata": {},
   "outputs": [],
   "source": []
  },
  {
   "cell_type": "code",
   "execution_count": null,
   "metadata": {},
   "outputs": [],
   "source": []
  },
  {
   "cell_type": "code",
   "execution_count": null,
   "metadata": {},
   "outputs": [],
   "source": []
  },
  {
   "cell_type": "code",
   "execution_count": null,
   "metadata": {},
   "outputs": [],
   "source": []
  }
 ],
 "metadata": {
  "kernelspec": {
   "display_name": "Python 3.8.2 64-bit ('torch': conda)",
   "language": "python",
   "name": "python38264bittorchconda5a49bb01e90b47d3b7ca1c7fc4dc1607"
  },
  "language_info": {
   "codemirror_mode": {
    "name": "ipython",
    "version": 3
   },
   "file_extension": ".py",
   "mimetype": "text/x-python",
   "name": "python",
   "nbconvert_exporter": "python",
   "pygments_lexer": "ipython3",
   "version": "3.8.2"
  }
 },
 "nbformat": 4,
 "nbformat_minor": 4
}
