{
 "cells": [
  {
   "cell_type": "code",
   "execution_count": 1,
   "metadata": {},
   "outputs": [],
   "source": [
    "%load_ext autoreload\n",
    "%autoreload 2"
   ]
  },
  {
   "cell_type": "code",
   "execution_count": 2,
   "metadata": {},
   "outputs": [],
   "source": [
    "import torch\n",
    "from torch import nn\n",
    "from torch.nn import functional as F \n",
    "from torchvision.ops import roi_align"
   ]
  },
  {
   "cell_type": "markdown",
   "metadata": {},
   "source": [
    "# Extracting a patch using boxes"
   ]
  },
  {
   "cell_type": "code",
   "execution_count": 3,
   "metadata": {},
   "outputs": [
    {
     "name": "stdout",
     "output_type": "stream",
     "text": [
      "x.shape=torch.Size([1, 3, 3, 3])\n",
      "x=tensor([[[[ 5., 17., 10.],\n",
      "          [17.,  9.,  3.],\n",
      "          [11.,  3.,  7.]],\n",
      "\n",
      "         [[ 2., 17.,  7.],\n",
      "          [16., 11.,  8.],\n",
      "          [10., 12.,  7.]],\n",
      "\n",
      "         [[10.,  9.,  2.],\n",
      "          [ 4.,  6., 17.],\n",
      "          [12., 18., 10.]]]])\n",
      "out=tensor([[[[ 5., 17., 10.],\n",
      "          [17.,  9.,  3.],\n",
      "          [11.,  3.,  7.]],\n",
      "\n",
      "         [[ 2., 17.,  7.],\n",
      "          [16., 11.,  8.],\n",
      "          [10., 12.,  7.]],\n",
      "\n",
      "         [[10.,  9.,  2.],\n",
      "          [ 4.,  6., 17.],\n",
      "          [12., 18., 10.]]]])\n"
     ]
    }
   ],
   "source": [
    "x =torch.ceil(torch.rand(1,3,3,3)*20)\n",
    "print(f\"{x.shape=}\")\n",
    "print(f\"{x=}\")\n",
    "out  =roi_align(\n",
    "    x,\n",
    "    [torch.tensor([[-0.5,-0.5,2.5,2.5]])],\n",
    "    output_size = (3,3),\n",
    "    spatial_scale=1.0,\n",
    "    sampling_ratio=-1,\n",
    "    aligned=False,\n",
    ")\n",
    "print(f\"{out=}\")\n"
   ]
  },
  {
   "cell_type": "markdown",
   "metadata": {},
   "source": [
    "#  Extracting multiple boxes from tensor index to roi-index"
   ]
  },
  {
   "cell_type": "code",
   "execution_count": 120,
   "metadata": {},
   "outputs": [
    {
     "data": {
      "text/plain": [
       "tensor([[[[  0.,   1.,   2.,   3.,   4.,   5.],\n",
       "          [  6.,   7.,   8.,   9.,  10.,  11.],\n",
       "          [ 12.,  13.,  14.,  15.,  16.,  17.],\n",
       "          [ 18.,  19.,  20.,  21.,  22.,  23.],\n",
       "          [ 24.,  25.,  26.,  27.,  28.,  29.],\n",
       "          [ 30.,  31.,  32.,  33.,  34.,  35.]],\n",
       "\n",
       "         [[ 36.,  37.,  38.,  39.,  40.,  41.],\n",
       "          [ 42.,  43.,  44.,  45.,  46.,  47.],\n",
       "          [ 48.,  49.,  50.,  51.,  52.,  53.],\n",
       "          [ 54.,  55.,  56.,  57.,  58.,  59.],\n",
       "          [ 60.,  61.,  62.,  63.,  64.,  65.],\n",
       "          [ 66.,  67.,  68.,  69.,  70.,  71.]],\n",
       "\n",
       "         [[ 72.,  73.,  74.,  75.,  76.,  77.],\n",
       "          [ 78.,  79.,  80.,  81.,  82.,  83.],\n",
       "          [ 84.,  85.,  86.,  87.,  88.,  89.],\n",
       "          [ 90.,  91.,  92.,  93.,  94.,  95.],\n",
       "          [ 96.,  97.,  98.,  99., 100., 101.],\n",
       "          [102., 103., 104., 105., 106., 107.]]]])"
      ]
     },
     "execution_count": 120,
     "metadata": {},
     "output_type": "execute_result"
    }
   ],
   "source": [
    "x =torch.linspace(start=0 , end = 3*6*6-1 , steps =3*6*6 )\n",
    "x= x.view(1,3,6,6)\n",
    "x"
   ]
  },
  {
   "cell_type": "code",
   "execution_count": 121,
   "metadata": {},
   "outputs": [
    {
     "name": "stdout",
     "output_type": "stream",
     "text": [
      "out=tensor([[[[  0.,   1.],\n",
      "          [  6.,   7.]],\n",
      "\n",
      "         [[ 36.,  37.],\n",
      "          [ 42.,  43.]],\n",
      "\n",
      "         [[ 72.,  73.],\n",
      "          [ 78.,  79.]]],\n",
      "\n",
      "\n",
      "        [[[  2.,   3.],\n",
      "          [  8.,   9.]],\n",
      "\n",
      "         [[ 38.,  39.],\n",
      "          [ 44.,  45.]],\n",
      "\n",
      "         [[ 74.,  75.],\n",
      "          [ 80.,  81.]]],\n",
      "\n",
      "\n",
      "        [[[  4.,   5.],\n",
      "          [ 10.,  11.]],\n",
      "\n",
      "         [[ 40.,  41.],\n",
      "          [ 46.,  47.]],\n",
      "\n",
      "         [[ 76.,  77.],\n",
      "          [ 82.,  83.]]],\n",
      "\n",
      "\n",
      "        [[[ 12.,  13.],\n",
      "          [ 18.,  19.]],\n",
      "\n",
      "         [[ 48.,  49.],\n",
      "          [ 54.,  55.]],\n",
      "\n",
      "         [[ 84.,  85.],\n",
      "          [ 90.,  91.]]],\n",
      "\n",
      "\n",
      "        [[[ 14.,  15.],\n",
      "          [ 20.,  21.]],\n",
      "\n",
      "         [[ 50.,  51.],\n",
      "          [ 56.,  57.]],\n",
      "\n",
      "         [[ 86.,  87.],\n",
      "          [ 92.,  93.]]],\n",
      "\n",
      "\n",
      "        [[[ 16.,  17.],\n",
      "          [ 22.,  23.]],\n",
      "\n",
      "         [[ 52.,  53.],\n",
      "          [ 58.,  59.]],\n",
      "\n",
      "         [[ 88.,  89.],\n",
      "          [ 94.,  95.]]],\n",
      "\n",
      "\n",
      "        [[[ 24.,  25.],\n",
      "          [ 30.,  31.]],\n",
      "\n",
      "         [[ 60.,  61.],\n",
      "          [ 66.,  67.]],\n",
      "\n",
      "         [[ 96.,  97.],\n",
      "          [102., 103.]]],\n",
      "\n",
      "\n",
      "        [[[ 26.,  27.],\n",
      "          [ 32.,  33.]],\n",
      "\n",
      "         [[ 62.,  63.],\n",
      "          [ 68.,  69.]],\n",
      "\n",
      "         [[ 98.,  99.],\n",
      "          [104., 105.]]],\n",
      "\n",
      "\n",
      "        [[[ 28.,  29.],\n",
      "          [ 34.,  35.]],\n",
      "\n",
      "         [[ 64.,  65.],\n",
      "          [ 70.,  71.]],\n",
      "\n",
      "         [[100., 101.],\n",
      "          [106., 107.]]]])\n",
      "x.shape=torch.Size([1, 3, 6, 6])\n",
      "out.shape=torch.Size([9, 3, 2, 2])\n"
     ]
    }
   ],
   "source": [
    "patch_w = 2\n",
    "patch_h = 2\n",
    "offsets_w = [torch.tensor(0),torch.tensor(2),torch.tensor(4)]*3\n",
    "offsets_h = [torch.tensor(0)]*3+[torch.tensor(2)]*3+[torch.tensor(4)]*3\n",
    "l = torch.tensor([[0,-0.5+offset_w,-0.5+offset_h,-0.5+offset_w +patch_w,-0.5+offset_h+patch_h] \n",
    "                  for (offset_h,offset_w) in zip(offsets_h,offsets_w) ])\n",
    "     \n",
    "\n",
    "out  =roi_align(\n",
    "    x,\n",
    "    l,\n",
    "    output_size = (patch_h,patch_w),\n",
    "    spatial_scale=1.0,\n",
    "    sampling_ratio=-1,\n",
    "    aligned=False,\n",
    ")\n",
    "print(f\"{out=}\")\n",
    "print(f\"{x.shape=}\")\n",
    "print(f\"{out.shape=}\")"
   ]
  },
  {
   "cell_type": "code",
   "execution_count": 132,
   "metadata": {},
   "outputs": [
    {
     "name": "stdout",
     "output_type": "stream",
     "text": [
      "out1.shape=torch.Size([3, 2, 2, 9])\n",
      "torch.all(folded.eq(x))=tensor(True)\n"
     ]
    }
   ],
   "source": [
    "out1= out.permute(1,2,3,0)\n",
    "print(f\"{out1.shape=}\")\n",
    "unfolded_out = out1.view(1,3*2*2,9)\n",
    "folding = nn.Fold(output_size=(6, 6), kernel_size=(2, 2), stride=(2,2))\n",
    "folded = folding(unfolded_out)\n",
    "print(f\"{torch.all(folded.eq(x))=}\")"
   ]
  },
  {
   "cell_type": "code",
   "execution_count": 123,
   "metadata": {},
   "outputs": [
    {
     "data": {
      "text/plain": [
       "[0, 2, 4, 0, 2, 4, 0, 2, 4]"
      ]
     },
     "execution_count": 123,
     "metadata": {},
     "output_type": "execute_result"
    }
   ],
   "source": [
    "[0,2,4]*3"
   ]
  },
  {
   "cell_type": "code",
   "execution_count": 146,
   "metadata": {},
   "outputs": [
    {
     "data": {
      "text/plain": [
       "tensor([[[0., 0., 0.],\n",
       "         [0., 0., 0.]]])"
      ]
     },
     "execution_count": 146,
     "metadata": {},
     "output_type": "execute_result"
    }
   ],
   "source": [
    "x = torch.zeros([1,2,3])\n",
    "x"
   ]
  },
  {
   "cell_type": "code",
   "execution_count": 147,
   "metadata": {},
   "outputs": [],
   "source": [
    "y=x.clone().detach()"
   ]
  },
  {
   "cell_type": "code",
   "execution_count": 148,
   "metadata": {},
   "outputs": [],
   "source": [
    "y[0,0,0]=1"
   ]
  },
  {
   "cell_type": "code",
   "execution_count": 149,
   "metadata": {},
   "outputs": [
    {
     "data": {
      "text/plain": [
       "tensor([[[0., 0., 0.],\n",
       "         [0., 0., 0.]]])"
      ]
     },
     "execution_count": 149,
     "metadata": {},
     "output_type": "execute_result"
    }
   ],
   "source": [
    "x"
   ]
  },
  {
   "cell_type": "code",
   "execution_count": null,
   "metadata": {},
   "outputs": [],
   "source": []
  }
 ],
 "metadata": {
  "kernelspec": {
   "display_name": "Python 3.8.2 64-bit ('torch': conda)",
   "language": "python",
   "name": "python38264bittorchconda5a49bb01e90b47d3b7ca1c7fc4dc1607"
  },
  "language_info": {
   "codemirror_mode": {
    "name": "ipython",
    "version": 3
   },
   "file_extension": ".py",
   "mimetype": "text/x-python",
   "name": "python",
   "nbconvert_exporter": "python",
   "pygments_lexer": "ipython3",
   "version": "3.8.2"
  }
 },
 "nbformat": 4,
 "nbformat_minor": 4
}
