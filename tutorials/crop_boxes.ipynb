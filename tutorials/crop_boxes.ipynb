{
 "cells": [
  {
   "cell_type": "code",
   "execution_count": 1,
   "metadata": {},
   "outputs": [],
   "source": [
    "%load_ext autoreload\n",
    "%autoreload 2"
   ]
  },
  {
   "cell_type": "code",
   "execution_count": 2,
   "metadata": {},
   "outputs": [],
   "source": [
    "import torch\n",
    "from torch import nn\n",
    "from torch.nn import functional as F \n",
    "from torchvision.ops import roi_align"
   ]
  },
  {
   "cell_type": "markdown",
   "metadata": {},
   "source": [
    "# Extracting a patch using boxes"
   ]
  },
  {
   "cell_type": "code",
   "execution_count": 3,
   "metadata": {},
   "outputs": [
    {
     "name": "stdout",
     "output_type": "stream",
     "text": [
      "x.shape=torch.Size([1, 3, 3, 3])\n",
      "x=tensor([[[[ 5., 17., 10.],\n",
      "          [17.,  9.,  3.],\n",
      "          [11.,  3.,  7.]],\n",
      "\n",
      "         [[ 2., 17.,  7.],\n",
      "          [16., 11.,  8.],\n",
      "          [10., 12.,  7.]],\n",
      "\n",
      "         [[10.,  9.,  2.],\n",
      "          [ 4.,  6., 17.],\n",
      "          [12., 18., 10.]]]])\n",
      "out=tensor([[[[ 5., 17., 10.],\n",
      "          [17.,  9.,  3.],\n",
      "          [11.,  3.,  7.]],\n",
      "\n",
      "         [[ 2., 17.,  7.],\n",
      "          [16., 11.,  8.],\n",
      "          [10., 12.,  7.]],\n",
      "\n",
      "         [[10.,  9.,  2.],\n",
      "          [ 4.,  6., 17.],\n",
      "          [12., 18., 10.]]]])\n"
     ]
    }
   ],
   "source": [
    "x =torch.ceil(torch.rand(1,3,3,3)*20)\n",
    "print(f\"{x.shape=}\")\n",
    "print(f\"{x=}\")\n",
    "out  =roi_align(\n",
    "    x,\n",
    "    [torch.tensor([[-0.5,-0.5,2.5,2.5]])],\n",
    "    output_size = (3,3),\n",
    "    spatial_scale=1.0,\n",
    "    sampling_ratio=-1,\n",
    "    aligned=False,\n",
    ")\n",
    "print(f\"{out=}\")\n"
   ]
  },
  {
   "cell_type": "markdown",
   "metadata": {},
   "source": [
    "#  Extracting multiple boxes from tensor index to roi-index"
   ]
  },
  {
   "cell_type": "code",
   "execution_count": 4,
   "metadata": {},
   "outputs": [
    {
     "name": "stdout",
     "output_type": "stream",
     "text": [
      "x.shape=torch.Size([1, 3, 3, 6])\n"
     ]
    },
    {
     "data": {
      "text/plain": [
       "tensor([[[[19., 13., 10., 16., 10., 11.],\n",
       "          [ 9., 18., 18., 19., 11., 11.],\n",
       "          [18., 16., 17.,  8., 13., 16.]],\n",
       "\n",
       "         [[13., 14., 20., 15., 13.,  3.],\n",
       "          [19., 20.,  5., 14.,  9.,  2.],\n",
       "          [ 6., 20.,  2., 12., 16., 20.]],\n",
       "\n",
       "         [[ 7., 10.,  8.,  3.,  1., 16.],\n",
       "          [17.,  7.,  4., 16., 19., 18.],\n",
       "          [15., 11.,  2., 16.,  6., 15.]]]])"
      ]
     },
     "execution_count": 4,
     "metadata": {},
     "output_type": "execute_result"
    }
   ],
   "source": [
    "x =torch.ceil(torch.rand(1,3,3,6)*20)\n",
    "print(f\"{x.shape=}\")\n",
    "\n",
    "x"
   ]
  },
  {
   "cell_type": "code",
   "execution_count": 34,
   "metadata": {},
   "outputs": [
    {
     "name": "stdout",
     "output_type": "stream",
     "text": [
      "out=tensor([[[[19., 13.],\n",
      "          [ 9., 18.]],\n",
      "\n",
      "         [[13., 14.],\n",
      "          [19., 20.]],\n",
      "\n",
      "         [[ 7., 10.],\n",
      "          [17.,  7.]]],\n",
      "\n",
      "\n",
      "        [[[10., 16.],\n",
      "          [18., 19.]],\n",
      "\n",
      "         [[20., 15.],\n",
      "          [ 5., 14.]],\n",
      "\n",
      "         [[ 8.,  3.],\n",
      "          [ 4., 16.]]]])\n",
      "x.shape=torch.Size([1, 3, 3, 6])\n",
      "out.shape=torch.Size([2, 3, 2, 2])\n"
     ]
    }
   ],
   "source": [
    "patch_w = 2\n",
    "patch_h = 2\n",
    "offsets_w = [torch.tensor(0),torch.tensor(2)]\n",
    "offsets_h = [torch.tensor(0),torch.tensor(0)]\n",
    "l = torch.tensor([[0,-0.5+offset_w,-0.5+offset_h,-0.5+offset_w +patch_w,-0.5+offset_h+patch_h] \n",
    "                  for (offset_h,offset_w) in zip(offsets_h,offsets_w) ])\n",
    "     \n",
    "\n",
    "out  =roi_align(\n",
    "    x,\n",
    "    l,\n",
    "    output_size = (patch_h,patch_w),\n",
    "    spatial_scale=1.0,\n",
    "    sampling_ratio=-1,\n",
    "    aligned=False,\n",
    ")\n",
    "print(f\"{out=}\")\n",
    "print(f\"{x.shape=}\")\n",
    "print(f\"{out.shape=}\")"
   ]
  },
  {
   "cell_type": "code",
   "execution_count": 36,
   "metadata": {},
   "outputs": [
    {
     "name": "stdout",
     "output_type": "stream",
     "text": [
      "out.view(1,3,2,4)=tensor([[[[19., 13.,  9., 18.],\n",
      "          [13., 14., 19., 20.]],\n",
      "\n",
      "         [[ 7., 10., 17.,  7.],\n",
      "          [10., 16., 18., 19.]],\n",
      "\n",
      "         [[20., 15.,  5., 14.],\n",
      "          [ 8.,  3.,  4., 16.]]]])\n"
     ]
    }
   ],
   "source": [
    "print(f\"{out.view(1,3,2,4)=}\")"
   ]
  },
  {
   "cell_type": "code",
   "execution_count": null,
   "metadata": {},
   "outputs": [],
   "source": []
  }
 ],
 "metadata": {
  "kernelspec": {
   "display_name": "Python 3.8.2 64-bit ('torch': conda)",
   "language": "python",
   "name": "python38264bittorchconda5a49bb01e90b47d3b7ca1c7fc4dc1607"
  },
  "language_info": {
   "codemirror_mode": {
    "name": "ipython",
    "version": 3
   },
   "file_extension": ".py",
   "mimetype": "text/x-python",
   "name": "python",
   "nbconvert_exporter": "python",
   "pygments_lexer": "ipython3",
   "version": "3.8.2"
  }
 },
 "nbformat": 4,
 "nbformat_minor": 4
}
