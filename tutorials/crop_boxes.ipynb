{
 "cells": [
  {
   "cell_type": "code",
   "execution_count": 1,
   "metadata": {},
   "outputs": [],
   "source": [
    "%load_ext autoreload\n",
    "%autoreload 2"
   ]
  },
  {
   "cell_type": "code",
   "execution_count": 2,
   "metadata": {},
   "outputs": [],
   "source": [
    "import torch\n",
    "from torch import nn\n",
    "from torch.nn import functional as F \n",
    "from torchvision.ops import roi_align"
   ]
  },
  {
   "cell_type": "markdown",
   "metadata": {},
   "source": [
    "# Extracting a patch using boxes"
   ]
  },
  {
   "cell_type": "code",
   "execution_count": 3,
   "metadata": {},
   "outputs": [
    {
     "name": "stdout",
     "output_type": "stream",
     "text": [
      "x.shape=torch.Size([1, 3, 3, 3])\n",
      "x=tensor([[[[ 5., 17., 10.],\n",
      "          [17.,  9.,  3.],\n",
      "          [11.,  3.,  7.]],\n",
      "\n",
      "         [[ 2., 17.,  7.],\n",
      "          [16., 11.,  8.],\n",
      "          [10., 12.,  7.]],\n",
      "\n",
      "         [[10.,  9.,  2.],\n",
      "          [ 4.,  6., 17.],\n",
      "          [12., 18., 10.]]]])\n",
      "out=tensor([[[[ 5., 17., 10.],\n",
      "          [17.,  9.,  3.],\n",
      "          [11.,  3.,  7.]],\n",
      "\n",
      "         [[ 2., 17.,  7.],\n",
      "          [16., 11.,  8.],\n",
      "          [10., 12.,  7.]],\n",
      "\n",
      "         [[10.,  9.,  2.],\n",
      "          [ 4.,  6., 17.],\n",
      "          [12., 18., 10.]]]])\n"
     ]
    }
   ],
   "source": [
    "x =torch.ceil(torch.rand(1,3,3,3)*20)\n",
    "print(f\"{x.shape=}\")\n",
    "print(f\"{x=}\")\n",
    "out  =roi_align(\n",
    "    x,\n",
    "    [torch.tensor([[-0.5,-0.5,2.5,2.5]])],\n",
    "    output_size = (3,3),\n",
    "    spatial_scale=1.0,\n",
    "    sampling_ratio=-1,\n",
    "    aligned=False,\n",
    ")\n",
    "print(f\"{out=}\")\n"
   ]
  },
  {
   "cell_type": "markdown",
   "metadata": {},
   "source": [
    "#  Extracting multiple boxes from tensor index to roi-index"
   ]
  },
  {
   "cell_type": "code",
   "execution_count": 4,
   "metadata": {},
   "outputs": [
    {
     "name": "stdout",
     "output_type": "stream",
     "text": [
      "x.shape=torch.Size([1, 3, 3, 6])\n"
     ]
    },
    {
     "data": {
      "text/plain": [
       "tensor([[[[19., 13., 10., 16., 10., 11.],\n",
       "          [ 9., 18., 18., 19., 11., 11.],\n",
       "          [18., 16., 17.,  8., 13., 16.]],\n",
       "\n",
       "         [[13., 14., 20., 15., 13.,  3.],\n",
       "          [19., 20.,  5., 14.,  9.,  2.],\n",
       "          [ 6., 20.,  2., 12., 16., 20.]],\n",
       "\n",
       "         [[ 7., 10.,  8.,  3.,  1., 16.],\n",
       "          [17.,  7.,  4., 16., 19., 18.],\n",
       "          [15., 11.,  2., 16.,  6., 15.]]]])"
      ]
     },
     "execution_count": 4,
     "metadata": {},
     "output_type": "execute_result"
    }
   ],
   "source": [
    "x =torch.ceil(torch.rand(1,3,3,6)*20)\n",
    "print(f\"{x.shape=}\")\n",
    "\n",
    "x"
   ]
  },
  {
   "cell_type": "code",
   "execution_count": 85,
   "metadata": {},
   "outputs": [
    {
     "name": "stdout",
     "output_type": "stream",
     "text": [
      "out=tensor([[[[19., 13.],\n",
      "          [ 9., 18.],\n",
      "          [18., 16.]],\n",
      "\n",
      "         [[13., 14.],\n",
      "          [19., 20.],\n",
      "          [ 6., 20.]],\n",
      "\n",
      "         [[ 7., 10.],\n",
      "          [17.,  7.],\n",
      "          [15., 11.]]],\n",
      "\n",
      "\n",
      "        [[[10., 16.],\n",
      "          [18., 19.],\n",
      "          [17.,  8.]],\n",
      "\n",
      "         [[20., 15.],\n",
      "          [ 5., 14.],\n",
      "          [ 2., 12.]],\n",
      "\n",
      "         [[ 8.,  3.],\n",
      "          [ 4., 16.],\n",
      "          [ 2., 16.]]],\n",
      "\n",
      "\n",
      "        [[[10., 11.],\n",
      "          [11., 11.],\n",
      "          [13., 16.]],\n",
      "\n",
      "         [[13.,  3.],\n",
      "          [ 9.,  2.],\n",
      "          [16., 20.]],\n",
      "\n",
      "         [[ 1., 16.],\n",
      "          [19., 18.],\n",
      "          [ 6., 15.]]]])\n",
      "x.shape=torch.Size([1, 3, 3, 6])\n",
      "out.shape=torch.Size([3, 3, 3, 2])\n"
     ]
    }
   ],
   "source": [
    "patch_w = 2\n",
    "patch_h = 3\n",
    "offsets_w = [torch.tensor(0),torch.tensor(2),torch.tensor(4)]\n",
    "offsets_h = [torch.tensor(0),torch.tensor(0),torch.tensor(0)]\n",
    "l = torch.tensor([[0,-0.5+offset_w,-0.5+offset_h,-0.5+offset_w +patch_w,-0.5+offset_h+patch_h] \n",
    "                  for (offset_h,offset_w) in zip(offsets_h,offsets_w) ])\n",
    "     \n",
    "\n",
    "out  =roi_align(\n",
    "    x,\n",
    "    l,\n",
    "    output_size = (patch_h,patch_w),\n",
    "    spatial_scale=1.0,\n",
    "    sampling_ratio=-1,\n",
    "    aligned=False,\n",
    ")\n",
    "print(f\"{out=}\")\n",
    "print(f\"{x.shape=}\")\n",
    "print(f\"{out.shape=}\")"
   ]
  },
  {
   "cell_type": "code",
   "execution_count": 88,
   "metadata": {},
   "outputs": [
    {
     "name": "stdout",
     "output_type": "stream",
     "text": [
      "aa=tensor([[[[19., 13., 10., 16., 10., 11.],\n",
      "          [ 9., 18., 18., 19., 11., 11.],\n",
      "          [18., 16., 17.,  8., 13., 16.]],\n",
      "\n",
      "         [[13., 14., 20., 15., 13.,  3.],\n",
      "          [19., 20.,  5., 14.,  9.,  2.],\n",
      "          [ 6., 20.,  2., 12., 16., 20.]],\n",
      "\n",
      "         [[ 7., 10.,  8.,  3.,  1., 16.],\n",
      "          [17.,  7.,  4., 16., 19., 18.],\n",
      "          [15., 11.,  2., 16.,  6., 15.]]]])\n",
      "aa.shape=torch.Size([1, 3, 3, 6])\n",
      "x=tensor([[[[19., 13., 10., 16., 10., 11.],\n",
      "          [ 9., 18., 18., 19., 11., 11.],\n",
      "          [18., 16., 17.,  8., 13., 16.]],\n",
      "\n",
      "         [[13., 14., 20., 15., 13.,  3.],\n",
      "          [19., 20.,  5., 14.,  9.,  2.],\n",
      "          [ 6., 20.,  2., 12., 16., 20.]],\n",
      "\n",
      "         [[ 7., 10.,  8.,  3.,  1., 16.],\n",
      "          [17.,  7.,  4., 16., 19., 18.],\n",
      "          [15., 11.,  2., 16.,  6., 15.]]]])\n",
      "True\n"
     ]
    }
   ],
   "source": [
    "\n",
    "aa =out.permute(1,2,0,3).reshape(x.shape)\n",
    "print(f\"{aa=}\")\n",
    "print(f\"{aa.shape=}\")\n",
    "print(f\"{x=}\")\n",
    "print(f\"{torch.all(torch.eq(x,aa))}\")"
   ]
  },
  {
   "cell_type": "code",
   "execution_count": null,
   "metadata": {},
   "outputs": [],
   "source": []
  },
  {
   "cell_type": "code",
   "execution_count": null,
   "metadata": {},
   "outputs": [],
   "source": []
  }
 ],
 "metadata": {
  "kernelspec": {
   "display_name": "Python 3.8.2 64-bit ('torch': conda)",
   "language": "python",
   "name": "python38264bittorchconda5a49bb01e90b47d3b7ca1c7fc4dc1607"
  },
  "language_info": {
   "codemirror_mode": {
    "name": "ipython",
    "version": 3
   },
   "file_extension": ".py",
   "mimetype": "text/x-python",
   "name": "python",
   "nbconvert_exporter": "python",
   "pygments_lexer": "ipython3",
   "version": "3.8.2"
  }
 },
 "nbformat": 4,
 "nbformat_minor": 4
}
