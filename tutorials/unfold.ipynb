{
 "cells": [
  {
   "cell_type": "code",
   "execution_count": 2,
   "metadata": {},
   "outputs": [],
   "source": [
    "%load_ext autoreload\n",
    "%autoreload 2"
   ]
  },
  {
   "cell_type": "code",
   "execution_count": 3,
   "metadata": {},
   "outputs": [],
   "source": [
    "import torch\n",
    "from torch import nn"
   ]
  },
  {
   "cell_type": "markdown",
   "metadata": {},
   "source": [
    "# https://pytorch.org/docs/master/generated/torch.nn.Unfold.html"
   ]
  },
  {
   "cell_type": "code",
   "execution_count": null,
   "metadata": {},
   "outputs": [],
   "source": [
    "unfold = nn.Unfold(kernel_size=(2, 3))\n",
    "input = torch.randn(2, 5, 2, 3)\n",
    "output = unfold(input)\n",
    "# each patch contains 30 values (2x3=6 vectors, each of 5 channels)\n",
    "# 4 blocks (2x3 kernels) in total in the 3x4 input\n",
    "output.size()\n",
    "output"
   ]
  },
  {
   "cell_type": "code",
   "execution_count": 12,
   "metadata": {},
   "outputs": [
    {
     "name": "stdout",
     "output_type": "stream",
     "text": [
      "image.shape=torch.Size([1, 3, 16, 16])\n",
      "image[:,:,:8,:].shape=torch.Size([1, 3, 8, 16])\n",
      "output_half_image.shape=torch.Size([1, 192, 2])\n",
      "3*8*8=192\n",
      "output.shape=torch.Size([1, 192, 4])\n",
      "3*8*8=192\n"
     ]
    },
    {
     "data": {
      "text/plain": [
       "tensor([[[[1., 0., 0., 0., 0., 0., 0., 0.],\n",
       "          [0., 1., 0., 0., 0., 0., 0., 0.],\n",
       "          [0., 0., 1., 0., 0., 0., 0., 0.],\n",
       "          [0., 0., 0., 1., 0., 0., 0., 0.],\n",
       "          [0., 0., 0., 0., 1., 0., 0., 0.],\n",
       "          [0., 0., 0., 0., 0., 1., 0., 0.],\n",
       "          [0., 0., 0., 0., 0., 0., 1., 0.],\n",
       "          [0., 0., 0., 0., 0., 0., 0., 1.]],\n",
       "\n",
       "         [[2., 0., 0., 0., 0., 0., 0., 0.],\n",
       "          [0., 2., 0., 0., 0., 0., 0., 0.],\n",
       "          [0., 0., 2., 0., 0., 0., 0., 0.],\n",
       "          [0., 0., 0., 2., 0., 0., 0., 0.],\n",
       "          [0., 0., 0., 0., 2., 0., 0., 0.],\n",
       "          [0., 0., 0., 0., 0., 2., 0., 0.],\n",
       "          [0., 0., 0., 0., 0., 0., 2., 0.],\n",
       "          [0., 0., 0., 0., 0., 0., 0., 2.]],\n",
       "\n",
       "         [[3., 0., 0., 0., 0., 0., 0., 0.],\n",
       "          [0., 3., 0., 0., 0., 0., 0., 0.],\n",
       "          [0., 0., 3., 0., 0., 0., 0., 0.],\n",
       "          [0., 0., 0., 3., 0., 0., 0., 0.],\n",
       "          [0., 0., 0., 0., 3., 0., 0., 0.],\n",
       "          [0., 0., 0., 0., 0., 3., 0., 0.],\n",
       "          [0., 0., 0., 0., 0., 0., 3., 0.],\n",
       "          [0., 0., 0., 0., 0., 0., 0., 3.]]]])"
      ]
     },
     "execution_count": 12,
     "metadata": {},
     "output_type": "execute_result"
    }
   ],
   "source": [
    "image = torch.stack([torch.eye(n=8),torch.eye(n=8) *2 ,torch.eye(n=8) *3 ]).repeat(1,2,2).unsqueeze_(0)\n",
    "print(f\"{image.shape=}\")\n",
    "print(f\"{image[:,:,:8,:].shape=}\")\n",
    "\n",
    "\n",
    "unfold = nn.Unfold(kernel_size=(8, 8), stride=(8,8))\n",
    "output_half_image = unfold(image[:,:,:8,:])\n",
    "print(f\"{output_half_image.shape=}\")\n",
    "print(f\"{3*8*8=}\")\n",
    "\n",
    "\n",
    "output = unfold(image)\n",
    "print(f\"{output.shape=}\")\n",
    "print(f\"{3*8*8=}\")\n",
    "output[:,:,1].view(1,3,8,8)"
   ]
  },
  {
   "cell_type": "code",
   "execution_count": 4,
   "metadata": {},
   "outputs": [
    {
     "data": {
      "text/plain": [
       "tensor([[[[1., 0., 0., 0., 0., 0., 0., 0.],\n",
       "          [0., 1., 0., 0., 0., 0., 0., 0.],\n",
       "          [0., 0., 1., 0., 0., 0., 0., 0.],\n",
       "          [0., 0., 0., 1., 0., 0., 0., 0.],\n",
       "          [0., 0., 0., 0., 1., 0., 0., 0.],\n",
       "          [0., 0., 0., 0., 0., 1., 0., 0.],\n",
       "          [0., 0., 0., 0., 0., 0., 1., 0.],\n",
       "          [0., 0., 0., 0., 0., 0., 0., 1.]],\n",
       "\n",
       "         [[2., 0., 0., 0., 0., 0., 0., 0.],\n",
       "          [0., 2., 0., 0., 0., 0., 0., 0.],\n",
       "          [0., 0., 2., 0., 0., 0., 0., 0.],\n",
       "          [0., 0., 0., 2., 0., 0., 0., 0.],\n",
       "          [0., 0., 0., 0., 2., 0., 0., 0.],\n",
       "          [0., 0., 0., 0., 0., 2., 0., 0.],\n",
       "          [0., 0., 0., 0., 0., 0., 2., 0.],\n",
       "          [0., 0., 0., 0., 0., 0., 0., 2.]],\n",
       "\n",
       "         [[3., 0., 0., 0., 0., 0., 0., 0.],\n",
       "          [0., 3., 0., 0., 0., 0., 0., 0.],\n",
       "          [0., 0., 3., 0., 0., 0., 0., 0.],\n",
       "          [0., 0., 0., 3., 0., 0., 0., 0.],\n",
       "          [0., 0., 0., 0., 3., 0., 0., 0.],\n",
       "          [0., 0., 0., 0., 0., 3., 0., 0.],\n",
       "          [0., 0., 0., 0., 0., 0., 3., 0.],\n",
       "          [0., 0., 0., 0., 0., 0., 0., 3.]]]])"
      ]
     },
     "execution_count": 4,
     "metadata": {},
     "output_type": "execute_result"
    }
   ],
   "source": [
    "output_half_image[:,:,0].view(1,3,8,8)"
   ]
  },
  {
   "cell_type": "code",
   "execution_count": null,
   "metadata": {},
   "outputs": [],
   "source": []
  }
 ],
 "metadata": {
  "kernelspec": {
   "display_name": "Python 3.8.2 64-bit ('torch': conda)",
   "language": "python",
   "name": "python38264bittorchconda5a49bb01e90b47d3b7ca1c7fc4dc1607"
  },
  "language_info": {
   "codemirror_mode": {
    "name": "ipython",
    "version": 3
   },
   "file_extension": ".py",
   "mimetype": "text/x-python",
   "name": "python",
   "nbconvert_exporter": "python",
   "pygments_lexer": "ipython3",
   "version": "3.8.2"
  }
 },
 "nbformat": 4,
 "nbformat_minor": 4
}
