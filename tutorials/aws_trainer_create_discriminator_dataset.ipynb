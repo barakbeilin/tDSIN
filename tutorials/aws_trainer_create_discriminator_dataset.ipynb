{
 "cells": [
  {
   "cell_type": "code",
   "execution_count": 1,
   "metadata": {},
   "outputs": [],
   "source": [
    "%reload_ext autoreload\n",
    "%autoreload 2"
   ]
  },
  {
   "cell_type": "code",
   "execution_count": 2,
   "metadata": {},
   "outputs": [],
   "source": [
    "from fastai import *\n",
    "from fastai.vision import *\n",
    "from fastai.callbacks import *\n",
    "\n",
    "import torch\n",
    "from torch import nn\n",
    "from dsin.ae.data_manager.data_loader import (\n",
    "    SideinformationImageImageList, ImageSiTuple)\n",
    "from dsin.ae import config\n",
    "from dsin.ae.base_ae import BaseAutoEncoder\n",
    "from dsin.ae.si_autoenc import SideInformationAutoEncoder\n",
    "\n",
    "from dsin.ae.si_net import SiNetChannelIn\n",
    "from dsin.ae.loss_man import LossManager\n",
    "from dsin.ae.distortions import Distortions, DistTypes\n",
    "from dsin.ae.kitti_normalizer import ChangeImageStatsToKitti, ChangeState\n",
    "from dsin.ae import config\n",
    "\n",
    "\n",
    "\n",
    "from dsin.train_utils.visibilty_utils.logger_cb_utils import setup_file_logger\n",
    "from dsin.train_utils.visibilty_utils.pbar_cb_utils import (AverageMetric,\n",
    "                                            ParameterMetricCallback,\n",
    "                                            ProgressBarAttibuteVisualizer,\n",
    "                                            ParameterRunningAverageMetricCallback,\n",
    "                                            BitEntropy\n",
    "                                           )\n",
    "from dsin.train_utils.save_utils import FileNameGenerator"
   ]
  },
  {
   "cell_type": "code",
   "execution_count": 10,
   "metadata": {},
   "outputs": [
    {
     "data": {
      "text/plain": [
       "500"
      ]
     },
     "execution_count": 10,
     "metadata": {},
     "output_type": "execute_result"
    }
   ],
   "source": [
    "bpp = 0.3\n",
    "H_target = 2* bpp\n",
    "# config.autoencoder_loss_distortion_to_minimize=DistTypes.MS_SSMIM\n",
    "config.K_MS_SSIM=500\n",
    "config.beta"
   ]
  },
  {
   "cell_type": "code",
   "execution_count": 4,
   "metadata": {},
   "outputs": [],
   "source": [
    "logger = setup_file_logger()"
   ]
  },
  {
   "cell_type": "code",
   "execution_count": 5,
   "metadata": {},
   "outputs": [
    {
     "data": {
      "text/plain": [
       "<SiNetChannelIn.WithSideInformation: 6>"
      ]
     },
     "execution_count": 5,
     "metadata": {},
     "output_type": "execute_result"
    }
   ],
   "source": [
    "config.use_si_flag = SiNetChannelIn.WithSideInformation\n",
    "config.use_si_flag"
   ]
  },
  {
   "cell_type": "markdown",
   "metadata": {},
   "source": [
    "#  LOAD Datatset\n"
   ]
  },
  {
   "cell_type": "code",
   "execution_count": 13,
   "metadata": {},
   "outputs": [],
   "source": [
    "baseline_autoencoder = BaseAutoEncoder()\n",
    "path = \"../src/dsin/data\"\n",
    "pct= 1 #0.0005 #0.25\n",
    "\n",
    "valid_image_list = SideinformationImageImageList.from_csv(\n",
    "    path=path, csv_names=[\"KITTI_stereo_val.txt\"],pct=pct)\n",
    "train_image_list = SideinformationImageImageList.from_csv(\n",
    "    path=path, csv_names=[\"KITTI_stereo_train.txt\"],pct=pct)\n",
    "\n",
    "image_lists = ItemLists(\n",
    "    path=path, train=train_image_list, valid=valid_image_list)\n",
    "\n",
    "batchsize = 1\n",
    "\n",
    "tfms =  get_transforms(do_flip=True,\n",
    "                       flip_vert=False,\n",
    "                       max_rotate=False,\n",
    "                       max_zoom=0,\n",
    "                       max_lighting=False,\n",
    "                       max_warp=False)\n",
    "\n",
    "data = (image_lists\n",
    "        .label_from_func(lambda x: x)\n",
    "        .transform(None, size=(336, 336), resize_method=ResizeMethod.CROP, tfm_y=True)\n",
    "        .databunch(bs=batchsize))"
   ]
  },
  {
   "cell_type": "code",
   "execution_count": 14,
   "metadata": {},
   "outputs": [],
   "source": [
    "# learn.layer_groups"
   ]
  },
  {
   "cell_type": "markdown",
   "metadata": {},
   "source": [
    "# Load  SI-AE"
   ]
  },
  {
   "cell_type": "code",
   "execution_count": 15,
   "metadata": {},
   "outputs": [],
   "source": [
    "si_autoencoder = SideInformationAutoEncoder(base_line_auto_enc = BaseAutoEncoder())\n",
    "learn = Learner(data=data,\n",
    "                     model=si_autoencoder,\n",
    "                     opt_func=torch.optim.Adam,\n",
    "                     loss_func=LossManager(si_autoencoder,SiNetChannelIn.WithSideInformation,use_feat_loss=False,target_bit_cost = H_target), #True\n",
    "                     metrics=[AverageMetric(Distortions._calc_dist,\"MS_SSIM\")])"
   ]
  },
  {
   "cell_type": "markdown",
   "metadata": {},
   "source": [
    "#  Create Discriminator Dataset"
   ]
  },
  {
   "cell_type": "code",
   "execution_count": null,
   "metadata": {},
   "outputs": [
    {
     "name": "stdout",
     "output_type": "stream",
     "text": [
      "790\n"
     ]
    }
   ],
   "source": [
    "dl  = learn.data.valid_dl\n",
    "names = dl.dataset.items\n",
    "\n",
    "\n",
    "learn.load('2020-08-29MAE-l2reg-si-nofeat-bpp0p30-unfrzd-7',with_opt=True)\n",
    "\n",
    "i=0\n",
    "print(len(dl))\n",
    "for b in dl:\n",
    "    preds = learn.pred_batch(batch=b, reconstruct=True)\n",
    "    for o in preds:\n",
    "        disc_image_fname =list(Path(names[i]).parts)\n",
    "        disc_image_fname[disc_image_fname.index('data')]='disc_data'\n",
    "        disc_image_fname = Path('/'.join(disc_image_fname))\n",
    "\n",
    "        \n",
    "        o.img.save(disc_image_fname)\n",
    "        i += 1"
   ]
  },
  {
   "cell_type": "code",
   "execution_count": null,
   "metadata": {},
   "outputs": [],
   "source": [
    "preds[0].img"
   ]
  }
 ],
 "metadata": {
  "environment": {
   "name": "pytorch-gpu.1-4.m46",
   "type": "gcloud",
   "uri": "gcr.io/deeplearning-platform-release/pytorch-gpu.1-4:m46"
  },
  "kernelspec": {
   "display_name": "Python 3",
   "language": "python",
   "name": "python3"
  },
  "language_info": {
   "codemirror_mode": {
    "name": "ipython",
    "version": 3
   },
   "file_extension": ".py",
   "mimetype": "text/x-python",
   "name": "python",
   "nbconvert_exporter": "python",
   "pygments_lexer": "ipython3",
   "version": "3.7.7"
  }
 },
 "nbformat": 4,
 "nbformat_minor": 4
}
