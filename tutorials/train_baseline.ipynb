{
 "cells": [
  {
   "cell_type": "code",
   "execution_count": 1,
   "metadata": {},
   "outputs": [],
   "source": [
    "%reload_ext autoreload\n",
    "%autoreload 2"
   ]
  },
  {
   "cell_type": "code",
   "execution_count": 2,
   "metadata": {},
   "outputs": [
    {
     "name": "stderr",
     "output_type": "stream",
     "text": [
      "Matplotlib is building the font cache using fc-list. This may take a moment.\n"
     ]
    }
   ],
   "source": [
    "from fastai import *\n",
    "from fastai.vision import *\n",
    "# from fastai.callbacks import *\n",
    "\n",
    "import torch\n",
    "from torch import nn\n",
    "from dsin.ae.data_manager.data_loader import (\n",
    "    SideinformationImageImageList, ImageSiTuple)\n",
    "from dsin.ae import config\n",
    "from dsin.ae.base_ae import BaseAutoEncoder\n",
    "from dsin.ae.si_net import SiNetChannelIn\n",
    "from dsin.ae.loss_man import LossManager\n",
    "from dsin.ae.distortions import Distortions, DistTypes\n",
    "from dsin.ae.kitti_normalizer import ChangeImageStatsToKitti, ChangeState\n",
    "from dsin.ae import config\n",
    "\n",
    "from dsin.train_utils.visibilty_utils.logger_cb_utils import setup_file_logger\n",
    "from dsin.train_utils.visibilty_utils.pbar_cb_utils import (AverageMetric,\n",
    "                                            ParameterMetricCallback,\n",
    "                                            ProgressBarAttibuteVisualizer,\n",
    "                                            ParameterRunningAverageMetricCallback,\n",
    "                                            BitEntropy\n",
    "                                           )\n",
    "from dsin.train_utils.save_utils import FileNameGenerator"
   ]
  },
  {
   "cell_type": "code",
   "execution_count": 3,
   "metadata": {},
   "outputs": [
    {
     "data": {
      "text/plain": [
       "500"
      ]
     },
     "execution_count": 3,
     "metadata": {},
     "output_type": "execute_result"
    }
   ],
   "source": [
    "bpp = 0.1\n",
    "H_target = 2* bpp\n",
    "# config.autoencoder_loss_distortion_to_minimize=DistTypes.MS_SSMIM\n",
    "config.K_MS_SSIM=500\n",
    "config.beta"
   ]
  },
  {
   "cell_type": "code",
   "execution_count": 4,
   "metadata": {},
   "outputs": [],
   "source": [
    "logger = setup_file_logger()"
   ]
  },
  {
   "cell_type": "code",
   "execution_count": 5,
   "metadata": {},
   "outputs": [],
   "source": [
    "config.use_si_flag = SiNetChannelIn.WithSideInformation"
   ]
  },
  {
   "cell_type": "code",
   "execution_count": 6,
   "metadata": {},
   "outputs": [
    {
     "data": {
      "text/plain": [
       "123"
      ]
     },
     "execution_count": 6,
     "metadata": {},
     "output_type": "execute_result"
    }
   ],
   "source": [
    "learn = None\n",
    "gc.collect()"
   ]
  },
  {
   "cell_type": "code",
   "execution_count": 7,
   "metadata": {},
   "outputs": [],
   "source": [
    "baseline_autoencoder = BaseAutoEncoder()\n",
    "path = \"../src/dsin/data\"\n",
    "pct= 1 # 0.0005 #0.25\n",
    "\n",
    "valid_image_list = SideinformationImageImageList.from_csv(\n",
    "    path=path, csv_names=[\"KITTI_baseline_val.txt\"],pct=pct/10)\n",
    "train_image_list = SideinformationImageImageList.from_csv(\n",
    "    path=path, csv_names=[\"KITTI_baseline_train.txt\"],pct=pct)\n",
    "\n",
    "image_lists = ItemLists(\n",
    "    path=path, train=train_image_list, valid=valid_image_list)\n",
    "\n",
    "\n",
    "tfms =  get_transforms(do_flip=True,\n",
    "                       flip_vert=False,\n",
    "                       max_rotate=False,\n",
    "                       max_zoom=0,\n",
    "                       max_lighting=False,\n",
    "                       max_warp=False)\n",
    "batchsize = 32\n",
    "\n",
    "data = (image_lists\n",
    "        .label_from_func(lambda x: x)\n",
    "        .transform(tfms, size=(192, 192), resize_method=ResizeMethod.CROP, tfm_y=True)\n",
    "        .databunch(bs=batchsize))\n",
    "learn = None\n",
    "gc.collect()\n",
    "learn = Learner(data=data,\n",
    "                     model=baseline_autoencoder,\n",
    "                     opt_func=torch.optim.Adam,\n",
    "                     loss_func=LossManager(baseline_autoencoder,SiNetChannelIn.NoSideInformation,target_bit_cost = H_target),\n",
    "                     metrics=[AverageMetric(Distortions._calc_dist,\"MS_SSIM\")])"
   ]
  },
  {
   "cell_type": "code",
   "execution_count": 11,
   "metadata": {},
   "outputs": [
    {
     "data": {
      "text/plain": [
       "'2020-09-06MAE-baseline-bpp0p10'"
      ]
     },
     "execution_count": 11,
     "metadata": {},
     "output_type": "execute_result"
    }
   ],
   "source": [
    "model_fname =FileNameGenerator.create_fname(f'MAE-baseline-bpp0p{bpp*100:.0f}')\n",
    "lrs = [1e-4] *3 +  [1e-4] *3 + [1e-5] * 4 + [1e-6] *2 \n",
    "model_fname"
   ]
  },
  {
   "cell_type": "code",
   "execution_count": null,
   "metadata": {},
   "outputs": [
    {
     "data": {
      "text/html": [
       "<table border=\"1\" class=\"dataframe\">\n",
       "  <thead>\n",
       "    <tr style=\"text-align: left;\">\n",
       "      <th>epoch</th>\n",
       "      <th>train_loss</th>\n",
       "      <th>valid_loss</th>\n",
       "      <th>MS_SSIM</th>\n",
       "      <th>time</th>\n",
       "    </tr>\n",
       "  </thead>\n",
       "  <tbody>\n",
       "    <tr>\n",
       "      <td>0</td>\n",
       "      <td>129.567017</td>\n",
       "      <td>123.045540</td>\n",
       "      <td>0.386872</td>\n",
       "      <td>09:21</td>\n",
       "    </tr>\n",
       "  </tbody>\n",
       "</table>"
      ],
      "text/plain": [
       "<IPython.core.display.HTML object>"
      ]
     },
     "metadata": {},
     "output_type": "display_data"
    },
    {
     "name": "stdout",
     "output_type": "stream",
     "text": [
      "iter 0: bpp = 0.022 imp-mean-var(0.02 0.02) total loss156.3  l2reg_loss=14.9autoencoder_loss_value=22.9si_loss=0.0feat_loss_value=0.0\n",
      "iter 500: bpp = 0.188 imp-mean-var(0.02 0.02) total loss130.5  l2reg_loss=14.6autoencoder_loss_value=25.3si_loss=0.0feat_loss_value=0.0\n",
      "iter 1000: bpp = 0.189 imp-mean-var(0.04 0.04) total loss132.2  l2reg_loss=14.4autoencoder_loss_value=24.7si_loss=0.0feat_loss_value=0.0\n",
      "upload: ../src/dsin/data/models/2020-09-06MAE-baseline-bpp0p10-3.pth to s3://dsin-us/models/2020-09-06MAE-baseline-bpp0p10-3.pth\n",
      "upload: ./out.log to s3://dsin-us/models/2020-09-06MAE-baseline-bpp0p10.log\n"
     ]
    },
    {
     "data": {
      "text/html": [
       "<table border=\"1\" class=\"dataframe\">\n",
       "  <thead>\n",
       "    <tr style=\"text-align: left;\">\n",
       "      <th>epoch</th>\n",
       "      <th>train_loss</th>\n",
       "      <th>valid_loss</th>\n",
       "      <th>MS_SSIM</th>\n",
       "      <th>time</th>\n",
       "    </tr>\n",
       "  </thead>\n",
       "  <tbody>\n",
       "    <tr>\n",
       "      <td>0</td>\n",
       "      <td>78.080490</td>\n",
       "      <td>67.107529</td>\n",
       "      <td>0.371835</td>\n",
       "      <td>09:21</td>\n",
       "    </tr>\n",
       "  </tbody>\n",
       "</table>"
      ],
      "text/plain": [
       "<IPython.core.display.HTML object>"
      ]
     },
     "metadata": {},
     "output_type": "display_data"
    },
    {
     "name": "stdout",
     "output_type": "stream",
     "text": [
      "iter 0: bpp = 0.018 imp-mean-var(0.03 0.03) total loss120.6  l2reg_loss=14.4autoencoder_loss_value=24.4si_loss=0.0feat_loss_value=0.0\n",
      "iter 500: bpp = 0.151 imp-mean-var(0.02 0.02) total loss87.7  l2reg_loss=14.2autoencoder_loss_value=23.7si_loss=0.0feat_loss_value=0.0\n",
      "iter 1000: bpp = 0.138 imp-mean-var(0.02 0.02) total loss71.4  l2reg_loss=14.0autoencoder_loss_value=23.7si_loss=0.0feat_loss_value=0.0\n"
     ]
    },
    {
     "data": {
      "text/html": [
       "<table border=\"1\" class=\"dataframe\">\n",
       "  <thead>\n",
       "    <tr style=\"text-align: left;\">\n",
       "      <th>epoch</th>\n",
       "      <th>train_loss</th>\n",
       "      <th>valid_loss</th>\n",
       "      <th>MS_SSIM</th>\n",
       "      <th>time</th>\n",
       "    </tr>\n",
       "  </thead>\n",
       "  <tbody>\n",
       "    <tr>\n",
       "      <td>0</td>\n",
       "      <td>77.635536</td>\n",
       "      <td>70.098679</td>\n",
       "      <td>0.337418</td>\n",
       "      <td>09:13</td>\n",
       "    </tr>\n",
       "  </tbody>\n",
       "</table>"
      ],
      "text/plain": [
       "<IPython.core.display.HTML object>"
      ]
     },
     "metadata": {},
     "output_type": "display_data"
    },
    {
     "name": "stdout",
     "output_type": "stream",
     "text": [
      "iter 0: bpp = 0.013 imp-mean-var(0.02 0.02) total loss67.0  l2reg_loss=14.0autoencoder_loss_value=24.0si_loss=0.0feat_loss_value=0.0\n",
      "iter 500: bpp = 0.145 imp-mean-var(0.03 0.03) total loss77.8  l2reg_loss=14.0autoencoder_loss_value=27.7si_loss=0.0feat_loss_value=0.0\n",
      "iter 1000: bpp = 0.138 imp-mean-var(0.03 0.03) total loss79.8  l2reg_loss=13.8autoencoder_loss_value=22.5si_loss=0.0feat_loss_value=0.0\n"
     ]
    },
    {
     "data": {
      "text/html": [
       "\n",
       "    <div>\n",
       "        <style>\n",
       "            /* Turns off some styling */\n",
       "            progress {\n",
       "                /* gets rid of default border in Firefox and Opera. */\n",
       "                border: none;\n",
       "                /* Needs to be in here for Safari polyfill so background images work as expected. */\n",
       "                background-size: auto;\n",
       "            }\n",
       "            .progress-bar-interrupted, .progress-bar-interrupted::-webkit-progress-bar {\n",
       "                background: #F44336;\n",
       "            }\n",
       "        </style>\n",
       "      <progress value='0' class='' max='1', style='width:300px; height:20px; vertical-align: middle;'></progress>\n",
       "      0.00% [0/1 00:00<00:00]\n",
       "    </div>\n",
       "    \n",
       "<table border=\"1\" class=\"dataframe\">\n",
       "  <thead>\n",
       "    <tr style=\"text-align: left;\">\n",
       "      <th>epoch</th>\n",
       "      <th>train_loss</th>\n",
       "      <th>valid_loss</th>\n",
       "      <th>MS_SSIM</th>\n",
       "      <th>time</th>\n",
       "    </tr>\n",
       "  </thead>\n",
       "  <tbody>\n",
       "  </tbody>\n",
       "</table><p>\n",
       "\n",
       "    <div>\n",
       "        <style>\n",
       "            /* Turns off some styling */\n",
       "            progress {\n",
       "                /* gets rid of default border in Firefox and Opera. */\n",
       "                border: none;\n",
       "                /* Needs to be in here for Safari polyfill so background images work as expected. */\n",
       "                background-size: auto;\n",
       "            }\n",
       "            .progress-bar-interrupted, .progress-bar-interrupted::-webkit-progress-bar {\n",
       "                background: #F44336;\n",
       "            }\n",
       "        </style>\n",
       "      <progress value='794' class='' max='1007', style='width:300px; height:20px; vertical-align: middle;'></progress>\n",
       "      78.85% [794/1007 07:22<01:58 66.8959 avg_bpp: 0.1291 imp-mean-var(0.03 0.03)bitcost_loss=36.9 qcent_loss=0.4 l2reg_loss=13.8 autoencoder_loss_value=19.1 si_loss=0.0 feat_loss_value=0.0mssim=0.349455]\n",
       "    </div>\n",
       "    "
      ],
      "text/plain": [
       "<IPython.core.display.HTML object>"
      ]
     },
     "metadata": {},
     "output_type": "display_data"
    },
    {
     "name": "stdout",
     "output_type": "stream",
     "text": [
      "iter 0: bpp = 0.014 imp-mean-var(0.03 0.03) total loss75.6  l2reg_loss=13.8autoencoder_loss_value=21.0si_loss=0.0feat_loss_value=0.0\n",
      "iter 500: bpp = 0.131 imp-mean-var(0.03 0.03) total loss66.6  l2reg_loss=13.8autoencoder_loss_value=21.5si_loss=0.0feat_loss_value=0.0\n"
     ]
    }
   ],
   "source": [
    "config.si_loss_weight_alpha = 0\n",
    "learn.model.use_side_infomation = SiNetChannelIn.NoSideInformation\n",
    "learn.loss_func.use_side_infomation = SiNetChannelIn.NoSideInformation\n",
    "    \n",
    "offset = 3\n",
    "if offset != 0 :\n",
    "    learn.load(f'{model_fname}-{offset - 1}',with_opt=True)\n",
    "for i,lr in zip(range(offset,len(lrs)),lrs[offset:]):\n",
    "        \n",
    "    learn.fit(1, lr=lr,wd=0,callbacks=[ParameterRunningAverageMetricCallback(learn.loss_func,use_si=False),BitEntropy(loss_man=learn.loss_func,logger=logger,use_si=False)])\n",
    "    \n",
    "    learn.save(f'{model_fname}-{i}')\n",
    "    if i % 3 == 0 or i == len(lrs) - 1:\n",
    "        !aws s3 cp ~/tDSIN/src/dsin/data/models/{model_fname}-{i}.pth  s3://dsin-us/models/\n",
    "        !aws s3 cp ~/tDSIN/tutorials/out.log s3://dsin-us/models/{model_fname}.log\n"
   ]
  },
  {
   "cell_type": "code",
   "execution_count": null,
   "metadata": {},
   "outputs": [],
   "source": [
    "learn.save(f'{model_fname}-{i}')\n",
    "\n",
    "!aws s3 cp ~/tDSIN/src/dsin/data/models/{model_fname}-{i}.pth  s3://dsin-us/models/\n",
    "!aws s3 cp ~/tDSIN/tutorials/out.log s3://dsin-us/models/{model_fname}.log\n"
   ]
  },
  {
   "cell_type": "code",
   "execution_count": null,
   "metadata": {},
   "outputs": [],
   "source": [
    "mt = learn.model.my_tuple[-3][0,...].squeeze_().detach()\n",
    "mx, mn =torch.max(mt), torch.min(mt)\n",
    "show_image(Image(mt),figsize=(5,5))\n",
    "# # print(mn)"
   ]
  },
  {
   "cell_type": "code",
   "execution_count": null,
   "metadata": {},
   "outputs": [],
   "source": [
    "mt = learn.model.my_tuple[3][0,...].squeeze_().detach()\n",
    "mx, mn =torch.max(mt), torch.min(mt)\n",
    "show_image(Image(mt),figsize=(5,5))"
   ]
  },
  {
   "cell_type": "code",
   "execution_count": null,
   "metadata": {},
   "outputs": [],
   "source": []
  }
 ],
 "metadata": {
  "environment": {
   "name": "pytorch-gpu.1-4.m46",
   "type": "gcloud",
   "uri": "gcr.io/deeplearning-platform-release/pytorch-gpu.1-4:m46"
  },
  "kernelspec": {
   "display_name": "Python 3",
   "language": "python",
   "name": "python3"
  },
  "language_info": {
   "codemirror_mode": {
    "name": "ipython",
    "version": 3
   },
   "file_extension": ".py",
   "mimetype": "text/x-python",
   "name": "python",
   "nbconvert_exporter": "python",
   "pygments_lexer": "ipython3",
   "version": "3.7.7"
  }
 },
 "nbformat": 4,
 "nbformat_minor": 4
}
