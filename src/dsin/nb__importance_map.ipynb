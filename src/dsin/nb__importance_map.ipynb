{
 "cells": [
  {
   "cell_type": "code",
   "execution_count": 1,
   "metadata": {},
   "outputs": [],
   "source": [
    "%load_ext autoreload\n",
    "%autoreload 2"
   ]
  },
  {
   "cell_type": "code",
   "execution_count": 24,
   "metadata": {},
   "outputs": [],
   "source": [
    "# export\n",
    "import torch\n",
    "from torch import nn\n",
    "import torch.nn.functional as F"
   ]
  },
  {
   "cell_type": "code",
   "execution_count": 25,
   "metadata": {},
   "outputs": [],
   "source": [
    "# export\n",
    "class CustomRound(torch.autograd.Function):\n",
    "    @staticmethod\n",
    "    def forward(ctx, x):\n",
    "        \"\"\"\n",
    "        In the forward pass we receive a Tensor containing the input and return\n",
    "        a Tensor containing the output. ctx is a context object that IS used\n",
    "        to stash information for backward computation.\n",
    "        \"\"\"\n",
    "        ctx.save_for_backward(x)\n",
    "        return torch.ceil(x)\n",
    "                         \n",
    "    @staticmethod\n",
    "    def backward(ctx, grad_output):\n",
    "        \"\"\"\n",
    "        In the backward pass we receive a Tensor containing the gradient of the loss\n",
    "        with respect to the output, and we need to compute the gradient of the loss\n",
    "        with respect to the input.\n",
    "        \"\"\"\n",
    "#         x, = ctx.saved_tensors\n",
    "        grad_input = grad_output.clone()\n",
    "        return grad_input # identity grad"
   ]
  },
  {
   "cell_type": "code",
   "execution_count": 3,
   "metadata": {},
   "outputs": [],
   "source": [
    "# export\n",
    "class ImportanceMapMult(nn.Module):\n",
    "   \n",
    "    @staticmethod\n",
    "    def forward(self, x: torch.tensor):\n",
    "        \"\"\"\n",
    "        forward prop.\n",
    "        Parameters:\n",
    "            x : tensor including z-hat with importance map channel.\n",
    "        \"\"\"\n",
    "        if not self.use_map:\n",
    "            return x\n",
    "\n",
    "        MAP_CHANNEL = 0 # if changed need to fix indexing further in the class\n",
    "        \n",
    "        # assume NCHW so channel dim number is 1 \n",
    "        CHANNEL_DIM =  1\n",
    "        INFO_CHANNELS =  torch.tensor(x.shape[CHANNEL_DIM] - 1,dtype=torch.float32) # substract importance map\n",
    "        \n",
    "        c = nn.Parameter(torch.range(start=0,end=30,dtype=torch.float32,requires_grad=False))\n",
    "        c = torch.reshape(c,(INFO_CHANNELS, 1, 1))                      \n",
    "        \n",
    "        \n",
    "        \n",
    "        # choose the first channel as the importance map\n",
    "        importance_map = x[:,MAP_CHANNEL,...] # NHW\n",
    "        importance_map = F.sigmoid(importance_map) * INFO_CHANNELS\n",
    "        importance_map.unsqueeze_(CHANNEL_DIM) # N1HW\n",
    "        \n",
    "        z = x[:,MAP_CHANNEL:,...]\n",
    "        \n",
    "        # if importance_map[x, y] == C, then importance_map[x, y, c] == 1 \n",
    "        # \\forall c \\in {0, ..., C-1}\n",
    "        ### !!!!!!! MAYBE THIS NEE TO BE Custrom round?\n",
    "        importance_map = torch.max(torch.min(importance_map - c, 1), 0)  # NCHW\n",
    "        return torch.mul(importance_map * z)\n",
    "        \n",
    "        "
   ]
  },
  {
   "cell_type": "code",
   "execution_count": 13,
   "metadata": {},
   "outputs": [
    {
     "name": "stdout",
     "output_type": "stream",
     "text": [
      "tensor([[[[0., 5.],\n",
      "          [1., 2.]],\n",
      "\n",
      "         [[4., 9.],\n",
      "          [7., 8.]]],\n",
      "\n",
      "\n",
      "        [[[1., 5.],\n",
      "          [0., 6.]],\n",
      "\n",
      "         [[7., 3.],\n",
      "          [9., 4.]]]])\n",
      "torch.Size([2, 2, 2, 2])\n"
     ]
    }
   ],
   "source": [
    "x =torch.round(torch.rand([2,2,2,2])*10)\n",
    "print(x)\n",
    "print(x.shape)"
   ]
  },
  {
   "cell_type": "code",
   "execution_count": 16,
   "metadata": {},
   "outputs": [
    {
     "data": {
      "text/plain": [
       "tensor([[[4., 9.],\n",
       "         [7., 8.]],\n",
       "\n",
       "        [[7., 3.],\n",
       "         [9., 4.]]])"
      ]
     },
     "execution_count": 16,
     "metadata": {},
     "output_type": "execute_result"
    }
   ],
   "source": [
    "mymap = x[:,-1,...]\n",
    "mymap"
   ]
  },
  {
   "cell_type": "markdown",
   "metadata": {},
   "source": [
    "# continue reading  autoencoder_imgcomp._get_heatmap3D"
   ]
  },
  {
   "cell_type": "code",
   "execution_count": null,
   "metadata": {},
   "outputs": [],
   "source": []
  }
 ],
 "metadata": {
  "kernelspec": {
   "display_name": "Python 3.8.2 64-bit ('torch': conda)",
   "language": "python",
   "name": "python38264bittorchconda5a49bb01e90b47d3b7ca1c7fc4dc1607"
  },
  "language_info": {
   "codemirror_mode": {
    "name": "ipython",
    "version": 3
   },
   "file_extension": ".py",
   "mimetype": "text/x-python",
   "name": "python",
   "nbconvert_exporter": "python",
   "pygments_lexer": "ipython3",
   "version": "3.8.2"
  }
 },
 "nbformat": 4,
 "nbformat_minor": 4
}
