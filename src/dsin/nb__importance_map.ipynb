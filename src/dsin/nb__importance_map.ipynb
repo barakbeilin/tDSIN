{
 "cells": [
  {
   "cell_type": "code",
   "execution_count": 1,
   "metadata": {},
   "outputs": [],
   "source": [
    "%load_ext autoreload\n",
    "%autoreload 2"
   ]
  },
  {
   "cell_type": "code",
   "execution_count": 2,
   "metadata": {},
   "outputs": [],
   "source": [
    "# export\n",
    "import torch\n",
    "from torch import nn\n",
    "import torch.nn.functional as F"
   ]
  },
  {
   "cell_type": "code",
   "execution_count": 35,
   "metadata": {},
   "outputs": [],
   "source": [
    "# export\n",
    "class MinMaxMap(torch.autograd.Function):\n",
    "    \n",
    "    @staticmethod\n",
    "    def forward(ctx, x):\n",
    "        \"\"\"\n",
    "        In the forward pass we receive a Tensor containing the input and return\n",
    "        a Tensor containing the output. ctx is a context object that IS used\n",
    "        to stash information for backward computation.\n",
    "        \"\"\"\n",
    "        ctx.save_for_backward(x)\n",
    "        MAP_CHANNEL = 0 # if changed need to fix indexing further in the class\n",
    "        \n",
    "        # assume NCHW so channel dim number is 1 \n",
    "        CHANNEL_DIM =  1\n",
    "        INFO_CHANNELS =  x.shape[CHANNEL_DIM] - 1 # substract importance map\n",
    "        \n",
    "        c = nn.Parameter(torch.arange(start=0,end=INFO_CHANNELS,dtype=torch.float32,requires_grad=False))\n",
    "        print(c.shape,INFO_CHANNELS)\n",
    "        c = torch.reshape(c,(INFO_CHANNELS, 1, 1))                      \n",
    "        \n",
    "        # choose the first channel as the importance map\n",
    "        importance_map = x[:,MAP_CHANNEL,...] # NHW\n",
    "        importance_map = torch.sigmoid(importance_map) * INFO_CHANNELS\n",
    "        importance_map.unsqueeze_(CHANNEL_DIM) # N1HW\n",
    "        \n",
    "        z = x[:,MAP_CHANNEL:,...]\n",
    "        \n",
    "        \n",
    "        importance_map = torch.max(\n",
    "            torch.min(importance_map - c, torch.tensor(1.0, dtype=torch.float32, requires_grad=False)),\n",
    "                      torch.tensor(0.0, dtype=torch.float32, requires_grad = False))  # NCHW\n",
    "        return torch.mul(importance_map, z)\n",
    "                         \n",
    "    @staticmethod\n",
    "    def backward(ctx, grad_output):\n",
    "        \"\"\"\n",
    "        In the backward pass we receive a Tensor containing the gradient of the loss\n",
    "        with respect to the output, and we need to compute the gradient of the loss\n",
    "        with respect to the input.\n",
    "        \"\"\"\n",
    "#         x, = ctx.saved_tensors\n",
    "        grad_input = grad_output.clone()\n",
    "        return grad_input # identity grad"
   ]
  },
  {
   "cell_type": "code",
   "execution_count": 36,
   "metadata": {},
   "outputs": [],
   "source": [
    "# export\n",
    "class ImportanceMapMult(nn.Module):\n",
    "    def __init__(self,use_map=True):\n",
    "        super().__init__()\n",
    "        self.use_map = use_map\n",
    "        \n",
    "    \n",
    "    def forward(self, x):\n",
    "        \"\"\"\n",
    "        forward prop.\n",
    "        Parameters:\n",
    "            x : tensor including z-hat with importance map channel.\n",
    "        \"\"\"\n",
    "        if not self.use_map:\n",
    "            return x\n",
    "\n",
    "        return MinMaxMap.apply(x)\n",
    "        \n",
    "        "
   ]
  },
  {
   "cell_type": "code",
   "execution_count": 37,
   "metadata": {},
   "outputs": [
    {
     "name": "stdout",
     "output_type": "stream",
     "text": [
      "torch.Size([1]) 1\n"
     ]
    }
   ],
   "source": [
    "x =torch.round(torch.rand([2,2,2,2])*10)\n",
    "model = ImportanceMapMult()\n",
    "y= model(x)\n",
    "# print(x)\n",
    "# print(y)\n",
    "# print(x.shape)\n"
   ]
  },
  {
   "cell_type": "code",
   "execution_count": null,
   "metadata": {},
   "outputs": [],
   "source": []
  }
 ],
 "metadata": {
  "kernelspec": {
   "display_name": "Python 3.8.2 64-bit ('torch': conda)",
   "language": "python",
   "name": "python38264bittorchconda5a49bb01e90b47d3b7ca1c7fc4dc1607"
  },
  "language_info": {
   "codemirror_mode": {
    "name": "ipython",
    "version": 3
   },
   "file_extension": ".py",
   "mimetype": "text/x-python",
   "name": "python",
   "nbconvert_exporter": "python",
   "pygments_lexer": "ipython3",
   "version": "3.8.2"
  }
 },
 "nbformat": 4,
 "nbformat_minor": 4
}
