{
 "cells": [
  {
   "cell_type": "markdown",
   "metadata": {},
   "source": [
    "# CHECK QUANTIZER FOR USING THE MAP CREATED HERE AND ROUNDING!!!!!"
   ]
  },
  {
   "cell_type": "code",
   "execution_count": 1,
   "metadata": {},
   "outputs": [],
   "source": [
    "%load_ext autoreload\n",
    "%autoreload 2"
   ]
  },
  {
   "cell_type": "code",
   "execution_count": 2,
   "metadata": {},
   "outputs": [],
   "source": [
    "#export\n",
    "import torch\n",
    "import torch.nn.functional as F\n",
    "from torch import nn\n",
    "from enum import Enum, auto\n"
   ]
  },
  {
   "cell_type": "code",
   "execution_count": 59,
   "metadata": {},
   "outputs": [],
   "source": [
    "#export\n",
    "\"\"\"Quantizer layer.\"\"\"\n",
    "class ChannelOrder(Enum):\n",
    "    NHWC = auto()\n",
    "    NCHW = auto()\n",
    "    \n",
    "class Quantizer(nn.Module):\n",
    "    def __init__(self,\n",
    "                 num_centers,\n",
    "                 centers_initial_range,\n",
    "                 centers_regularization_factor,\n",
    "                 sigma):\n",
    "        super().__init__()\n",
    "        self.num_centers = (num_centers,)\n",
    "        self.centers_initial_range = centers_initial_range\n",
    "        self.sigma = sigma\n",
    "        self.reg = torch.as_tensor(centers_regularization_factor, dtype=torch.float32) \n",
    "        \n",
    "        self._create_centers_variable()\n",
    "    \n",
    "    def _create_centers_variable(self, dtype= torch.float32):  # (C, L) or (L,)\n",
    "        \n",
    "        minval, maxval = map(int, self.centers_initial_range)\n",
    "        # create a tensor of size with values drawn\n",
    "        # from uniform distribution\n",
    "        centers = torch.rand(*self.num_centers, dtype=dtype) \\\n",
    "            * (maxval-minval) + minval\n",
    "        centers, _ = torch.sort(centers)\n",
    "        # Wrapping with nn.Parameter ensures it is copied to gpu when .to('cuda') is called\n",
    "        self.centers = nn.Parameter(centers)\n",
    "    \n",
    "    def _create_centers_regularization_term(self):\n",
    "        if self.reg != 0:\n",
    "            # calculate half the l2 norm  like tf.nn.l2_loss(centers)\n",
    "            cetners_reg = 0.5 * self.reg * torch.nn.norm(self.centers)\n",
    "            \n",
    "    def __repr__(self):\n",
    "        return f'{self.__class__.__name__}(sigma={self.sigma})'\n",
    "\n",
    "    \n",
    "    def forward(self, x, dataformat: ChannelOrder = ChannelOrder.NCHW):\n",
    "        assert x.dtype == torch.float32, 'x should be float32'\n",
    "        assert self.centers.dtype == torch.float32, 'centers should be float32'\n",
    "        assert len(x.size()) == 4, f'x should be NCHW or NHWC got {len(x.size())} instead'\n",
    "        assert len(a.centers.size()) == 1, f\"centers should be (L,), got {len(a.centers.size())}\"\n",
    "        \n",
    "        # improve numerics by calculating using NCHW\n",
    "        if dataformat==ChannelOrder.NHWC:\n",
    "            x = self.__permute_NHWC_to_NCHW(x)\n",
    "            \n",
    "        x_soft, x_hard, symbols_hard= self._quantize(x)\n",
    "        \n",
    "        #return tensors in the original channel order\n",
    "        if dataformat==ChannelOrder.NHWC:\n",
    "            return tuple(map(self.permute_NCHW_to_NHWC,\n",
    "                             (x_soft, x_hard, symbols_hard)))\n",
    "        else:\n",
    "            return x_soft, x_hard, symbols_hard\n",
    "        \n",
    "     \n",
    "    def _quantize(self, x):\n",
    "        \n",
    "        N, C, H, W = x.shape\n",
    "        \n",
    "        # Turn each image into vector, i.e. make x into NCm1, where m=H*W\n",
    "        x = x.view(N, C, H*W, 1)\n",
    "        # shape- NCmL, calc distance to l-th center\n",
    "        d = torch.pow(x - self.centers, 2)\n",
    "        # shape- NCmL, \\sum_l d[..., l] sums to 1\n",
    "        phi_soft = F.softmax(-self.sigma * d, dim=-1)\n",
    "        # - Calcualte soft assignements ---\n",
    "        # NCm, soft assign x to centers\n",
    "        x_soft = torch.sum(self.centers * phi_soft, dim=-1)\n",
    "        # NCHW\n",
    "        x_soft = x_soft.view(N, C, H, W)\n",
    "        \n",
    "        ######################\n",
    "        # Calcualte hard assignements for the forward pass, keep gards for the backward\n",
    "        ######################\n",
    "        \n",
    "        # NCm, symbols_hard[..., i] contains index of symbol closest to each pixel\n",
    "        # detach d to use values without affecting the gradients\n",
    "        _, symbols_hard = torch.min(d.detach(), dim=-1)\n",
    "        # NCHW\n",
    "        x_index_of_center = symbols_hard.view(N, C, H, W)\n",
    "        # NCHW, contains value of symbol to use\n",
    "        x_hard = self.centers[symbols_hard]\n",
    "\n",
    "        x_soft.data = x_hard  # assign data, keep gradient\n",
    "        return x_soft, x_hard, x_index_of_center\n",
    "        \n",
    "    @staticmethod\n",
    "    def permute_NHWC_to_NCHW(t):\n",
    "        N, H, W, C = 0 ,1 ,2 ,3\n",
    "        return t.permute(N, C, H, W)\n",
    "    \n",
    "    @staticmethod\n",
    "    def permute_NCHW_to_NHWC(t):\n",
    "        N, C, H, W = 0 ,1 ,2 ,3\n",
    "        return t.permute(N, H, W, C)\n",
    "        "
   ]
  },
  {
   "cell_type": "code",
   "execution_count": 1,
   "metadata": {},
   "outputs": [
    {
     "ename": "NameError",
     "evalue": "name 'Quantizer' is not defined",
     "output_type": "error",
     "traceback": [
      "\u001b[0;31m---------------------------------------------------------------------------\u001b[0m",
      "\u001b[0;31mNameError\u001b[0m                                 Traceback (most recent call last)",
      "\u001b[0;32m<ipython-input-1-d35d7062b5b6>\u001b[0m in \u001b[0;36m<module>\u001b[0;34m\u001b[0m\n\u001b[0;32m----> 1\u001b[0;31m \u001b[0ma\u001b[0m \u001b[0;34m=\u001b[0m \u001b[0mQuantizer\u001b[0m\u001b[0;34m(\u001b[0m\u001b[0;36m5\u001b[0m\u001b[0;34m,\u001b[0m\u001b[0;34m(\u001b[0m\u001b[0;36m0\u001b[0m\u001b[0;34m,\u001b[0m\u001b[0;36m10\u001b[0m\u001b[0;34m)\u001b[0m\u001b[0;34m,\u001b[0m\u001b[0;36m0.1\u001b[0m\u001b[0;34m,\u001b[0m\u001b[0;36m0.1\u001b[0m\u001b[0;34m)\u001b[0m\u001b[0;34m;\u001b[0m\u001b[0;34m\u001b[0m\u001b[0;34m\u001b[0m\u001b[0m\n\u001b[0m\u001b[1;32m      2\u001b[0m \u001b[0mx\u001b[0m \u001b[0;34m=\u001b[0m \u001b[0mtorch\u001b[0m\u001b[0;34m.\u001b[0m\u001b[0mround\u001b[0m\u001b[0;34m(\u001b[0m\u001b[0mtorch\u001b[0m\u001b[0;34m.\u001b[0m\u001b[0mrand\u001b[0m\u001b[0;34m(\u001b[0m\u001b[0;34m[\u001b[0m\u001b[0;36m3\u001b[0m\u001b[0;34m,\u001b[0m\u001b[0;36m2\u001b[0m\u001b[0;34m,\u001b[0m\u001b[0;36m2\u001b[0m\u001b[0;34m,\u001b[0m\u001b[0;36m2\u001b[0m\u001b[0;34m]\u001b[0m\u001b[0;34m)\u001b[0m\u001b[0;34m*\u001b[0m\u001b[0;36m10\u001b[0m\u001b[0;34m)\u001b[0m\u001b[0;34m;\u001b[0m\u001b[0;34m\u001b[0m\u001b[0;34m\u001b[0m\u001b[0m\n\u001b[1;32m      3\u001b[0m \u001b[0mprint\u001b[0m\u001b[0;34m(\u001b[0m\u001b[0mx\u001b[0m\u001b[0;34m)\u001b[0m\u001b[0;34m\u001b[0m\u001b[0;34m\u001b[0m\u001b[0m\n\u001b[1;32m      4\u001b[0m \u001b[0mprint\u001b[0m\u001b[0;34m(\u001b[0m\u001b[0ma\u001b[0m\u001b[0;34m.\u001b[0m\u001b[0mcenters\u001b[0m\u001b[0;34m)\u001b[0m\u001b[0;34m\u001b[0m\u001b[0;34m\u001b[0m\u001b[0m\n\u001b[1;32m      5\u001b[0m \u001b[0mx_soft\u001b[0m\u001b[0;34m,\u001b[0m \u001b[0mx_hard\u001b[0m\u001b[0;34m,\u001b[0m \u001b[0mx_index_of_center\u001b[0m \u001b[0;34m=\u001b[0m  \u001b[0ma\u001b[0m\u001b[0;34m(\u001b[0m\u001b[0mx\u001b[0m\u001b[0;34m)\u001b[0m\u001b[0;34m\u001b[0m\u001b[0;34m\u001b[0m\u001b[0m\n",
      "\u001b[0;31mNameError\u001b[0m: name 'Quantizer' is not defined"
     ]
    }
   ],
   "source": [
    "a = Quantizer(5,(0,10),0.1,0.1); \n",
    "x = torch.round(torch.rand([3,2,2,2])*10);\n",
    "print(x)\n",
    "print(a.centers)\n",
    "x_soft, x_hard, x_index_of_center =  a(x)\n",
    "print(symbols_hard)\n",
    "print(x_soft)\n"
   ]
  },
  {
   "cell_type": "markdown",
   "metadata": {},
   "source": [
    "# EXPORT"
   ]
  },
  {
   "cell_type": "code",
   "execution_count": null,
   "metadata": {},
   "outputs": [],
   "source": [
    "!python notebook2script.py nb__quantizer_imgcomp.ipynb"
   ]
  },
  {
   "cell_type": "code",
   "execution_count": null,
   "metadata": {},
   "outputs": [],
   "source": []
  }
 ],
 "metadata": {
  "kernelspec": {
   "display_name": "Python 3.8.2 64-bit ('torch': conda)",
   "language": "python",
   "name": "python38264bittorchconda5a49bb01e90b47d3b7ca1c7fc4dc1607"
  },
  "language_info": {
   "codemirror_mode": {
    "name": "ipython",
    "version": 3
   },
   "file_extension": ".py",
   "mimetype": "text/x-python",
   "name": "python",
   "nbconvert_exporter": "python",
   "pygments_lexer": "ipython3",
   "version": "3.8.2"
  }
 },
 "nbformat": 4,
 "nbformat_minor": 4
}
