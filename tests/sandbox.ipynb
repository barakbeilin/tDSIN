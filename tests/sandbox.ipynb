{
 "cells": [
  {
   "cell_type": "code",
   "execution_count": 1,
   "metadata": {},
   "outputs": [],
   "source": [
    "%load_ext autoreload\n",
    "%autoreload 2"
   ]
  },
  {
   "cell_type": "code",
   "execution_count": 2,
   "metadata": {},
   "outputs": [],
   "source": [
    "import torch\n",
    "from torch import nn\n",
    "import torch.nn.functional as F\n",
    "from typing import Dict, List\n",
    "import enum\n",
    "from enum import Enum"
   ]
  },
  {
   "cell_type": "code",
   "execution_count": 3,
   "metadata": {},
   "outputs": [],
   "source": [
    "loss = nn.L1Loss()\n",
    "input = torch.randn((5,3,100,100),requires_grad=True).type(torch.IntTensor)\n",
    "target = torch.randn((5,3,100,100)).type(torch.IntTensor)\n",
    "output = loss(input.type(torch.FloatTensor),target.type(torch.FloatTensor))\n",
    "# output.backward()"
   ]
  },
  {
   "cell_type": "code",
   "execution_count": 4,
   "metadata": {},
   "outputs": [
    {
     "data": {
      "text/plain": [
       "tensor(0.6281)"
      ]
     },
     "execution_count": 4,
     "metadata": {},
     "output_type": "execute_result"
    }
   ],
   "source": [
    "output"
   ]
  },
  {
   "cell_type": "code",
   "execution_count": 5,
   "metadata": {},
   "outputs": [
    {
     "name": "stdout",
     "output_type": "stream",
     "text": [
      "tensor([[[[ 0.5490,  0.0588, -0.8512],\n",
      "          [-1.1592, -0.9788, -1.0787],\n",
      "          [ 1.0264,  0.3781,  0.5306]],\n",
      "\n",
      "         [[ 0.5784, -0.5222, -1.4061],\n",
      "          [ 0.2328, -1.4660, -0.4751],\n",
      "          [ 0.5445, -0.0265, -1.4395]],\n",
      "\n",
      "         [[ 0.4306,  0.0552, -0.7354],\n",
      "          [ 0.6437,  0.7284,  2.2468],\n",
      "          [-0.2070,  0.2298, -0.1330]]],\n",
      "\n",
      "\n",
      "        [[[-0.2442,  0.9060, -0.6427],\n",
      "          [-0.0180,  0.7286, -0.7771],\n",
      "          [ 0.9732,  0.9246,  0.1306]],\n",
      "\n",
      "         [[-0.1184,  1.6709, -0.4936],\n",
      "          [-0.6825,  0.7659,  0.0358],\n",
      "          [-0.3990, -0.3896, -0.2674]],\n",
      "\n",
      "         [[ 1.9089, -2.1826, -0.1686],\n",
      "          [ 1.6494, -0.4460, -0.0647],\n",
      "          [-1.2334,  0.5311,  1.0782]]],\n",
      "\n",
      "\n",
      "        [[[-0.5094, -1.2231, -0.1232],\n",
      "          [-0.2210, -0.0529,  0.4364],\n",
      "          [ 0.4929,  0.9244, -0.7904]],\n",
      "\n",
      "         [[ 0.8220,  0.0163, -0.0362],\n",
      "          [ 0.0199,  0.7508, -0.1358],\n",
      "          [-1.4004, -0.4869,  0.2742]],\n",
      "\n",
      "         [[-3.0458, -1.3812,  1.4492],\n",
      "          [-0.2864,  0.2136,  0.2833],\n",
      "          [ 0.8769, -0.3319, -0.1869]]],\n",
      "\n",
      "\n",
      "        [[[-2.4677, -0.6612, -0.0910],\n",
      "          [-1.1502,  0.3647, -1.2280],\n",
      "          [-0.4826, -0.4924, -1.2122]],\n",
      "\n",
      "         [[-0.3052, -0.2912, -0.1315],\n",
      "          [ 0.7916, -0.4782, -1.1404],\n",
      "          [ 0.9513, -0.6876, -0.5720]],\n",
      "\n",
      "         [[ 0.3081,  0.5028, -0.8003],\n",
      "          [ 0.3041,  0.9623, -0.4569],\n",
      "          [-1.8878,  0.4551, -1.6886]]],\n",
      "\n",
      "\n",
      "        [[[-0.1945, -0.8459, -0.7535],\n",
      "          [ 1.6002, -0.3422, -0.4270],\n",
      "          [ 1.6498,  0.8034,  0.5039]],\n",
      "\n",
      "         [[ 0.4007,  0.6937,  1.1769],\n",
      "          [ 1.2047,  1.0017,  1.7395],\n",
      "          [ 1.0102,  1.4114, -1.3260]],\n",
      "\n",
      "         [[-0.9329,  0.0815, -0.5472],\n",
      "          [ 0.3549,  0.0754,  1.0957],\n",
      "          [-0.6846,  0.0270, -0.1305]]]]) tensor([[[[ 0,  0,  0],\n",
      "          [-1,  0, -1],\n",
      "          [ 1,  0,  0]],\n",
      "\n",
      "         [[ 0,  0, -1],\n",
      "          [ 0, -1,  0],\n",
      "          [ 0,  0, -1]],\n",
      "\n",
      "         [[ 0,  0,  0],\n",
      "          [ 0,  0,  2],\n",
      "          [ 0,  0,  0]]],\n",
      "\n",
      "\n",
      "        [[[ 0,  0,  0],\n",
      "          [ 0,  0,  0],\n",
      "          [ 0,  0,  0]],\n",
      "\n",
      "         [[ 0,  1,  0],\n",
      "          [ 0,  0,  0],\n",
      "          [ 0,  0,  0]],\n",
      "\n",
      "         [[ 1, -2,  0],\n",
      "          [ 1,  0,  0],\n",
      "          [-1,  0,  1]]],\n",
      "\n",
      "\n",
      "        [[[ 0, -1,  0],\n",
      "          [ 0,  0,  0],\n",
      "          [ 0,  0,  0]],\n",
      "\n",
      "         [[ 0,  0,  0],\n",
      "          [ 0,  0,  0],\n",
      "          [-1,  0,  0]],\n",
      "\n",
      "         [[-3, -1,  1],\n",
      "          [ 0,  0,  0],\n",
      "          [ 0,  0,  0]]],\n",
      "\n",
      "\n",
      "        [[[-2,  0,  0],\n",
      "          [-1,  0, -1],\n",
      "          [ 0,  0, -1]],\n",
      "\n",
      "         [[ 0,  0,  0],\n",
      "          [ 0,  0, -1],\n",
      "          [ 0,  0,  0]],\n",
      "\n",
      "         [[ 0,  0,  0],\n",
      "          [ 0,  0,  0],\n",
      "          [-1,  0, -1]]],\n",
      "\n",
      "\n",
      "        [[[ 0,  0,  0],\n",
      "          [ 1,  0,  0],\n",
      "          [ 1,  0,  0]],\n",
      "\n",
      "         [[ 0,  0,  1],\n",
      "          [ 1,  1,  1],\n",
      "          [ 1,  1, -1]],\n",
      "\n",
      "         [[ 0,  0,  0],\n",
      "          [ 0,  0,  1],\n",
      "          [ 0,  0,  0]]]], dtype=torch.int32)\n"
     ]
    }
   ],
   "source": [
    "y= torch.randn((5,3,3,3), dtype = torch.float32)\n",
    "y1 =y.type(torch.IntTensor)\n",
    "print(y,y1)\n",
    "\n"
   ]
  },
  {
   "cell_type": "code",
   "execution_count": 6,
   "metadata": {},
   "outputs": [],
   "source": [
    "from dsin.ae.autoencoder_imgcomp import *"
   ]
  },
  {
   "cell_type": "code",
   "execution_count": 7,
   "metadata": {},
   "outputs": [],
   "source": [
    "x = ChangeImageStatsToKitti(ChangeState.NORMALIZE)"
   ]
  },
  {
   "cell_type": "code",
   "execution_count": 8,
   "metadata": {},
   "outputs": [],
   "source": [
    "from dsin.ae.si_net import *"
   ]
  },
  {
   "cell_type": "code",
   "execution_count": 14,
   "metadata": {},
   "outputs": [
    {
     "data": {
      "text/plain": [
       "'SiNet(\\n  (model): Sequential(\\n    (0): Conv2d(3, 32, kernel_size=[3, 3], stride=(1, 1), padding=[1, 1], padding_mode=replicate)\\n    (1): LeakyReLU(negative_slope=0.2)\\n    (2): Conv2d(32, 32, kernel_size=[3, 3], stride=(1, 1), padding=[2, 2], dilation=(2, 2), padding_mode=replicate)\\n    (3): LeakyReLU(negative_slope=0.2)\\n    (4): Conv2d(32, 32, kernel_size=[3, 3], stride=(1, 1), padding=[4, 4], dilation=(4, 4), padding_mode=replicate)\\n    (5): LeakyReLU(negative_slope=0.2)\\n    (6): Conv2d(32, 32, kernel_size=[3, 3], stride=(1, 1), padding=[8, 8], dilation=(8, 8), padding_mode=replicate)\\n    (7): LeakyReLU(negative_slope=0.2)\\n    (8): Conv2d(32, 32, kernel_size=[3, 3], stride=(1, 1), padding=[16, 16], dilation=(16, 16), padding_mode=replicate)\\n    (9): LeakyReLU(negative_slope=0.2)\\n    (10): Conv2d(32, 32, kernel_size=[3, 3], stride=(1, 1), padding=[32, 32], dilation=(32, 32), padding_mode=replicate)\\n    (11): LeakyReLU(negative_slope=0.2)\\n    (12): Conv2d(32, 32, kernel_size=[3, 3], stride=(1, 1), padding=[64, 64], dilation=(64, 64), padding_mode=replicate)\\n    (13): LeakyReLU(negative_slope=0.2)\\n    (14): Conv2d(32, 32, kernel_size=[3, 3], stride=(1, 1), padding=[128, 128], dilation=(128, 128), padding_mode=replicate)\\n    (15): LeakyReLU(negative_slope=0.2)\\n    (16): Conv2d(32, 3, kernel_size=[1, 1], stride=(1, 1))\\n  )\\n)'"
      ]
     },
     "execution_count": 14,
     "metadata": {},
     "output_type": "execute_result"
    }
   ],
   "source": [
    "l = SiNet()\n",
    "x = torch.randn([3,3,320,320])\n",
    "repr(l)"
   ]
  },
  {
   "cell_type": "code",
   "execution_count": 29,
   "metadata": {},
   "outputs": [
    {
     "name": "stdout",
     "output_type": "stream",
     "text": [
      "tensor(0.0778, grad_fn=<VarBackward0>)\n",
      "tensor(0.0067, grad_fn=<VarBackward0>)\n",
      "tensor(0.0067, grad_fn=<VarBackward0>)\n",
      "tensor(0.0067, grad_fn=<VarBackward0>)\n",
      "tensor(0.0067, grad_fn=<VarBackward0>)\n",
      "tensor(0.0067, grad_fn=<VarBackward0>)\n",
      "tensor(0.0067, grad_fn=<VarBackward0>)\n",
      "tensor(0.0067, grad_fn=<VarBackward0>)\n",
      "tensor(0.0589, grad_fn=<VarBackward0>)\n"
     ]
    }
   ],
   "source": [
    "for param in l.parameters():\n",
    "    if len(param.shape)== 4:\n",
    "        print(torch.var(param))"
   ]
  },
  {
   "cell_type": "code",
   "execution_count": 17,
   "metadata": {},
   "outputs": [
    {
     "data": {
      "text/plain": [
       "0.0625"
      ]
     },
     "execution_count": 17,
     "metadata": {},
     "output_type": "execute_result"
    }
   ],
   "source": [
    "1/16"
   ]
  },
  {
   "cell_type": "code",
   "execution_count": 11,
   "metadata": {},
   "outputs": [
    {
     "ename": "AttributeError",
     "evalue": "'LeakyReLU' object has no attribute 'weight'",
     "output_type": "error",
     "traceback": [
      "\u001b[0;31m---------------------------------------------------------------------------\u001b[0m",
      "\u001b[0;31mAttributeError\u001b[0m                            Traceback (most recent call last)",
      "\u001b[0;32m<ipython-input-11-dfdadb0ab5d3>\u001b[0m in \u001b[0;36m<module>\u001b[0;34m\u001b[0m\n\u001b[1;32m      1\u001b[0m \u001b[0ml\u001b[0m \u001b[0;34m=\u001b[0m  \u001b[0mnn\u001b[0m\u001b[0;34m.\u001b[0m\u001b[0mLeakyReLU\u001b[0m\u001b[0;34m(\u001b[0m\u001b[0;36m0.2\u001b[0m\u001b[0;34m)\u001b[0m \u001b[0;31m#nn.Conv2d(1,1,[3,3]) #nn.ReLU()\u001b[0m\u001b[0;34m\u001b[0m\u001b[0;34m\u001b[0m\u001b[0m\n\u001b[0;32m----> 2\u001b[0;31m \u001b[0mgetattr\u001b[0m\u001b[0;34m(\u001b[0m\u001b[0ml\u001b[0m\u001b[0;34m,\u001b[0m\u001b[0;34m\"weight\"\u001b[0m\u001b[0;34m)\u001b[0m\u001b[0;34m\u001b[0m\u001b[0;34m\u001b[0m\u001b[0m\n\u001b[0m",
      "\u001b[0;32m~/anaconda3/envs/torch/lib/python3.8/site-packages/torch/nn/modules/module.py\u001b[0m in \u001b[0;36m__getattr__\u001b[0;34m(self, name)\u001b[0m\n\u001b[1;32m    591\u001b[0m             \u001b[0;32mif\u001b[0m \u001b[0mname\u001b[0m \u001b[0;32min\u001b[0m \u001b[0mmodules\u001b[0m\u001b[0;34m:\u001b[0m\u001b[0;34m\u001b[0m\u001b[0;34m\u001b[0m\u001b[0m\n\u001b[1;32m    592\u001b[0m                 \u001b[0;32mreturn\u001b[0m \u001b[0mmodules\u001b[0m\u001b[0;34m[\u001b[0m\u001b[0mname\u001b[0m\u001b[0;34m]\u001b[0m\u001b[0;34m\u001b[0m\u001b[0;34m\u001b[0m\u001b[0m\n\u001b[0;32m--> 593\u001b[0;31m         raise AttributeError(\"'{}' object has no attribute '{}'\".format(\n\u001b[0m\u001b[1;32m    594\u001b[0m             type(self).__name__, name))\n\u001b[1;32m    595\u001b[0m \u001b[0;34m\u001b[0m\u001b[0m\n",
      "\u001b[0;31mAttributeError\u001b[0m: 'LeakyReLU' object has no attribute 'weight'"
     ]
    }
   ],
   "source": [
    "l =  nn.LeakyReLU(0.2) #nn.Conv2d(1,1,[3,3]) #nn.ReLU()\n",
    "getattr(l,\"weight\")"
   ]
  },
  {
   "cell_type": "code",
   "execution_count": null,
   "metadata": {},
   "outputs": [],
   "source": []
  }
 ],
 "metadata": {
  "kernelspec": {
   "display_name": "Python 3.8.2 64-bit ('torch': conda)",
   "language": "python",
   "name": "python38264bittorchconda5a49bb01e90b47d3b7ca1c7fc4dc1607"
  },
  "language_info": {
   "codemirror_mode": {
    "name": "ipython",
    "version": 3
   },
   "file_extension": ".py",
   "mimetype": "text/x-python",
   "name": "python",
   "nbconvert_exporter": "python",
   "pygments_lexer": "ipython3",
   "version": "3.8.2"
  }
 },
 "nbformat": 4,
 "nbformat_minor": 4
}
