{
 "cells": [
  {
   "cell_type": "code",
   "execution_count": 1,
   "metadata": {},
   "outputs": [],
   "source": [
    "%load_ext autoreload\n",
    "%autoreload 2"
   ]
  },
  {
   "cell_type": "code",
   "execution_count": 2,
   "metadata": {},
   "outputs": [],
   "source": [
    "import torch\n",
    "from torch import nn\n",
    "import torch.nn.functional as F\n",
    "from typing import Dict, List\n",
    "import enum\n",
    "from enum import Enum"
   ]
  },
  {
   "cell_type": "code",
   "execution_count": 23,
   "metadata": {},
   "outputs": [
    {
     "name": "stdout",
     "output_type": "stream",
     "text": [
      "tensor(-0.0021) tensor(0.9985)\n"
     ]
    }
   ],
   "source": [
    "print(torch.mean(x),torch.var(x))"
   ]
  },
  {
   "cell_type": "code",
   "execution_count": 24,
   "metadata": {},
   "outputs": [],
   "source": [
    "from dsin.ae.autoencoder_imgcomp import *"
   ]
  },
  {
   "cell_type": "code",
   "execution_count": 28,
   "metadata": {},
   "outputs": [
    {
     "name": "stdout",
     "output_type": "stream",
     "text": [
      "Sequential(\n",
      "  (0): Conv2d(3, 64, kernel_size=[5, 5], stride=[2, 2], padding=[2, 2], padding_mode=replicate)\n",
      ")\n",
      "torch.Size([2, 3, 128, 128]) torch.Size([2, 64, 64, 64])\n"
     ]
    }
   ],
   "source": [
    "d = Enc_Cs().enc_conv2d_1\n",
    "del d[\"conv\"]\n",
    "l = nn.Sequential(nn.Conv2d(**d),)\n",
    "print(l)\n",
    "y= l(x)\n",
    "print(x.shape, y.shape)"
   ]
  },
  {
   "cell_type": "code",
   "execution_count": 44,
   "metadata": {},
   "outputs": [
    {
     "name": "stdout",
     "output_type": "stream",
     "text": [
      "Encoder(\n",
      "  (pre_res_model): Sequential(\n",
      "    (0): ChangeImageStatsToKitti()\n",
      "    (1): Conv2dReluBatch2d(\n",
      "      (model): Sequential(\n",
      "        (0): Conv2d(3, 64, kernel_size=[5, 5], stride=[2, 2], padding=[2, 2], padding_mode=replicate)\n",
      "        (1): ReLU()\n",
      "        (2): BatchNorm2d(64, eps=0.001, momentum=0.1, affine=True, track_running_stats=True)\n",
      "      )\n",
      "    )\n",
      "    (2): Conv2dReluBatch2d(\n",
      "      (model): Sequential(\n",
      "        (0): Conv2d(64, 128, kernel_size=[5, 5], stride=[2, 2], padding=[2, 2], padding_mode=replicate)\n",
      "        (1): ReLU()\n",
      "        (2): BatchNorm2d(128, eps=0.001, momentum=0.1, affine=True, track_running_stats=True)\n",
      "      )\n",
      "    )\n",
      "  )\n",
      "  (res_model): Sequential(\n",
      "    (0): UberResBlock(\n",
      "      (model): Sequential(\n",
      "        (0): ResBlock(\n",
      "          (model): Sequential(\n",
      "            (0): Conv2d(128, 128, kernel_size=[3, 3], stride=[1, 1], padding=[1, 1], padding_mode=replicate)\n",
      "            (1): ReLU()\n",
      "            (2): BatchNorm2d(128, eps=0.001, momentum=0.1, affine=True, track_running_stats=True)\n",
      "            (3): Conv2d(128, 128, kernel_size=[3, 3], stride=[1, 1], padding=[1, 1], padding_mode=replicate)\n",
      "          )\n",
      "        )\n",
      "        (1): ResBlock(\n",
      "          (model): Sequential(\n",
      "            (0): Conv2d(128, 128, kernel_size=[3, 3], stride=[1, 1], padding=[1, 1], padding_mode=replicate)\n",
      "            (1): ReLU()\n",
      "            (2): BatchNorm2d(128, eps=0.001, momentum=0.1, affine=True, track_running_stats=True)\n",
      "            (3): Conv2d(128, 128, kernel_size=[3, 3], stride=[1, 1], padding=[1, 1], padding_mode=replicate)\n",
      "          )\n",
      "        )\n",
      "        (2): ResBlock(\n",
      "          (model): Sequential(\n",
      "            (0): Conv2d(128, 128, kernel_size=[3, 3], stride=[1, 1], padding=[1, 1], padding_mode=replicate)\n",
      "            (1): ReLU()\n",
      "            (2): BatchNorm2d(128, eps=0.001, momentum=0.1, affine=True, track_running_stats=True)\n",
      "            (3): Conv2d(128, 128, kernel_size=[3, 3], stride=[1, 1], padding=[1, 1], padding_mode=replicate)\n",
      "          )\n",
      "        )\n",
      "      )\n",
      "    )\n",
      "    (1): UberResBlock(\n",
      "      (model): Sequential(\n",
      "        (0): ResBlock(\n",
      "          (model): Sequential(\n",
      "            (0): Conv2d(128, 128, kernel_size=[3, 3], stride=[1, 1], padding=[1, 1], padding_mode=replicate)\n",
      "            (1): ReLU()\n",
      "            (2): BatchNorm2d(128, eps=0.001, momentum=0.1, affine=True, track_running_stats=True)\n",
      "            (3): Conv2d(128, 128, kernel_size=[3, 3], stride=[1, 1], padding=[1, 1], padding_mode=replicate)\n",
      "          )\n",
      "        )\n",
      "        (1): ResBlock(\n",
      "          (model): Sequential(\n",
      "            (0): Conv2d(128, 128, kernel_size=[3, 3], stride=[1, 1], padding=[1, 1], padding_mode=replicate)\n",
      "            (1): ReLU()\n",
      "            (2): BatchNorm2d(128, eps=0.001, momentum=0.1, affine=True, track_running_stats=True)\n",
      "            (3): Conv2d(128, 128, kernel_size=[3, 3], stride=[1, 1], padding=[1, 1], padding_mode=replicate)\n",
      "          )\n",
      "        )\n",
      "        (2): ResBlock(\n",
      "          (model): Sequential(\n",
      "            (0): Conv2d(128, 128, kernel_size=[3, 3], stride=[1, 1], padding=[1, 1], padding_mode=replicate)\n",
      "            (1): ReLU()\n",
      "            (2): BatchNorm2d(128, eps=0.001, momentum=0.1, affine=True, track_running_stats=True)\n",
      "            (3): Conv2d(128, 128, kernel_size=[3, 3], stride=[1, 1], padding=[1, 1], padding_mode=replicate)\n",
      "          )\n",
      "        )\n",
      "      )\n",
      "    )\n",
      "    (2): UberResBlock(\n",
      "      (model): Sequential(\n",
      "        (0): ResBlock(\n",
      "          (model): Sequential(\n",
      "            (0): Conv2d(128, 128, kernel_size=[3, 3], stride=[1, 1], padding=[1, 1], padding_mode=replicate)\n",
      "            (1): ReLU()\n",
      "            (2): BatchNorm2d(128, eps=0.001, momentum=0.1, affine=True, track_running_stats=True)\n",
      "            (3): Conv2d(128, 128, kernel_size=[3, 3], stride=[1, 1], padding=[1, 1], padding_mode=replicate)\n",
      "          )\n",
      "        )\n",
      "        (1): ResBlock(\n",
      "          (model): Sequential(\n",
      "            (0): Conv2d(128, 128, kernel_size=[3, 3], stride=[1, 1], padding=[1, 1], padding_mode=replicate)\n",
      "            (1): ReLU()\n",
      "            (2): BatchNorm2d(128, eps=0.001, momentum=0.1, affine=True, track_running_stats=True)\n",
      "            (3): Conv2d(128, 128, kernel_size=[3, 3], stride=[1, 1], padding=[1, 1], padding_mode=replicate)\n",
      "          )\n",
      "        )\n",
      "        (2): ResBlock(\n",
      "          (model): Sequential(\n",
      "            (0): Conv2d(128, 128, kernel_size=[3, 3], stride=[1, 1], padding=[1, 1], padding_mode=replicate)\n",
      "            (1): ReLU()\n",
      "            (2): BatchNorm2d(128, eps=0.001, momentum=0.1, affine=True, track_running_stats=True)\n",
      "            (3): Conv2d(128, 128, kernel_size=[3, 3], stride=[1, 1], padding=[1, 1], padding_mode=replicate)\n",
      "          )\n",
      "        )\n",
      "      )\n",
      "    )\n",
      "    (3): UberResBlock(\n",
      "      (model): Sequential(\n",
      "        (0): ResBlock(\n",
      "          (model): Sequential(\n",
      "            (0): Conv2d(128, 128, kernel_size=[3, 3], stride=[1, 1], padding=[1, 1], padding_mode=replicate)\n",
      "            (1): ReLU()\n",
      "            (2): BatchNorm2d(128, eps=0.001, momentum=0.1, affine=True, track_running_stats=True)\n",
      "            (3): Conv2d(128, 128, kernel_size=[3, 3], stride=[1, 1], padding=[1, 1], padding_mode=replicate)\n",
      "          )\n",
      "        )\n",
      "        (1): ResBlock(\n",
      "          (model): Sequential(\n",
      "            (0): Conv2d(128, 128, kernel_size=[3, 3], stride=[1, 1], padding=[1, 1], padding_mode=replicate)\n",
      "            (1): ReLU()\n",
      "            (2): BatchNorm2d(128, eps=0.001, momentum=0.1, affine=True, track_running_stats=True)\n",
      "            (3): Conv2d(128, 128, kernel_size=[3, 3], stride=[1, 1], padding=[1, 1], padding_mode=replicate)\n",
      "          )\n",
      "        )\n",
      "        (2): ResBlock(\n",
      "          (model): Sequential(\n",
      "            (0): Conv2d(128, 128, kernel_size=[3, 3], stride=[1, 1], padding=[1, 1], padding_mode=replicate)\n",
      "            (1): ReLU()\n",
      "            (2): BatchNorm2d(128, eps=0.001, momentum=0.1, affine=True, track_running_stats=True)\n",
      "            (3): Conv2d(128, 128, kernel_size=[3, 3], stride=[1, 1], padding=[1, 1], padding_mode=replicate)\n",
      "          )\n",
      "        )\n",
      "      )\n",
      "    )\n",
      "    (4): UberResBlock(\n",
      "      (model): Sequential(\n",
      "        (0): ResBlock(\n",
      "          (model): Sequential(\n",
      "            (0): Conv2d(128, 128, kernel_size=[3, 3], stride=[1, 1], padding=[1, 1], padding_mode=replicate)\n",
      "            (1): ReLU()\n",
      "            (2): BatchNorm2d(128, eps=0.001, momentum=0.1, affine=True, track_running_stats=True)\n",
      "            (3): Conv2d(128, 128, kernel_size=[3, 3], stride=[1, 1], padding=[1, 1], padding_mode=replicate)\n",
      "          )\n",
      "        )\n",
      "        (1): ResBlock(\n",
      "          (model): Sequential(\n",
      "            (0): Conv2d(128, 128, kernel_size=[3, 3], stride=[1, 1], padding=[1, 1], padding_mode=replicate)\n",
      "            (1): ReLU()\n",
      "            (2): BatchNorm2d(128, eps=0.001, momentum=0.1, affine=True, track_running_stats=True)\n",
      "            (3): Conv2d(128, 128, kernel_size=[3, 3], stride=[1, 1], padding=[1, 1], padding_mode=replicate)\n",
      "          )\n",
      "        )\n",
      "        (2): ResBlock(\n",
      "          (model): Sequential(\n",
      "            (0): Conv2d(128, 128, kernel_size=[3, 3], stride=[1, 1], padding=[1, 1], padding_mode=replicate)\n",
      "            (1): ReLU()\n",
      "            (2): BatchNorm2d(128, eps=0.001, momentum=0.1, affine=True, track_running_stats=True)\n",
      "            (3): Conv2d(128, 128, kernel_size=[3, 3], stride=[1, 1], padding=[1, 1], padding_mode=replicate)\n",
      "          )\n",
      "        )\n",
      "      )\n",
      "    )\n",
      "    (5): ResBlock(\n",
      "      (model): Sequential(\n",
      "        (0): Conv2d(128, 128, kernel_size=[3, 3], stride=[1, 1], padding=[1, 1], padding_mode=replicate)\n",
      "        (1): ReLU()\n",
      "        (2): BatchNorm2d(128, eps=0.001, momentum=0.1, affine=True, track_running_stats=True)\n",
      "        (3): Conv2d(128, 128, kernel_size=[3, 3], stride=[1, 1], padding=[1, 1], padding_mode=replicate)\n",
      "      )\n",
      "    )\n",
      "  )\n",
      "  (post_sum_model): Conv2d(128, 33, kernel_size=[5, 5], stride=[2, 2], padding=[2, 2], padding_mode=replicate)\n",
      ")\n"
     ]
    }
   ],
   "source": [
    "enc = Encoder.create_module_from_const()\n",
    "print(enc)\n",
    "enc_txt = 'Encoder(\\n  (pre_sum_model): Sequential(\\n    (0): ChangeImageStatsToKitti()\\n    (1): Conv2dReluBatch2d(\\n      (model): Sequential(\\n        (0): Conv2d(3, 64, kernel_size=[5, 5], stride=[2, 2], padding=[2, 2], padding_mode=replicate)\\n        (1): ReLU()\\n        (2): BatchNorm2d(64, eps=0.001, momentum=0.1, affine=True, track_running_stats=True)\\n      )\\n    )\\n    (2): Conv2dReluBatch2d(\\n      (model): Sequential(\\n        (0): Conv2d(64, 128, kernel_size=[5, 5], stride=[2, 2], padding=[2, 2], padding_mode=replicate)\\n        (1): ReLU()\\n        (2): BatchNorm2d(128, eps=0.001, momentum=0.1, affine=True, track_running_stats=True)\\n      )\\n    )\\n    (3): UberResBlock(\\n      (model): Sequential(\\n        (0): ResBlock(\\n          (model): Sequential(\\n            (0): Conv2d(128, 128, kernel_size=[3, 3], stride=[1, 1], padding=[1, 1], padding_mode=replicate)\\n            (1): ReLU()\\n            (2): BatchNorm2d(128, eps=0.001, momentum=0.1, affine=True, track_running_stats=True)\\n            (3): Conv2d(128, 128, kernel_size=[3, 3], stride=[1, 1], padding=[1, 1], padding_mode=replicate)\\n          )\\n        )\\n        (1): ResBlock(\\n          (model): Sequential(\\n            (0): Conv2d(128, 128, kernel_size=[3, 3], stride=[1, 1], padding=[1, 1], padding_mode=replicate)\\n            (1): ReLU()\\n            (2): BatchNorm2d(128, eps=0.001, momentum=0.1, affine=True, track_running_stats=True)\\n            (3): Conv2d(128, 128, kernel_size=[3, 3], stride=[1, 1], padding=[1, 1], padding_mode=replicate)\\n          )\\n        )\\n        (2): ResBlock(\\n          (model): Sequential(\\n            (0): Conv2d(128, 128, kernel_size=[3, 3], stride=[1, 1], padding=[1, 1], padding_mode=replicate)\\n            (1): ReLU()\\n            (2): BatchNorm2d(128, eps=0.001, momentum=0.1, affine=True, track_running_stats=True)\\n            (3): Conv2d(128, 128, kernel_size=[3, 3], stride=[1, 1], padding=[1, 1], padding_mode=replicate)\\n          )\\n        )\\n      )\\n    )\\n    (4): UberResBlock(\\n      (model): Sequential(\\n        (0): ResBlock(\\n          (model): Sequential(\\n            (0): Conv2d(128, 128, kernel_size=[3, 3], stride=[1, 1], padding=[1, 1], padding_mode=replicate)\\n            (1): ReLU()\\n            (2): BatchNorm2d(128, eps=0.001, momentum=0.1, affine=True, track_running_stats=True)\\n            (3): Conv2d(128, 128, kernel_size=[3, 3], stride=[1, 1], padding=[1, 1], padding_mode=replicate)\\n          )\\n        )\\n        (1): ResBlock(\\n          (model): Sequential(\\n            (0): Conv2d(128, 128, kernel_size=[3, 3], stride=[1, 1], padding=[1, 1], padding_mode=replicate)\\n            (1): ReLU()\\n            (2): BatchNorm2d(128, eps=0.001, momentum=0.1, affine=True, track_running_stats=True)\\n            (3): Conv2d(128, 128, kernel_size=[3, 3], stride=[1, 1], padding=[1, 1], padding_mode=replicate)\\n          )\\n        )\\n        (2): ResBlock(\\n          (model): Sequential(\\n            (0): Conv2d(128, 128, kernel_size=[3, 3], stride=[1, 1], padding=[1, 1], padding_mode=replicate)\\n            (1): ReLU()\\n            (2): BatchNorm2d(128, eps=0.001, momentum=0.1, affine=True, track_running_stats=True)\\n            (3): Conv2d(128, 128, kernel_size=[3, 3], stride=[1, 1], padding=[1, 1], padding_mode=replicate)\\n          )\\n        )\\n      )\\n    )\\n    (5): UberResBlock(\\n      (model): Sequential(\\n        (0): ResBlock(\\n          (model): Sequential(\\n            (0): Conv2d(128, 128, kernel_size=[3, 3], stride=[1, 1], padding=[1, 1], padding_mode=replicate)\\n            (1): ReLU()\\n            (2): BatchNorm2d(128, eps=0.001, momentum=0.1, affine=True, track_running_stats=True)\\n            (3): Conv2d(128, 128, kernel_size=[3, 3], stride=[1, 1], padding=[1, 1], padding_mode=replicate)\\n          )\\n        )\\n        (1): ResBlock(\\n          (model): Sequential(\\n            (0): Conv2d(128, 128, kernel_size=[3, 3], stride=[1, 1], padding=[1, 1], padding_mode=replicate)\\n            (1): ReLU()\\n            (2): BatchNorm2d(128, eps=0.001, momentum=0.1, affine=True, track_running_stats=True)\\n            (3): Conv2d(128, 128, kernel_size=[3, 3], stride=[1, 1], padding=[1, 1], padding_mode=replicate)\\n          )\\n        )\\n        (2): ResBlock(\\n          (model): Sequential(\\n            (0): Conv2d(128, 128, kernel_size=[3, 3], stride=[1, 1], padding=[1, 1], padding_mode=replicate)\\n            (1): ReLU()\\n            (2): BatchNorm2d(128, eps=0.001, momentum=0.1, affine=True, track_running_stats=True)\\n            (3): Conv2d(128, 128, kernel_size=[3, 3], stride=[1, 1], padding=[1, 1], padding_mode=replicate)\\n          )\\n        )\\n      )\\n    )\\n    (6): UberResBlock(\\n      (model): Sequential(\\n        (0): ResBlock(\\n          (model): Sequential(\\n            (0): Conv2d(128, 128, kernel_size=[3, 3], stride=[1, 1], padding=[1, 1], padding_mode=replicate)\\n            (1): ReLU()\\n            (2): BatchNorm2d(128, eps=0.001, momentum=0.1, affine=True, track_running_stats=True)\\n            (3): Conv2d(128, 128, kernel_size=[3, 3], stride=[1, 1], padding=[1, 1], padding_mode=replicate)\\n          )\\n        )\\n        (1): ResBlock(\\n          (model): Sequential(\\n            (0): Conv2d(128, 128, kernel_size=[3, 3], stride=[1, 1], padding=[1, 1], padding_mode=replicate)\\n            (1): ReLU()\\n            (2): BatchNorm2d(128, eps=0.001, momentum=0.1, affine=True, track_running_stats=True)\\n            (3): Conv2d(128, 128, kernel_size=[3, 3], stride=[1, 1], padding=[1, 1], padding_mode=replicate)\\n          )\\n        )\\n        (2): ResBlock(\\n          (model): Sequential(\\n            (0): Conv2d(128, 128, kernel_size=[3, 3], stride=[1, 1], padding=[1, 1], padding_mode=replicate)\\n            (1): ReLU()\\n            (2): BatchNorm2d(128, eps=0.001, momentum=0.1, affine=True, track_running_stats=True)\\n            (3): Conv2d(128, 128, kernel_size=[3, 3], stride=[1, 1], padding=[1, 1], padding_mode=replicate)\\n          )\\n        )\\n      )\\n    )\\n    (7): UberResBlock(\\n      (model): Sequential(\\n        (0): ResBlock(\\n          (model): Sequential(\\n            (0): Conv2d(128, 128, kernel_size=[3, 3], stride=[1, 1], padding=[1, 1], padding_mode=replicate)\\n            (1): ReLU()\\n            (2): BatchNorm2d(128, eps=0.001, momentum=0.1, affine=True, track_running_stats=True)\\n            (3): Conv2d(128, 128, kernel_size=[3, 3], stride=[1, 1], padding=[1, 1], padding_mode=replicate)\\n          )\\n        )\\n        (1): ResBlock(\\n          (model): Sequential(\\n            (0): Conv2d(128, 128, kernel_size=[3, 3], stride=[1, 1], padding=[1, 1], padding_mode=replicate)\\n            (1): ReLU()\\n            (2): BatchNorm2d(128, eps=0.001, momentum=0.1, affine=True, track_running_stats=True)\\n            (3): Conv2d(128, 128, kernel_size=[3, 3], stride=[1, 1], padding=[1, 1], padding_mode=replicate)\\n          )\\n        )\\n        (2): ResBlock(\\n          (model): Sequential(\\n            (0): Conv2d(128, 128, kernel_size=[3, 3], stride=[1, 1], padding=[1, 1], padding_mode=replicate)\\n            (1): ReLU()\\n            (2): BatchNorm2d(128, eps=0.001, momentum=0.1, affine=True, track_running_stats=True)\\n            (3): Conv2d(128, 128, kernel_size=[3, 3], stride=[1, 1], padding=[1, 1], padding_mode=replicate)\\n          )\\n        )\\n      )\\n    )\\n    (8): ResBlock(\\n      (model): Sequential(\\n        (0): Conv2d(128, 128, kernel_size=[3, 3], stride=[1, 1], padding=[1, 1], padding_mode=replicate)\\n        (1): ReLU()\\n        (2): BatchNorm2d(128, eps=0.001, momentum=0.1, affine=True, track_running_stats=True)\\n        (3): Conv2d(128, 128, kernel_size=[3, 3], stride=[1, 1], padding=[1, 1], padding_mode=replicate)\\n      )\\n    )\\n  )\\n  (post_sum_model): Conv2d(128, 33, kernel_size=[5, 5], stride=[2, 2], padding=[2, 2], padding_mode=replicate)\\n)'\n",
    "\n"
   ]
  },
  {
   "cell_type": "code",
   "execution_count": 43,
   "metadata": {},
   "outputs": [
    {
     "name": "stdout",
     "output_type": "stream",
     "text": [
      "Encoder(\n",
      "  (pre_sum_model): Sequential(\n",
      "    (0): ChangeImageStatsToKitti()\n",
      "    (1): Conv2dReluBatch2d(\n",
      "      (model): Sequential(\n",
      "        (0): Conv2d(3, 64, kernel_size=[5, 5], stride=[2, 2], padding=[2, 2], padding_mode=replicate)\n",
      "        (1): ReLU()\n",
      "        (2): BatchNorm2d(64, eps=0.001, momentum=0.1, affine=True, track_running_stats=True)\n",
      "      )\n",
      "    )\n",
      "    (2): Conv2dReluBatch2d(\n",
      "      (model): Sequential(\n",
      "        (0): Conv2d(64, 128, kernel_size=[5, 5], stride=[2, 2], padding=[2, 2], padding_mode=replicate)\n",
      "        (1): ReLU()\n",
      "        (2): BatchNorm2d(128, eps=0.001, momentum=0.1, affine=True, track_running_stats=True)\n",
      "      )\n",
      "    )\n",
      "    (3): UberResBlock(\n",
      "      (model): Sequential(\n",
      "        (0): ResBlock(\n",
      "          (model): Sequential(\n",
      "            (0): Conv2d(128, 128, kernel_size=[3, 3], stride=[1, 1], padding=[1, 1], padding_mode=replicate)\n",
      "            (1): ReLU()\n",
      "            (2): BatchNorm2d(128, eps=0.001, momentum=0.1, affine=True, track_running_stats=True)\n",
      "            (3): Conv2d(128, 128, kernel_size=[3, 3], stride=[1, 1], padding=[1, 1], padding_mode=replicate)\n",
      "          )\n",
      "        )\n",
      "        (1): ResBlock(\n",
      "          (model): Sequential(\n",
      "            (0): Conv2d(128, 128, kernel_size=[3, 3], stride=[1, 1], padding=[1, 1], padding_mode=replicate)\n",
      "            (1): ReLU()\n",
      "            (2): BatchNorm2d(128, eps=0.001, momentum=0.1, affine=True, track_running_stats=True)\n",
      "            (3): Conv2d(128, 128, kernel_size=[3, 3], stride=[1, 1], padding=[1, 1], padding_mode=replicate)\n",
      "          )\n",
      "        )\n",
      "        (2): ResBlock(\n",
      "          (model): Sequential(\n",
      "            (0): Conv2d(128, 128, kernel_size=[3, 3], stride=[1, 1], padding=[1, 1], padding_mode=replicate)\n",
      "            (1): ReLU()\n",
      "            (2): BatchNorm2d(128, eps=0.001, momentum=0.1, affine=True, track_running_stats=True)\n",
      "            (3): Conv2d(128, 128, kernel_size=[3, 3], stride=[1, 1], padding=[1, 1], padding_mode=replicate)\n",
      "          )\n",
      "        )\n",
      "      )\n",
      "    )\n",
      "    (4): UberResBlock(\n",
      "      (model): Sequential(\n",
      "        (0): ResBlock(\n",
      "          (model): Sequential(\n",
      "            (0): Conv2d(128, 128, kernel_size=[3, 3], stride=[1, 1], padding=[1, 1], padding_mode=replicate)\n",
      "            (1): ReLU()\n",
      "            (2): BatchNorm2d(128, eps=0.001, momentum=0.1, affine=True, track_running_stats=True)\n",
      "            (3): Conv2d(128, 128, kernel_size=[3, 3], stride=[1, 1], padding=[1, 1], padding_mode=replicate)\n",
      "          )\n",
      "        )\n",
      "        (1): ResBlock(\n",
      "          (model): Sequential(\n",
      "            (0): Conv2d(128, 128, kernel_size=[3, 3], stride=[1, 1], padding=[1, 1], padding_mode=replicate)\n",
      "            (1): ReLU()\n",
      "            (2): BatchNorm2d(128, eps=0.001, momentum=0.1, affine=True, track_running_stats=True)\n",
      "            (3): Conv2d(128, 128, kernel_size=[3, 3], stride=[1, 1], padding=[1, 1], padding_mode=replicate)\n",
      "          )\n",
      "        )\n",
      "        (2): ResBlock(\n",
      "          (model): Sequential(\n",
      "            (0): Conv2d(128, 128, kernel_size=[3, 3], stride=[1, 1], padding=[1, 1], padding_mode=replicate)\n",
      "            (1): ReLU()\n",
      "            (2): BatchNorm2d(128, eps=0.001, momentum=0.1, affine=True, track_running_stats=True)\n",
      "            (3): Conv2d(128, 128, kernel_size=[3, 3], stride=[1, 1], padding=[1, 1], padding_mode=replicate)\n",
      "          )\n",
      "        )\n",
      "      )\n",
      "    )\n",
      "    (5): UberResBlock(\n",
      "      (model): Sequential(\n",
      "        (0): ResBlock(\n",
      "          (model): Sequential(\n",
      "            (0): Conv2d(128, 128, kernel_size=[3, 3], stride=[1, 1], padding=[1, 1], padding_mode=replicate)\n",
      "            (1): ReLU()\n",
      "            (2): BatchNorm2d(128, eps=0.001, momentum=0.1, affine=True, track_running_stats=True)\n",
      "            (3): Conv2d(128, 128, kernel_size=[3, 3], stride=[1, 1], padding=[1, 1], padding_mode=replicate)\n",
      "          )\n",
      "        )\n",
      "        (1): ResBlock(\n",
      "          (model): Sequential(\n",
      "            (0): Conv2d(128, 128, kernel_size=[3, 3], stride=[1, 1], padding=[1, 1], padding_mode=replicate)\n",
      "            (1): ReLU()\n",
      "            (2): BatchNorm2d(128, eps=0.001, momentum=0.1, affine=True, track_running_stats=True)\n",
      "            (3): Conv2d(128, 128, kernel_size=[3, 3], stride=[1, 1], padding=[1, 1], padding_mode=replicate)\n",
      "          )\n",
      "        )\n",
      "        (2): ResBlock(\n",
      "          (model): Sequential(\n",
      "            (0): Conv2d(128, 128, kernel_size=[3, 3], stride=[1, 1], padding=[1, 1], padding_mode=replicate)\n",
      "            (1): ReLU()\n",
      "            (2): BatchNorm2d(128, eps=0.001, momentum=0.1, affine=True, track_running_stats=True)\n",
      "            (3): Conv2d(128, 128, kernel_size=[3, 3], stride=[1, 1], padding=[1, 1], padding_mode=replicate)\n",
      "          )\n",
      "        )\n",
      "      )\n",
      "    )\n",
      "    (6): UberResBlock(\n",
      "      (model): Sequential(\n",
      "        (0): ResBlock(\n",
      "          (model): Sequential(\n",
      "            (0): Conv2d(128, 128, kernel_size=[3, 3], stride=[1, 1], padding=[1, 1], padding_mode=replicate)\n",
      "            (1): ReLU()\n",
      "            (2): BatchNorm2d(128, eps=0.001, momentum=0.1, affine=True, track_running_stats=True)\n",
      "            (3): Conv2d(128, 128, kernel_size=[3, 3], stride=[1, 1], padding=[1, 1], padding_mode=replicate)\n",
      "          )\n",
      "        )\n",
      "        (1): ResBlock(\n",
      "          (model): Sequential(\n",
      "            (0): Conv2d(128, 128, kernel_size=[3, 3], stride=[1, 1], padding=[1, 1], padding_mode=replicate)\n",
      "            (1): ReLU()\n",
      "            (2): BatchNorm2d(128, eps=0.001, momentum=0.1, affine=True, track_running_stats=True)\n",
      "            (3): Conv2d(128, 128, kernel_size=[3, 3], stride=[1, 1], padding=[1, 1], padding_mode=replicate)\n",
      "          )\n",
      "        )\n",
      "        (2): ResBlock(\n",
      "          (model): Sequential(\n",
      "            (0): Conv2d(128, 128, kernel_size=[3, 3], stride=[1, 1], padding=[1, 1], padding_mode=replicate)\n",
      "            (1): ReLU()\n",
      "            (2): BatchNorm2d(128, eps=0.001, momentum=0.1, affine=True, track_running_stats=True)\n",
      "            (3): Conv2d(128, 128, kernel_size=[3, 3], stride=[1, 1], padding=[1, 1], padding_mode=replicate)\n",
      "          )\n",
      "        )\n",
      "      )\n",
      "    )\n",
      "    (7): UberResBlock(\n",
      "      (model): Sequential(\n",
      "        (0): ResBlock(\n",
      "          (model): Sequential(\n",
      "            (0): Conv2d(128, 128, kernel_size=[3, 3], stride=[1, 1], padding=[1, 1], padding_mode=replicate)\n",
      "            (1): ReLU()\n",
      "            (2): BatchNorm2d(128, eps=0.001, momentum=0.1, affine=True, track_running_stats=True)\n",
      "            (3): Conv2d(128, 128, kernel_size=[3, 3], stride=[1, 1], padding=[1, 1], padding_mode=replicate)\n",
      "          )\n",
      "        )\n",
      "        (1): ResBlock(\n",
      "          (model): Sequential(\n",
      "            (0): Conv2d(128, 128, kernel_size=[3, 3], stride=[1, 1], padding=[1, 1], padding_mode=replicate)\n",
      "            (1): ReLU()\n",
      "            (2): BatchNorm2d(128, eps=0.001, momentum=0.1, affine=True, track_running_stats=True)\n",
      "            (3): Conv2d(128, 128, kernel_size=[3, 3], stride=[1, 1], padding=[1, 1], padding_mode=replicate)\n",
      "          )\n",
      "        )\n",
      "        (2): ResBlock(\n",
      "          (model): Sequential(\n",
      "            (0): Conv2d(128, 128, kernel_size=[3, 3], stride=[1, 1], padding=[1, 1], padding_mode=replicate)\n",
      "            (1): ReLU()\n",
      "            (2): BatchNorm2d(128, eps=0.001, momentum=0.1, affine=True, track_running_stats=True)\n",
      "            (3): Conv2d(128, 128, kernel_size=[3, 3], stride=[1, 1], padding=[1, 1], padding_mode=replicate)\n",
      "          )\n",
      "        )\n",
      "      )\n",
      "    )\n",
      "    (8): ResBlock(\n",
      "      (model): Sequential(\n",
      "        (0): Conv2d(128, 128, kernel_size=[3, 3], stride=[1, 1], padding=[1, 1], padding_mode=replicate)\n",
      "        (1): ReLU()\n",
      "        (2): BatchNorm2d(128, eps=0.001, momentum=0.1, affine=True, track_running_stats=True)\n",
      "        (3): Conv2d(128, 128, kernel_size=[3, 3], stride=[1, 1], padding=[1, 1], padding_mode=replicate)\n",
      "      )\n",
      "    )\n",
      "  )\n",
      "  (post_sum_model): Conv2d(128, 33, kernel_size=[5, 5], stride=[2, 2], padding=[2, 2], padding_mode=replicate)\n",
      ")\n"
     ]
    }
   ],
   "source": [
    "print(enc_txt)"
   ]
  },
  {
   "cell_type": "code",
   "execution_count": 54,
   "metadata": {},
   "outputs": [],
   "source": [
    "class Foo:\n",
    "    def __init__(self):\n",
    "        self.a = 1"
   ]
  },
  {
   "cell_type": "code",
   "execution_count": 55,
   "metadata": {},
   "outputs": [],
   "source": [
    "class Bar(Foo):\n",
    "    def __init__(self):\n",
    "        super().__init__()\n",
    "        self.a = 2\n",
    "        print(self.a)\n",
    "        print(super().a)"
   ]
  },
  {
   "cell_type": "code",
   "execution_count": 57,
   "metadata": {},
   "outputs": [
    {
     "name": "stdout",
     "output_type": "stream",
     "text": [
      "2\n"
     ]
    },
    {
     "ename": "AttributeError",
     "evalue": "'super' object has no attribute 'a'",
     "output_type": "error",
     "traceback": [
      "\u001b[0;31m---------------------------------------------------------------------------\u001b[0m",
      "\u001b[0;31mAttributeError\u001b[0m                            Traceback (most recent call last)",
      "\u001b[0;32m<ipython-input-57-9601d173edd2>\u001b[0m in \u001b[0;36m<module>\u001b[0;34m\u001b[0m\n\u001b[0;32m----> 1\u001b[0;31m \u001b[0mx\u001b[0m \u001b[0;34m=\u001b[0m \u001b[0mBar\u001b[0m\u001b[0;34m(\u001b[0m\u001b[0;34m)\u001b[0m\u001b[0;34m\u001b[0m\u001b[0;34m\u001b[0m\u001b[0m\n\u001b[0m",
      "\u001b[0;32m<ipython-input-55-c1265ee8bd6a>\u001b[0m in \u001b[0;36m__init__\u001b[0;34m(self)\u001b[0m\n\u001b[1;32m      4\u001b[0m         \u001b[0mself\u001b[0m\u001b[0;34m.\u001b[0m\u001b[0ma\u001b[0m \u001b[0;34m=\u001b[0m \u001b[0;36m2\u001b[0m\u001b[0;34m\u001b[0m\u001b[0;34m\u001b[0m\u001b[0m\n\u001b[1;32m      5\u001b[0m         \u001b[0mprint\u001b[0m\u001b[0;34m(\u001b[0m\u001b[0mself\u001b[0m\u001b[0;34m.\u001b[0m\u001b[0ma\u001b[0m\u001b[0;34m)\u001b[0m\u001b[0;34m\u001b[0m\u001b[0;34m\u001b[0m\u001b[0m\n\u001b[0;32m----> 6\u001b[0;31m         \u001b[0mprint\u001b[0m\u001b[0;34m(\u001b[0m\u001b[0msuper\u001b[0m\u001b[0;34m(\u001b[0m\u001b[0;34m)\u001b[0m\u001b[0;34m.\u001b[0m\u001b[0ma\u001b[0m\u001b[0;34m)\u001b[0m\u001b[0;34m\u001b[0m\u001b[0;34m\u001b[0m\u001b[0m\n\u001b[0m",
      "\u001b[0;31mAttributeError\u001b[0m: 'super' object has no attribute 'a'"
     ]
    }
   ],
   "source": [
    "x = Bar()"
   ]
  },
  {
   "cell_type": "code",
   "execution_count": 73,
   "metadata": {},
   "outputs": [
    {
     "name": "stdout",
     "output_type": "stream",
     "text": [
      "{'in_channels': 32, 'out_channels': 128, 'kernel_size': [3, 3], 'stride': [2, 2], 'padding': [1, 1], 'padding_mode': 'zeros'}\n"
     ]
    },
    {
     "data": {
      "text/plain": [
       "torch.Size([2, 128, 32, 32])"
      ]
     },
     "execution_count": 73,
     "metadata": {},
     "output_type": "execute_result"
    }
   ],
   "source": [
    "d = Dec_Cs().conv2d_1\n",
    "x=  d['conv']\n",
    "del d['conv']\n",
    "d['padding']=[1,1]\n",
    "print(d)\n",
    "l = nn.ConvTranspose2d(**d, output_padding=[1,1])\n",
    "x = torch.randn([2, 32, 16,16])\n",
    "y=l(x)\n",
    "y.shape"
   ]
  },
  {
   "cell_type": "code",
   "execution_count": 74,
   "metadata": {},
   "outputs": [],
   "source": [
    "dec = Decoder.create_module_from_const()"
   ]
  },
  {
   "cell_type": "code",
   "execution_count": 75,
   "metadata": {},
   "outputs": [
    {
     "data": {
      "text/plain": [
       "'Decoder(\\n  (pre_uberblock_model): Conv2dReluBatch2d(\\n    (model): Sequential(\\n      (0): ConvTranspose2d(32, 128, kernel_size=[3, 3], stride=[2, 2], padding=[1, 1], output_padding=[1, 1])\\n      (1): ReLU()\\n      (2): BatchNorm2d(128, eps=0.001, momentum=0.1, affine=True, track_running_stats=True)\\n    )\\n  )\\n  (pre_sum_model): Sequential(\\n    (0): UberResBlock(\\n      (model): Sequential(\\n        (0): ResBlock(\\n          (model): Sequential(\\n            (0): Conv2d(128, 128, kernel_size=[3, 3], stride=[1, 1], padding=[1, 1], padding_mode=replicate)\\n            (1): ReLU()\\n            (2): BatchNorm2d(128, eps=0.001, momentum=0.1, affine=True, track_running_stats=True)\\n            (3): Conv2d(128, 128, kernel_size=[3, 3], stride=[1, 1], padding=[1, 1], padding_mode=replicate)\\n          )\\n        )\\n        (1): ResBlock(\\n          (model): Sequential(\\n            (0): Conv2d(128, 128, kernel_size=[3, 3], stride=[1, 1], padding=[1, 1], padding_mode=replicate)\\n            (1): ReLU()\\n            (2): BatchNorm2d(128, eps=0.001, momentum=0.1, affine=True, track_running_stats=True)\\n            (3): Conv2d(128, 128, kernel_size=[3, 3], stride=[1, 1], padding=[1, 1], padding_mode=replicate)\\n          )\\n        )\\n        (2): ResBlock(\\n          (model): Sequential(\\n            (0): Conv2d(128, 128, kernel_size=[3, 3], stride=[1, 1], padding=[1, 1], padding_mode=replicate)\\n            (1): ReLU()\\n            (2): BatchNorm2d(128, eps=0.001, momentum=0.1, affine=True, track_running_stats=True)\\n            (3): Conv2d(128, 128, kernel_size=[3, 3], stride=[1, 1], padding=[1, 1], padding_mode=replicate)\\n          )\\n        )\\n      )\\n    )\\n    (1): UberResBlock(\\n      (model): Sequential(\\n        (0): ResBlock(\\n          (model): Sequential(\\n            (0): Conv2d(128, 128, kernel_size=[3, 3], stride=[1, 1], padding=[1, 1], padding_mode=replicate)\\n            (1): ReLU()\\n            (2): BatchNorm2d(128, eps=0.001, momentum=0.1, affine=True, track_running_stats=True)\\n            (3): Conv2d(128, 128, kernel_size=[3, 3], stride=[1, 1], padding=[1, 1], padding_mode=replicate)\\n          )\\n        )\\n        (1): ResBlock(\\n          (model): Sequential(\\n            (0): Conv2d(128, 128, kernel_size=[3, 3], stride=[1, 1], padding=[1, 1], padding_mode=replicate)\\n            (1): ReLU()\\n            (2): BatchNorm2d(128, eps=0.001, momentum=0.1, affine=True, track_running_stats=True)\\n            (3): Conv2d(128, 128, kernel_size=[3, 3], stride=[1, 1], padding=[1, 1], padding_mode=replicate)\\n          )\\n        )\\n        (2): ResBlock(\\n          (model): Sequential(\\n            (0): Conv2d(128, 128, kernel_size=[3, 3], stride=[1, 1], padding=[1, 1], padding_mode=replicate)\\n            (1): ReLU()\\n            (2): BatchNorm2d(128, eps=0.001, momentum=0.1, affine=True, track_running_stats=True)\\n            (3): Conv2d(128, 128, kernel_size=[3, 3], stride=[1, 1], padding=[1, 1], padding_mode=replicate)\\n          )\\n        )\\n      )\\n    )\\n    (2): UberResBlock(\\n      (model): Sequential(\\n        (0): ResBlock(\\n          (model): Sequential(\\n            (0): Conv2d(128, 128, kernel_size=[3, 3], stride=[1, 1], padding=[1, 1], padding_mode=replicate)\\n            (1): ReLU()\\n            (2): BatchNorm2d(128, eps=0.001, momentum=0.1, affine=True, track_running_stats=True)\\n            (3): Conv2d(128, 128, kernel_size=[3, 3], stride=[1, 1], padding=[1, 1], padding_mode=replicate)\\n          )\\n        )\\n        (1): ResBlock(\\n          (model): Sequential(\\n            (0): Conv2d(128, 128, kernel_size=[3, 3], stride=[1, 1], padding=[1, 1], padding_mode=replicate)\\n            (1): ReLU()\\n            (2): BatchNorm2d(128, eps=0.001, momentum=0.1, affine=True, track_running_stats=True)\\n            (3): Conv2d(128, 128, kernel_size=[3, 3], stride=[1, 1], padding=[1, 1], padding_mode=replicate)\\n          )\\n        )\\n        (2): ResBlock(\\n          (model): Sequential(\\n            (0): Conv2d(128, 128, kernel_size=[3, 3], stride=[1, 1], padding=[1, 1], padding_mode=replicate)\\n            (1): ReLU()\\n            (2): BatchNorm2d(128, eps=0.001, momentum=0.1, affine=True, track_running_stats=True)\\n            (3): Conv2d(128, 128, kernel_size=[3, 3], stride=[1, 1], padding=[1, 1], padding_mode=replicate)\\n          )\\n        )\\n      )\\n    )\\n    (3): UberResBlock(\\n      (model): Sequential(\\n        (0): ResBlock(\\n          (model): Sequential(\\n            (0): Conv2d(128, 128, kernel_size=[3, 3], stride=[1, 1], padding=[1, 1], padding_mode=replicate)\\n            (1): ReLU()\\n            (2): BatchNorm2d(128, eps=0.001, momentum=0.1, affine=True, track_running_stats=True)\\n            (3): Conv2d(128, 128, kernel_size=[3, 3], stride=[1, 1], padding=[1, 1], padding_mode=replicate)\\n          )\\n        )\\n        (1): ResBlock(\\n          (model): Sequential(\\n            (0): Conv2d(128, 128, kernel_size=[3, 3], stride=[1, 1], padding=[1, 1], padding_mode=replicate)\\n            (1): ReLU()\\n            (2): BatchNorm2d(128, eps=0.001, momentum=0.1, affine=True, track_running_stats=True)\\n            (3): Conv2d(128, 128, kernel_size=[3, 3], stride=[1, 1], padding=[1, 1], padding_mode=replicate)\\n          )\\n        )\\n        (2): ResBlock(\\n          (model): Sequential(\\n            (0): Conv2d(128, 128, kernel_size=[3, 3], stride=[1, 1], padding=[1, 1], padding_mode=replicate)\\n            (1): ReLU()\\n            (2): BatchNorm2d(128, eps=0.001, momentum=0.1, affine=True, track_running_stats=True)\\n            (3): Conv2d(128, 128, kernel_size=[3, 3], stride=[1, 1], padding=[1, 1], padding_mode=replicate)\\n          )\\n        )\\n      )\\n    )\\n    (4): UberResBlock(\\n      (model): Sequential(\\n        (0): ResBlock(\\n          (model): Sequential(\\n            (0): Conv2d(128, 128, kernel_size=[3, 3], stride=[1, 1], padding=[1, 1], padding_mode=replicate)\\n            (1): ReLU()\\n            (2): BatchNorm2d(128, eps=0.001, momentum=0.1, affine=True, track_running_stats=True)\\n            (3): Conv2d(128, 128, kernel_size=[3, 3], stride=[1, 1], padding=[1, 1], padding_mode=replicate)\\n          )\\n        )\\n        (1): ResBlock(\\n          (model): Sequential(\\n            (0): Conv2d(128, 128, kernel_size=[3, 3], stride=[1, 1], padding=[1, 1], padding_mode=replicate)\\n            (1): ReLU()\\n            (2): BatchNorm2d(128, eps=0.001, momentum=0.1, affine=True, track_running_stats=True)\\n            (3): Conv2d(128, 128, kernel_size=[3, 3], stride=[1, 1], padding=[1, 1], padding_mode=replicate)\\n          )\\n        )\\n        (2): ResBlock(\\n          (model): Sequential(\\n            (0): Conv2d(128, 128, kernel_size=[3, 3], stride=[1, 1], padding=[1, 1], padding_mode=replicate)\\n            (1): ReLU()\\n            (2): BatchNorm2d(128, eps=0.001, momentum=0.1, affine=True, track_running_stats=True)\\n            (3): Conv2d(128, 128, kernel_size=[3, 3], stride=[1, 1], padding=[1, 1], padding_mode=replicate)\\n          )\\n        )\\n      )\\n    )\\n    (5): ResBlock(\\n      (model): Sequential(\\n        (0): Conv2d(128, 128, kernel_size=[3, 3], stride=[1, 1], padding=[1, 1], padding_mode=replicate)\\n        (1): ReLU()\\n        (2): BatchNorm2d(128, eps=0.001, momentum=0.1, affine=True, track_running_stats=True)\\n        (3): Conv2d(128, 128, kernel_size=[3, 3], stride=[1, 1], padding=[1, 1], padding_mode=replicate)\\n      )\\n    )\\n  )\\n  (post_sum_model): Sequential(\\n    (0): Conv2dReluBatch2d(\\n      (model): Sequential(\\n        (0): ConvTranspose2d(128, 64, kernel_size=[5, 5], stride=[2, 2], padding=[2, 2], output_padding=[1, 1])\\n        (1): ReLU()\\n        (2): BatchNorm2d(64, eps=0.001, momentum=0.1, affine=True, track_running_stats=True)\\n      )\\n    )\\n    (1): ConvTranspose2d(64, 3, kernel_size=[5, 5], stride=[2, 2], padding=[2, 2], output_padding=[1, 1])\\n    (2): ChangeImageStatsToKitti()\\n  )\\n)'"
      ]
     },
     "execution_count": 75,
     "metadata": {},
     "output_type": "execute_result"
    }
   ],
   "source": [
    "repr(dec)"
   ]
  },
  {
   "cell_type": "code",
   "execution_count": null,
   "metadata": {},
   "outputs": [],
   "source": []
  }
 ],
 "metadata": {
  "kernelspec": {
   "display_name": "Python 3.8.2 64-bit ('torch': conda)",
   "language": "python",
   "name": "python38264bittorchconda5a49bb01e90b47d3b7ca1c7fc4dc1607"
  },
  "language_info": {
   "codemirror_mode": {
    "name": "ipython",
    "version": 3
   },
   "file_extension": ".py",
   "mimetype": "text/x-python",
   "name": "python",
   "nbconvert_exporter": "python",
   "pygments_lexer": "ipython3",
   "version": "3.8.2"
  }
 },
 "nbformat": 4,
 "nbformat_minor": 4
}
