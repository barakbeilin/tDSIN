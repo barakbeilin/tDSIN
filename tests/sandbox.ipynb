{
 "cells": [
  {
   "cell_type": "code",
   "execution_count": 1,
   "metadata": {},
   "outputs": [],
   "source": [
    "%load_ext autoreload\n",
    "%autoreload 2"
   ]
  },
  {
   "cell_type": "code",
   "execution_count": 2,
   "metadata": {},
   "outputs": [],
   "source": [
    "import torch\n",
    "from torch import nn\n",
    "import torch.nn.functional as F\n",
    "from typing import Dict, List\n",
    "import enum\n",
    "from enum import Enum"
   ]
  },
  {
   "cell_type": "code",
   "execution_count": 3,
   "metadata": {},
   "outputs": [],
   "source": [
    "from dsin.ae.importance_map import *"
   ]
  },
  {
   "cell_type": "code",
   "execution_count": 4,
   "metadata": {},
   "outputs": [
    {
     "name": "stdout",
     "output_type": "stream",
     "text": [
      "> \u001b[0;32m/mnt/code/repos/tDSIN/src/dsin/ae/importance_map.py\u001b[0m(72)\u001b[0;36mforward\u001b[0;34m()\u001b[0m\n",
      "\u001b[0;32m     71 \u001b[0;31m        \u001b[0;32mimport\u001b[0m \u001b[0mipdb\u001b[0m\u001b[0;34m;\u001b[0m \u001b[0mipdb\u001b[0m\u001b[0;34m.\u001b[0m\u001b[0mset_trace\u001b[0m\u001b[0;34m(\u001b[0m\u001b[0;34m)\u001b[0m\u001b[0;34m\u001b[0m\u001b[0;34m\u001b[0m\u001b[0m\n",
      "\u001b[0m\u001b[0;32m---> 72 \u001b[0;31m        \u001b[0mimportance_map\u001b[0m\u001b[0;34m.\u001b[0m\u001b[0munsqueeze_\u001b[0m\u001b[0;34m(\u001b[0m\u001b[0mCHANNEL_DIM\u001b[0m\u001b[0;34m)\u001b[0m  \u001b[0;31m# N1HW\u001b[0m\u001b[0;34m\u001b[0m\u001b[0;34m\u001b[0m\u001b[0m\n",
      "\u001b[0m\u001b[0;32m     73 \u001b[0;31m\u001b[0;34m\u001b[0m\u001b[0m\n",
      "\u001b[0m\n",
      "ipdb> cl_param\n",
      "tensor([[[0.]]], grad_fn=<ViewBackward>)\n",
      "ipdb> importance_map\n",
      "tensor([[0.5000, 0.5000, 0.5000],\n",
      "        [0.9526, 0.9526, 0.9526]])\n",
      "ipdb> n\n",
      "> \u001b[0;32m/mnt/code/repos/tDSIN/src/dsin/ae/importance_map.py\u001b[0m(74)\u001b[0;36mforward\u001b[0;34m()\u001b[0m\n",
      "\u001b[0;32m     73 \u001b[0;31m\u001b[0;34m\u001b[0m\u001b[0m\n",
      "\u001b[0m\u001b[0;32m---> 74 \u001b[0;31m        \u001b[0mz\u001b[0m \u001b[0;34m=\u001b[0m \u001b[0mx\u001b[0m\u001b[0;34m[\u001b[0m\u001b[0;34m:\u001b[0m\u001b[0;34m,\u001b[0m \u001b[0mMAP_CHANNEL\u001b[0m \u001b[0;34m+\u001b[0m \u001b[0;36m1\u001b[0m \u001b[0;34m:\u001b[0m\u001b[0;34m,\u001b[0m \u001b[0;34m...\u001b[0m\u001b[0;34m]\u001b[0m\u001b[0;34m\u001b[0m\u001b[0;34m\u001b[0m\u001b[0m\n",
      "\u001b[0m\u001b[0;32m     75 \u001b[0;31m\u001b[0;34m\u001b[0m\u001b[0m\n",
      "\u001b[0m\n",
      "ipdb> n\n",
      "> \u001b[0;32m/mnt/code/repos/tDSIN/src/dsin/ae/importance_map.py\u001b[0m(76)\u001b[0;36mforward\u001b[0;34m()\u001b[0m\n",
      "\u001b[0;32m     75 \u001b[0;31m\u001b[0;34m\u001b[0m\u001b[0m\n",
      "\u001b[0m\u001b[0;32m---> 76 \u001b[0;31m        \u001b[0mdiff\u001b[0m \u001b[0;34m=\u001b[0m \u001b[0mimportance_map\u001b[0m \u001b[0;34m-\u001b[0m \u001b[0mcl_param\u001b[0m\u001b[0;34m\u001b[0m\u001b[0;34m\u001b[0m\u001b[0m\n",
      "\u001b[0m\u001b[0;32m     77 \u001b[0;31m\u001b[0;34m\u001b[0m\u001b[0m\n",
      "\u001b[0m\n",
      "ipdb> n\n",
      "> \u001b[0;32m/mnt/code/repos/tDSIN/src/dsin/ae/importance_map.py\u001b[0m(78)\u001b[0;36mforward\u001b[0;34m()\u001b[0m\n",
      "\u001b[0;32m     77 \u001b[0;31m\u001b[0;34m\u001b[0m\u001b[0m\n",
      "\u001b[0m\u001b[0;32m---> 78 \u001b[0;31m        \u001b[0mout_map\u001b[0m \u001b[0;34m=\u001b[0m \u001b[0mMinMaxMap\u001b[0m\u001b[0;34m.\u001b[0m\u001b[0mapply\u001b[0m\u001b[0;34m(\u001b[0m\u001b[0mdiff\u001b[0m\u001b[0;34m)\u001b[0m\u001b[0;34m\u001b[0m\u001b[0;34m\u001b[0m\u001b[0m\n",
      "\u001b[0m\u001b[0;32m     79 \u001b[0;31m\u001b[0;34m\u001b[0m\u001b[0m\n",
      "\u001b[0m\n",
      "ipdb> diff\n",
      "tensor([[[0.5000, 0.5000, 0.5000]],\n",
      "\n",
      "        [[0.9526, 0.9526, 0.9526]]], grad_fn=<SubBackward0>)\n",
      "ipdb> n\n",
      "> \u001b[0;32m/mnt/code/repos/tDSIN/src/dsin/ae/importance_map.py\u001b[0m(80)\u001b[0;36mforward\u001b[0;34m()\u001b[0m\n",
      "\u001b[0;32m     78 \u001b[0;31m        \u001b[0mout_map\u001b[0m \u001b[0;34m=\u001b[0m \u001b[0mMinMaxMap\u001b[0m\u001b[0;34m.\u001b[0m\u001b[0mapply\u001b[0m\u001b[0;34m(\u001b[0m\u001b[0mdiff\u001b[0m\u001b[0;34m)\u001b[0m\u001b[0;34m\u001b[0m\u001b[0;34m\u001b[0m\u001b[0m\n",
      "\u001b[0m\u001b[0;32m     79 \u001b[0;31m\u001b[0;34m\u001b[0m\u001b[0m\n",
      "\u001b[0m\u001b[0;32m---> 80 \u001b[0;31m        \u001b[0;32mreturn\u001b[0m \u001b[0mtorch\u001b[0m\u001b[0;34m.\u001b[0m\u001b[0mmul\u001b[0m\u001b[0;34m(\u001b[0m\u001b[0mout_map\u001b[0m\u001b[0;34m,\u001b[0m \u001b[0mz\u001b[0m\u001b[0;34m)\u001b[0m\u001b[0;34m\u001b[0m\u001b[0;34m\u001b[0m\u001b[0m\n",
      "\u001b[0m\n",
      "ipdb> out_map\n",
      "tensor([[[0.5000, 0.5000, 0.5000]],\n",
      "\n",
      "        [[0.9526, 0.9526, 0.9526]]], grad_fn=<MinMaxMapBackward>)\n",
      "ipdb> z\n",
      "tensor([[[-0.6931, -0.6931, -0.6931]],\n",
      "\n",
      "        [[ 4.0000,  4.0000,  4.0000]]])\n",
      "ipdb> \n",
      "tensor([[[-0.6931, -0.6931, -0.6931]],\n",
      "\n",
      "        [[ 4.0000,  4.0000,  4.0000]]])\n",
      "ipdb> \n",
      "tensor([[[-0.6931, -0.6931, -0.6931]],\n",
      "\n",
      "        [[ 4.0000,  4.0000,  4.0000]]])\n",
      "ipdb> n\n",
      "--Return--\n",
      "tensor([[[-0....MulBackward0>)\n",
      "> \u001b[0;32m/mnt/code/repos/tDSIN/src/dsin/ae/importance_map.py\u001b[0m(80)\u001b[0;36mforward\u001b[0;34m()\u001b[0m\n",
      "\u001b[0;32m     78 \u001b[0;31m        \u001b[0mout_map\u001b[0m \u001b[0;34m=\u001b[0m \u001b[0mMinMaxMap\u001b[0m\u001b[0;34m.\u001b[0m\u001b[0mapply\u001b[0m\u001b[0;34m(\u001b[0m\u001b[0mdiff\u001b[0m\u001b[0;34m)\u001b[0m\u001b[0;34m\u001b[0m\u001b[0;34m\u001b[0m\u001b[0m\n",
      "\u001b[0m\u001b[0;32m     79 \u001b[0;31m\u001b[0;34m\u001b[0m\u001b[0m\n",
      "\u001b[0m\u001b[0;32m---> 80 \u001b[0;31m        \u001b[0;32mreturn\u001b[0m \u001b[0mtorch\u001b[0m\u001b[0;34m.\u001b[0m\u001b[0mmul\u001b[0m\u001b[0;34m(\u001b[0m\u001b[0mout_map\u001b[0m\u001b[0;34m,\u001b[0m \u001b[0mz\u001b[0m\u001b[0;34m)\u001b[0m\u001b[0;34m\u001b[0m\u001b[0;34m\u001b[0m\u001b[0m\n",
      "\u001b[0m\n",
      "ipdb> c\n",
      "tensor([[[ 0.0000,  0.0000,  0.0000],\n",
      "         [-0.6931, -0.6931, -0.6931]],\n",
      "\n",
      "        [[ 3.0000,  3.0000,  3.0000],\n",
      "         [ 4.0000,  4.0000,  4.0000]]])\n",
      "tensor([[[-0.3466, -0.3466, -0.3466]],\n",
      "\n",
      "        [[ 3.8103,  3.8103,  3.8103]]], grad_fn=<MulBackward0>)\n",
      "tensor([[[0.0300, 0.0300, 0.0300],\n",
      "         [0.0800, 0.0800, 0.0800]]])\n"
     ]
    }
   ],
   "source": [
    "x = torch.tensor(\n",
    "            [[[0, 0, 0], [torch.log(torch.tensor(0.5 )), torch.log(torch.tensor(0.5 )), torch.log(torch.tensor(0.5 ))]], [[3, 3, 3], [4, 4, 4]]], dtype=torch.float32\n",
    "        )\n",
    "\n",
    "y = ImportanceMapMult(use_map=True)(x)\n",
    "y_ = 0.01 * torch.tensor([[[3, 3, 3], [8, 8, 8]]], dtype=torch.float32\n",
    "        )\n",
    "print(x)\n",
    "print(y)\n",
    "print(y_)"
   ]
  },
  {
   "cell_type": "code",
   "execution_count": 7,
   "metadata": {},
   "outputs": [
    {
     "data": {
      "text/plain": [
       "0.34655"
      ]
     },
     "execution_count": 7,
     "metadata": {},
     "output_type": "execute_result"
    }
   ],
   "source": [
    "0.6931/2\n"
   ]
  },
  {
   "cell_type": "code",
   "execution_count": 6,
   "metadata": {},
   "outputs": [
    {
     "data": {
      "text/plain": [
       "tensor(2.)"
      ]
     },
     "execution_count": 6,
     "metadata": {},
     "output_type": "execute_result"
    }
   ],
   "source": [
    "torch.exp(-1 * torch.log(torch.tensor(0.5 )))"
   ]
  },
  {
   "cell_type": "code",
   "execution_count": null,
   "metadata": {},
   "outputs": [],
   "source": []
  }
 ],
 "metadata": {
  "kernelspec": {
   "display_name": "Python 3.8.2 64-bit ('torch': conda)",
   "language": "python",
   "name": "python38264bittorchconda5a49bb01e90b47d3b7ca1c7fc4dc1607"
  },
  "language_info": {
   "codemirror_mode": {
    "name": "ipython",
    "version": 3
   },
   "file_extension": ".py",
   "mimetype": "text/x-python",
   "name": "python",
   "nbconvert_exporter": "python",
   "pygments_lexer": "ipython3",
   "version": "3.8.2"
  }
 },
 "nbformat": 4,
 "nbformat_minor": 4
}
