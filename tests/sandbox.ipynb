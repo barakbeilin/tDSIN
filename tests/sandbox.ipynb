{
 "cells": [
  {
   "cell_type": "code",
   "execution_count": 1,
   "metadata": {},
   "outputs": [],
   "source": [
    "%load_ext autoreload\n",
    "%autoreload 2"
   ]
  },
  {
   "cell_type": "code",
   "execution_count": 2,
   "metadata": {},
   "outputs": [],
   "source": [
    "import torch\n",
    "from torch import nn\n",
    "import torch.nn.functional as F\n",
    "from typing import Dict, List\n",
    "import enum\n",
    "from enum import Enum"
   ]
  },
  {
   "cell_type": "code",
   "execution_count": 3,
   "metadata": {},
   "outputs": [],
   "source": [
    "loss = nn.L1Loss()\n",
    "input = torch.randn((5,3,100,100),requires_grad=True).type(torch.IntTensor)\n",
    "target = torch.randn((5,3,100,100)).type(torch.IntTensor)\n",
    "output = loss(input.type(torch.FloatTensor),target.type(torch.FloatTensor))\n",
    "# output.backward()"
   ]
  },
  {
   "cell_type": "code",
   "execution_count": 4,
   "metadata": {},
   "outputs": [
    {
     "data": {
      "text/plain": [
       "tensor(0.6308)"
      ]
     },
     "execution_count": 4,
     "metadata": {},
     "output_type": "execute_result"
    }
   ],
   "source": [
    "output"
   ]
  },
  {
   "cell_type": "code",
   "execution_count": 5,
   "metadata": {},
   "outputs": [
    {
     "name": "stdout",
     "output_type": "stream",
     "text": [
      "tensor([[[[ 0.9009, -0.5723,  0.0437],\n",
      "          [-0.5582, -0.8173, -0.4655],\n",
      "          [-0.8701, -1.5004, -0.7463]],\n",
      "\n",
      "         [[-1.3048,  0.9603, -0.8188],\n",
      "          [-0.1367,  1.5603, -0.7161],\n",
      "          [ 0.9372,  0.4035, -0.4294]],\n",
      "\n",
      "         [[ 0.2327, -1.0298,  0.6911],\n",
      "          [-1.0015, -0.7070, -0.3873],\n",
      "          [-1.1069, -0.0227,  0.9062]]],\n",
      "\n",
      "\n",
      "        [[[-0.1942, -0.2089, -0.9500],\n",
      "          [ 0.3621,  0.3777, -0.6210],\n",
      "          [-0.0608,  1.0170, -0.3952]],\n",
      "\n",
      "         [[ 0.3119,  1.4708,  2.4395],\n",
      "          [ 0.3720, -0.0422,  0.5695],\n",
      "          [ 0.6272,  0.2199, -0.7634]],\n",
      "\n",
      "         [[ 0.1969,  0.1644, -0.6884],\n",
      "          [ 1.5595,  0.7583, -1.0937],\n",
      "          [-0.4991,  0.7702,  1.3888]]],\n",
      "\n",
      "\n",
      "        [[[-0.0509,  1.8764,  1.6843],\n",
      "          [ 1.0088,  1.4056, -1.0742],\n",
      "          [-0.8527, -0.9473, -0.1777]],\n",
      "\n",
      "         [[-1.8530, -0.9539, -1.7705],\n",
      "          [ 0.8422,  0.6674,  0.0851],\n",
      "          [ 1.4085,  0.4294,  1.5051]],\n",
      "\n",
      "         [[ 0.1551,  1.1732, -0.7833],\n",
      "          [-1.5835,  0.4379, -0.9872],\n",
      "          [ 1.3127, -0.4734,  0.0955]]],\n",
      "\n",
      "\n",
      "        [[[ 0.5425, -0.5894, -1.3833],\n",
      "          [-0.6466,  1.9668,  0.6778],\n",
      "          [-0.3964, -0.2065,  0.7933]],\n",
      "\n",
      "         [[-1.1879,  0.8867, -0.3055],\n",
      "          [-1.1469, -0.2312,  0.8944],\n",
      "          [ 0.3184,  0.4326, -0.9331]],\n",
      "\n",
      "         [[-0.6830, -0.0947,  0.9013],\n",
      "          [-0.4707,  0.9039, -1.1654],\n",
      "          [ 1.7706, -0.8407,  0.1261]]],\n",
      "\n",
      "\n",
      "        [[[-1.5185,  0.2043,  0.8963],\n",
      "          [-0.3586, -0.3509,  0.4518],\n",
      "          [-0.8120, -0.4749, -1.0886]],\n",
      "\n",
      "         [[ 0.3034,  1.6210, -1.6182],\n",
      "          [-0.3799,  0.5876, -0.0500],\n",
      "          [ 0.7877,  0.1713, -1.5235]],\n",
      "\n",
      "         [[-2.2992,  0.4801, -0.5375],\n",
      "          [-2.5079,  0.0907,  0.5125],\n",
      "          [-1.5307,  1.4693,  0.6693]]]]) tensor([[[[ 0,  0,  0],\n",
      "          [ 0,  0,  0],\n",
      "          [ 0, -1,  0]],\n",
      "\n",
      "         [[-1,  0,  0],\n",
      "          [ 0,  1,  0],\n",
      "          [ 0,  0,  0]],\n",
      "\n",
      "         [[ 0, -1,  0],\n",
      "          [-1,  0,  0],\n",
      "          [-1,  0,  0]]],\n",
      "\n",
      "\n",
      "        [[[ 0,  0,  0],\n",
      "          [ 0,  0,  0],\n",
      "          [ 0,  1,  0]],\n",
      "\n",
      "         [[ 0,  1,  2],\n",
      "          [ 0,  0,  0],\n",
      "          [ 0,  0,  0]],\n",
      "\n",
      "         [[ 0,  0,  0],\n",
      "          [ 1,  0, -1],\n",
      "          [ 0,  0,  1]]],\n",
      "\n",
      "\n",
      "        [[[ 0,  1,  1],\n",
      "          [ 1,  1, -1],\n",
      "          [ 0,  0,  0]],\n",
      "\n",
      "         [[-1,  0, -1],\n",
      "          [ 0,  0,  0],\n",
      "          [ 1,  0,  1]],\n",
      "\n",
      "         [[ 0,  1,  0],\n",
      "          [-1,  0,  0],\n",
      "          [ 1,  0,  0]]],\n",
      "\n",
      "\n",
      "        [[[ 0,  0, -1],\n",
      "          [ 0,  1,  0],\n",
      "          [ 0,  0,  0]],\n",
      "\n",
      "         [[-1,  0,  0],\n",
      "          [-1,  0,  0],\n",
      "          [ 0,  0,  0]],\n",
      "\n",
      "         [[ 0,  0,  0],\n",
      "          [ 0,  0, -1],\n",
      "          [ 1,  0,  0]]],\n",
      "\n",
      "\n",
      "        [[[-1,  0,  0],\n",
      "          [ 0,  0,  0],\n",
      "          [ 0,  0, -1]],\n",
      "\n",
      "         [[ 0,  1, -1],\n",
      "          [ 0,  0,  0],\n",
      "          [ 0,  0, -1]],\n",
      "\n",
      "         [[-2,  0,  0],\n",
      "          [-2,  0,  0],\n",
      "          [-1,  1,  0]]]], dtype=torch.int32)\n"
     ]
    }
   ],
   "source": [
    "y= torch.randn((5,3,3,3), dtype = torch.float32)\n",
    "y1 =y.type(torch.IntTensor)\n",
    "print(y,y1)\n",
    "\n"
   ]
  },
  {
   "cell_type": "code",
   "execution_count": 6,
   "metadata": {},
   "outputs": [],
   "source": [
    "from dsin.ae.autoencoder_imgcomp import *"
   ]
  },
  {
   "cell_type": "code",
   "execution_count": 7,
   "metadata": {},
   "outputs": [],
   "source": [
    "x = ChangeImageStatsToKitti(ChangeState.NORMALIZE)"
   ]
  },
  {
   "cell_type": "code",
   "execution_count": 8,
   "metadata": {},
   "outputs": [],
   "source": [
    "from dsin.ae.si_net import *"
   ]
  },
  {
   "cell_type": "code",
   "execution_count": 9,
   "metadata": {},
   "outputs": [
    {
     "data": {
      "text/plain": [
       "'SiNet(\\n  (model): Sequential(\\n    (0): Conv2d(3, 32, kernel_size=[3, 3], stride=(1, 1), padding=[1, 1], padding_mode=replicate)\\n    (1): LeakyReLU(negative_slope=0.2)\\n    (2): Conv2d(32, 32, kernel_size=[3, 3], stride=(1, 1), padding=[2, 2], dilation=(2, 2), padding_mode=replicate)\\n    (3): LeakyReLU(negative_slope=0.2)\\n    (4): Conv2d(32, 32, kernel_size=[3, 3], stride=(1, 1), padding=[4, 4], dilation=(4, 4), padding_mode=replicate)\\n    (5): LeakyReLU(negative_slope=0.2)\\n    (6): Conv2d(32, 32, kernel_size=[3, 3], stride=(1, 1), padding=[8, 8], dilation=(8, 8), padding_mode=replicate)\\n    (7): LeakyReLU(negative_slope=0.2)\\n    (8): Conv2d(32, 32, kernel_size=[3, 3], stride=(1, 1), padding=[16, 16], dilation=(16, 16), padding_mode=replicate)\\n    (9): LeakyReLU(negative_slope=0.2)\\n    (10): Conv2d(32, 32, kernel_size=[3, 3], stride=(1, 1), padding=[32, 32], dilation=(32, 32), padding_mode=replicate)\\n    (11): LeakyReLU(negative_slope=0.2)\\n    (12): Conv2d(32, 32, kernel_size=[3, 3], stride=(1, 1), padding=[64, 64], dilation=(64, 64), padding_mode=replicate)\\n    (13): LeakyReLU(negative_slope=0.2)\\n    (14): Conv2d(32, 32, kernel_size=[3, 3], stride=(1, 1), padding=[128, 128], dilation=(128, 128), padding_mode=replicate)\\n    (15): LeakyReLU(negative_slope=0.2)\\n    (16): Conv2d(32, 3, kernel_size=[1, 1], stride=(1, 1))\\n  )\\n)'"
      ]
     },
     "execution_count": 9,
     "metadata": {},
     "output_type": "execute_result"
    }
   ],
   "source": [
    "l = SiNet()\n",
    "x = torch.randn([3,3,320,320])\n",
    "repr(l)"
   ]
  },
  {
   "cell_type": "code",
   "execution_count": 10,
   "metadata": {},
   "outputs": [
    {
     "name": "stdout",
     "output_type": "stream",
     "text": [
      "tensor(0.0723, grad_fn=<VarBackward0>)\n",
      "tensor(0.0067, grad_fn=<VarBackward0>)\n",
      "tensor(0.0067, grad_fn=<VarBackward0>)\n",
      "tensor(0.0067, grad_fn=<VarBackward0>)\n",
      "tensor(0.0067, grad_fn=<VarBackward0>)\n",
      "tensor(0.0067, grad_fn=<VarBackward0>)\n",
      "tensor(0.0068, grad_fn=<VarBackward0>)\n",
      "tensor(0.0068, grad_fn=<VarBackward0>)\n",
      "tensor(0.0664, grad_fn=<VarBackward0>)\n"
     ]
    }
   ],
   "source": [
    "for param in l.parameters():\n",
    "    if len(param.shape)== 4:\n",
    "        print(torch.var(param))"
   ]
  },
  {
   "cell_type": "code",
   "execution_count": 11,
   "metadata": {},
   "outputs": [
    {
     "data": {
      "text/plain": [
       "0.0625"
      ]
     },
     "execution_count": 11,
     "metadata": {},
     "output_type": "execute_result"
    }
   ],
   "source": [
    "1/16"
   ]
  },
  {
   "cell_type": "code",
   "execution_count": 12,
   "metadata": {},
   "outputs": [
    {
     "ename": "AttributeError",
     "evalue": "'LeakyReLU' object has no attribute 'weight'",
     "output_type": "error",
     "traceback": [
      "\u001b[0;31m---------------------------------------------------------------------------\u001b[0m",
      "\u001b[0;31mAttributeError\u001b[0m                            Traceback (most recent call last)",
      "\u001b[0;32m<ipython-input-12-dfdadb0ab5d3>\u001b[0m in \u001b[0;36m<module>\u001b[0;34m\u001b[0m\n\u001b[1;32m      1\u001b[0m \u001b[0ml\u001b[0m \u001b[0;34m=\u001b[0m  \u001b[0mnn\u001b[0m\u001b[0;34m.\u001b[0m\u001b[0mLeakyReLU\u001b[0m\u001b[0;34m(\u001b[0m\u001b[0;36m0.2\u001b[0m\u001b[0;34m)\u001b[0m \u001b[0;31m#nn.Conv2d(1,1,[3,3]) #nn.ReLU()\u001b[0m\u001b[0;34m\u001b[0m\u001b[0;34m\u001b[0m\u001b[0m\n\u001b[0;32m----> 2\u001b[0;31m \u001b[0mgetattr\u001b[0m\u001b[0;34m(\u001b[0m\u001b[0ml\u001b[0m\u001b[0;34m,\u001b[0m\u001b[0;34m\"weight\"\u001b[0m\u001b[0;34m)\u001b[0m\u001b[0;34m\u001b[0m\u001b[0;34m\u001b[0m\u001b[0m\n\u001b[0m",
      "\u001b[0;32m~/anaconda3/envs/torch/lib/python3.8/site-packages/torch/nn/modules/module.py\u001b[0m in \u001b[0;36m__getattr__\u001b[0;34m(self, name)\u001b[0m\n\u001b[1;32m    591\u001b[0m             \u001b[0;32mif\u001b[0m \u001b[0mname\u001b[0m \u001b[0;32min\u001b[0m \u001b[0mmodules\u001b[0m\u001b[0;34m:\u001b[0m\u001b[0;34m\u001b[0m\u001b[0;34m\u001b[0m\u001b[0m\n\u001b[1;32m    592\u001b[0m                 \u001b[0;32mreturn\u001b[0m \u001b[0mmodules\u001b[0m\u001b[0;34m[\u001b[0m\u001b[0mname\u001b[0m\u001b[0;34m]\u001b[0m\u001b[0;34m\u001b[0m\u001b[0;34m\u001b[0m\u001b[0m\n\u001b[0;32m--> 593\u001b[0;31m         raise AttributeError(\"'{}' object has no attribute '{}'\".format(\n\u001b[0m\u001b[1;32m    594\u001b[0m             type(self).__name__, name))\n\u001b[1;32m    595\u001b[0m \u001b[0;34m\u001b[0m\u001b[0m\n",
      "\u001b[0;31mAttributeError\u001b[0m: 'LeakyReLU' object has no attribute 'weight'"
     ]
    }
   ],
   "source": [
    "l =  nn.LeakyReLU(0.2) #nn.Conv2d(1,1,[3,3]) #nn.ReLU()\n",
    "getattr(l,\"weight\")"
   ]
  },
  {
   "cell_type": "code",
   "execution_count": 13,
   "metadata": {},
   "outputs": [],
   "source": [
    "from enum import Enum\n",
    "class SiNetChannelIn(Enum):\n",
    "    WithSideInformation = 3\n",
    "    NoSideInformation = 6"
   ]
  },
  {
   "cell_type": "code",
   "execution_count": 15,
   "metadata": {},
   "outputs": [
    {
     "data": {
      "text/plain": [
       "4"
      ]
     },
     "execution_count": 15,
     "metadata": {},
     "output_type": "execute_result"
    }
   ],
   "source": [
    "SiNetChannelIn.WithSideInformation.value +1 "
   ]
  },
  {
   "cell_type": "code",
   "execution_count": null,
   "metadata": {},
   "outputs": [],
   "source": []
  }
 ],
 "metadata": {
  "kernelspec": {
   "display_name": "Python 3.8.2 64-bit ('torch': conda)",
   "language": "python",
   "name": "python38264bittorchconda5a49bb01e90b47d3b7ca1c7fc4dc1607"
  },
  "language_info": {
   "codemirror_mode": {
    "name": "ipython",
    "version": 3
   },
   "file_extension": ".py",
   "mimetype": "text/x-python",
   "name": "python",
   "nbconvert_exporter": "python",
   "pygments_lexer": "ipython3",
   "version": "3.8.2"
  }
 },
 "nbformat": 4,
 "nbformat_minor": 4
}
